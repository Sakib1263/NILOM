{
 "cells": [
  {
   "cell_type": "markdown",
   "metadata": {
    "id": "sFyb0y7PUJOo"
   },
   "source": [
    "# Iberdrola Project - Phase 2 [Occupancy Detection]"
   ]
  },
  {
   "cell_type": "markdown",
   "metadata": {
    "id": "W9vTr2NhcGAA"
   },
   "source": [
    "# Test GPU (Optional)\n",
    "Before Starting, kindly check the available GPU from the Google Server, GPU model and other related information. It might help!"
   ]
  },
  {
   "cell_type": "code",
   "execution_count": 10,
   "metadata": {},
   "outputs": [
    {
     "name": "stdout",
     "output_type": "stream",
     "text": [
      "Is CUDA enabled GPU Available? True\n",
      "GPU Number: 1\n",
      "Current GPU Index: 0\n",
      "GPU Type: NVIDIA GeForce RTX 3080 Ti Laptop GPU\n",
      "GPU Capability: (8, 6)\n",
      "Is GPU Initialized yet? True\n",
      "2.1.2+cu121\n"
     ]
    }
   ],
   "source": [
    "import torch\n",
    "print(\"Is CUDA enabled GPU Available?\", torch.cuda.is_available())\n",
    "print(\"GPU Number:\", torch.cuda.device_count())\n",
    "print(\"Current GPU Index:\", torch.cuda.current_device())\n",
    "print(\"GPU Type:\", torch.cuda.get_device_name(device=None))\n",
    "print(\"GPU Capability:\", torch.cuda.get_device_capability(device=None))\n",
    "print(\"Is GPU Initialized yet?\", torch.cuda.is_initialized())\n",
    "print(torch.__version__)"
   ]
  },
  {
   "cell_type": "markdown",
   "metadata": {
    "id": "tgW7r0C9TuZk"
   },
   "source": [
    "# Import Libraries"
   ]
  },
  {
   "cell_type": "code",
   "execution_count": 11,
   "metadata": {
    "id": "eMhBhz1CrMb3"
   },
   "outputs": [],
   "source": [
    "import os\n",
    "import h5py\n",
    "import scipy\n",
    "import random\n",
    "import pickle\n",
    "import json\n",
    "import configparser\n",
    "import numpy as np\n",
    "import pandas as pd\n",
    "import seaborn as sns\n",
    "import scipy.io as sio\n",
    "import tensorflow as tf\n",
    "import matplotlib.pyplot as plt\n",
    "from sklearn.metrics import mean_squared_error, mean_absolute_error, r2_score, classification_report, confusion_matrix\n",
    "from sklearn.model_selection import train_test_split\n",
    "from scipy.io import loadmat, savemat\n",
    "from pathlib import Path\n",
    "from tqdm import tqdm\n",
    "from scipy import stats"
   ]
  },
  {
   "cell_type": "code",
   "execution_count": 12,
   "metadata": {
    "id": "03JA1kRfzoit"
   },
   "outputs": [],
   "source": [
    "%matplotlib inline\n",
    "sns.set_style('white')"
   ]
  },
  {
   "cell_type": "markdown",
   "metadata": {},
   "source": [
    "# Import and Prepare Data"
   ]
  },
  {
   "cell_type": "markdown",
   "metadata": {},
   "source": [
    "## Prepare Dataset for Training"
   ]
  },
  {
   "cell_type": "markdown",
   "metadata": {},
   "source": [
    "Import and Extract Data"
   ]
  },
  {
   "cell_type": "code",
   "execution_count": 13,
   "metadata": {},
   "outputs": [
    {
     "name": "stdout",
     "output_type": "stream",
     "text": [
      "<KeysViewHDF5 ['data_occupancy', 'data_plugs', 'data_sm']>\n",
      "(74, 86400, 6)\n",
      "(74, 86400, 1)\n",
      "False\n",
      "False\n",
      "False\n",
      "False\n"
     ]
    }
   ],
   "source": [
    "# Import\n",
    "fl_Data = h5py.File(os.path.join('Raw_Data/Phase_2_Exp_2/H05_Data_Matched_Occupancy.mat'), 'r')\n",
    "print(fl_Data.keys())\n",
    "# Extract\n",
    "X_Data = np.swapaxes(np.swapaxes(np.array(fl_Data['data_plugs']),0,1),1,2)\n",
    "Y_Data = np.expand_dims(np.array(fl_Data['data_occupancy']), axis=2)\n",
    "X_Data_shape = X_Data.shape\n",
    "Y_Data_shape = Y_Data.shape\n",
    "print(X_Data_shape)\n",
    "print(Y_Data_shape)\n",
    "sample_num = X_Data_shape[0]\n",
    "segment_length = X_Data_shape[1]\n",
    "num_channels = X_Data_shape[2]\n",
    "# Check for NaNs and InFs\n",
    "data = pd.Series(X_Data.ravel())\n",
    "print(data.isna().any())\n",
    "print(data.isin([np.inf, -np.inf]).any())\n",
    "data = pd.Series(Y_Data.ravel())\n",
    "print(data.isna().any())\n",
    "print(data.isin([np.inf, -np.inf]).any())"
   ]
  },
  {
   "cell_type": "markdown",
   "metadata": {},
   "source": [
    "Plot Raw Segments"
   ]
  },
  {
   "cell_type": "code",
   "execution_count": null,
   "metadata": {},
   "outputs": [],
   "source": [
    "segment_length = 86400\n",
    "i = random.randint(0, X_Data_shape[0])\n",
    "plt.figure(figsize=(32,18))\n",
    "'''Kitchen_Appliances'''\n",
    "plt.subplot(7,1,1)\n",
    "plt.plot(X_Data[i,:,0], linewidth=3, label='Kitchen Appliances GT', color='navy')\n",
    "plt.title(f\"House 05 - Kitchen Appliances - Sample {i}\", fontdict={'fontsize': 22})\n",
    "plt.xlim((0,segment_length))\n",
    "plt.tick_params(labelsize=16, colors='k')\n",
    "plt.legend()\n",
    "plt.tight_layout()\n",
    "'''Microwave'''\n",
    "plt.subplot(7,1,2)\n",
    "plt.plot(X_Data[i,:,1], linewidth=3, label='Microwave GT', color='navy')\n",
    "plt.title(f\"Microwave\", fontdict={'fontsize': 22})\n",
    "plt.xlim((0,segment_length))\n",
    "plt.tick_params(labelsize=16, colors='k')\n",
    "plt.legend()\n",
    "plt.tight_layout()\n",
    "'''Fridge'''\n",
    "plt.subplot(7,1,3)\n",
    "plt.plot(X_Data[i,:,2], linewidth=3, label='Fridge GT', color='navy')\n",
    "plt.title(f\"Fridge\", fontdict={'fontsize': 22})\n",
    "plt.xlim((0,segment_length))\n",
    "plt.tick_params(labelsize=16, colors='k')\n",
    "plt.legend()\n",
    "plt.tight_layout()\n",
    "'''Entertainment'''\n",
    "plt.subplot(7,1,4)\n",
    "plt.plot(X_Data[i,:,3], linewidth=3, label='Entertainment GT', color='navy')\n",
    "plt.title(f\"Entertainment\", fontdict={'fontsize': 22})\n",
    "plt.xlim((0,segment_length))\n",
    "plt.tick_params(labelsize=16, colors='k')\n",
    "plt.legend()\n",
    "plt.tight_layout()\n",
    "'''PC and Router'''\n",
    "plt.subplot(7,1,5)\n",
    "plt.plot(X_Data[i,:,4], linewidth=3, label='PC and Router GT', color='navy')\n",
    "plt.title(f\"PC and Router\", fontdict={'fontsize': 22})\n",
    "plt.xlim((0,segment_length))\n",
    "plt.tick_params(labelsize=16, colors='k')\n",
    "plt.legend()\n",
    "plt.tight_layout()\n",
    "'''Kettle'''\n",
    "plt.subplot(7,1,6)\n",
    "plt.plot(X_Data[i,:,5], linewidth=3, label='Kettle GT', color='navy')\n",
    "plt.title(f\"Kettle\", fontdict={'fontsize': 22})\n",
    "plt.xlim((0,segment_length))\n",
    "plt.tick_params(labelsize=16, colors='k')\n",
    "plt.legend()\n",
    "plt.tight_layout()\n",
    "'''Occupancy Label'''\n",
    "plt.subplot(7,1,7)\n",
    "plt.plot(Y_Data[i,:,0], linewidth=3, label='Occupancy Label GT', color='navy')\n",
    "plt.title(f\"Occupancy Label\", fontdict={'fontsize': 22})\n",
    "plt.xlim((0,segment_length))\n",
    "plt.tick_params(labelsize=16, colors='k')\n",
    "plt.legend()\n",
    "plt.tight_layout()"
   ]
  },
  {
   "cell_type": "markdown",
   "metadata": {},
   "source": [
    "Transform Data"
   ]
  },
  {
   "cell_type": "code",
   "execution_count": 14,
   "metadata": {},
   "outputs": [
    {
     "name": "stdout",
     "output_type": "stream",
     "text": [
      "(74, 86400, 6)\n",
      "(74, 86400, 1)\n",
      "[0 1]\n"
     ]
    }
   ],
   "source": [
    "X_Data_Shape = X_Data.shape\n",
    "sample_num = X_Data_Shape[0]\n",
    "segment_length = X_Data_Shape[1]\n",
    "num_channels = X_Data_Shape[2]\n",
    "X_Data_New = np.zeros((sample_num,segment_length,num_channels))\n",
    "# Step 1: Range Normalize Data based on [0 1] threshold\n",
    "counter = 0\n",
    "threshold1 = 0\n",
    "for i in range(0,sample_num):\n",
    "    X_Data_Temp = X_Data[i,:,:]\n",
    "    for ii in range(0,num_channels):\n",
    "        X_Data_Temp_Ch = X_Data_Temp[:,ii]\n",
    "        for iii in range(0,segment_length):\n",
    "            X_Data_Temp_Ch_Point = X_Data_Temp_Ch[iii]\n",
    "            if X_Data_Temp_Ch_Point > threshold1:\n",
    "                X_Data_Temp_Ch_Point = 1\n",
    "            X_Data_New[counter,iii,ii] = X_Data_Temp_Ch_Point\n",
    "    counter = counter + 1\n",
    "X_Data_New = np.int_(X_Data_New[0:counter,:,:])\n",
    "print(X_Data_New.shape)\n",
    "print(Y_Data.shape)\n",
    "print(np.unique(X_Data_New))"
   ]
  },
  {
   "cell_type": "code",
   "execution_count": 15,
   "metadata": {},
   "outputs": [
    {
     "name": "stdout",
     "output_type": "stream",
     "text": [
      "(74, 86400, 6)\n",
      "(74, 86400, 1)\n"
     ]
    }
   ],
   "source": [
    "# Step 2: Merge short pulses into longer one based on threshold duration\n",
    "X_Data_Shape = X_Data_New.shape\n",
    "sample_num = X_Data_Shape[0]\n",
    "segment_length = X_Data_Shape[1]\n",
    "num_channels = X_Data_Shape[2]\n",
    "counter = 0\n",
    "threshold2 = 3600\n",
    "for i in range(0,sample_num):\n",
    "    X_Data_Temp = X_Data_New[i,:,:]\n",
    "    for ii in range(0,num_channels):\n",
    "        X_Data_Temp_Ch = X_Data_Temp[:,ii]\n",
    "        if np.var(X_Data_Temp_Ch) > 0:\n",
    "            transition_points = []\n",
    "            for iii in range(1,segment_length):\n",
    "                X_Data_Temp_Ch_Previous_Point = X_Data_Temp_Ch[iii-1]\n",
    "                X_Data_Temp_Ch_Current_Point = X_Data_Temp_Ch[iii]\n",
    "                if X_Data_Temp_Ch_Previous_Point != X_Data_Temp_Ch_Current_Point:\n",
    "                    transition_points.append(iii)\n",
    "            # print(transition_points)\n",
    "            for iii in range(1,len(transition_points)):\n",
    "                if ((transition_points[iii-1]-300) >= 0) and ((transition_points[iii-1]+300) < segment_length):\n",
    "                    X_Data_Temp_Ch[transition_points[iii-1]-300:transition_points[iii-1]+300] = 1\n",
    "                elif ((transition_points[iii-1]-300) < 0) and ((transition_points[iii-1]+300) < segment_length):\n",
    "                    X_Data_Temp_Ch[0:transition_points[iii-1]+300] = 1\n",
    "                elif ((transition_points[iii-1]-300) >= 0) and ((transition_points[iii-1]+300) >= segment_length):\n",
    "                    X_Data_Temp_Ch[transition_points[iii-1]-300:segment_length] = 1\n",
    "                transition_interval = transition_points[iii] - transition_points[iii-1]\n",
    "                if transition_interval <= threshold2:\n",
    "                    X_Data_Temp_Ch[transition_points[iii-1]:transition_points[iii]] = 1\n",
    "        X_Data_New[counter,:,ii] = X_Data_Temp_Ch\n",
    "    counter = counter + 1\n",
    "X_Data_New = X_Data_New[0:counter,:,:]\n",
    "print(X_Data_New.shape)\n",
    "print(Y_Data.shape)"
   ]
  },
  {
   "cell_type": "markdown",
   "metadata": {},
   "source": [
    "Data Pruning - Select channels with an acceptable number of datapoints (optional, for only multichannel)"
   ]
  },
  {
   "cell_type": "code",
   "execution_count": 16,
   "metadata": {},
   "outputs": [
    {
     "name": "stdout",
     "output_type": "stream",
     "text": [
      "Microwave\n",
      "0.00989543925356319\n",
      "Fridge\n",
      "-0.04956170565072658\n",
      "PC and Router\n",
      "-0.021836950610700706\n",
      "(74, 86400, 3)\n",
      "(74, 86400, 1)\n"
     ]
    }
   ],
   "source": [
    "thresh = 0.05\n",
    "X_Data_Pruned = np.zeros((sample_num,segment_length,num_channels))\n",
    "device_list = ['Kitchen Appliances','Microwave','Fridge','Entertainment','PC and Router','Kettle']\n",
    "counter = 0\n",
    "for i in range(0,num_channels):\n",
    "    data_current_channel = X_Data_New[:,:,i]\n",
    "    data_current_channel_corr, _ = stats.pearsonr(data_current_channel.ravel(), Y_Data.ravel())\n",
    "    # data_current_channel_var = np.var(data_current_channel.ravel())\n",
    "    if (data_current_channel_corr < thresh) or (i == 2):\n",
    "        print(device_list[i])\n",
    "        print(data_current_channel_corr)\n",
    "        continue\n",
    "    else:\n",
    "        X_Data_Pruned[:,:,counter] = data_current_channel\n",
    "        counter = counter + 1\n",
    "X_Data_Pruned = X_Data_Pruned[:,:,0:counter]\n",
    "X_Data_Shape = X_Data_Pruned.shape\n",
    "num_channels = X_Data_Shape[2]\n",
    "print(X_Data_Pruned.shape)\n",
    "print(Y_Data.shape)"
   ]
  },
  {
   "cell_type": "markdown",
   "metadata": {},
   "source": [
    "Plot again"
   ]
  },
  {
   "cell_type": "code",
   "execution_count": 43,
   "metadata": {},
   "outputs": [
    {
     "data": {
      "image/png": "[encoded data removed]",
      "text/plain": [
       "<Figure size 3200x1400 with 5 Axes>"
      ]
     },
     "metadata": {},
     "output_type": "display_data"
    }
   ],
   "source": [
    "segment_length = 86400\n",
    "i = random.randint(0, X_Data_shape[0])\n",
    "plt.figure(figsize=(32,14))\n",
    "'''Kitchen_Appliances'''\n",
    "plt.subplot(5,1,1)\n",
    "plt.plot(X_Data_New[i,:,0], linewidth=3, label='Kitchen Appliances GT', color='navy')\n",
    "plt.plot(X_Data[i,:,0], linewidth=3, label='Kitchen Appliances GT', color='red')\n",
    "plt.title(f\"House 05 - Kitchen Appliances - Sample {i}\", fontdict={'fontsize': 22})\n",
    "plt.xlim((0,segment_length))\n",
    "plt.tick_params(labelsize=16, colors='k')\n",
    "plt.legend()\n",
    "plt.tight_layout()\n",
    "'''Microwave'''\n",
    "plt.subplot(5,1,2)\n",
    "plt.plot(X_Data_New[i,:,1], linewidth=3, label='Microwave GT', color='navy')\n",
    "plt.plot(X_Data[i,:,1], linewidth=3, label='Microwave GT', color='red')\n",
    "plt.title(f\"Microwave\", fontdict={'fontsize': 22})\n",
    "plt.xlim((0,segment_length))\n",
    "plt.tick_params(labelsize=16, colors='k')\n",
    "plt.legend()\n",
    "plt.tight_layout()\n",
    "'''Entertainment'''\n",
    "plt.subplot(5,1,3)\n",
    "plt.plot(X_Data_New[i,:,2], linewidth=3, label='Entertainment GT', color='navy')\n",
    "plt.plot(X_Data[i,:,3], linewidth=3, label='Entertainment GT', color='red')\n",
    "plt.title(f\"Entertainment\", fontdict={'fontsize': 22})\n",
    "plt.xlim((0,segment_length))\n",
    "plt.tick_params(labelsize=16, colors='k')\n",
    "plt.legend()\n",
    "plt.tight_layout()\n",
    "'''Kettle'''\n",
    "plt.subplot(5,1,4)\n",
    "plt.plot(X_Data_New[i,:,3], linewidth=3, label='Kettle GT', color='navy')\n",
    "plt.plot(X_Data[i,:,5], linewidth=3, label='Kettle GT', color='red')\n",
    "plt.title(f\"Kettle\", fontdict={'fontsize': 22})\n",
    "plt.xlim((0,segment_length))\n",
    "plt.tick_params(labelsize=16, colors='k')\n",
    "plt.legend()\n",
    "plt.tight_layout()\n",
    "'''Occupancy Label'''\n",
    "plt.subplot(5,1,5)\n",
    "plt.plot(Y_Data[i,:,0], linewidth=3, label='Occupancy Label GT', color='navy')\n",
    "plt.title(f\"Occupancy Label\", fontdict={'fontsize': 22})\n",
    "plt.xlim((0,segment_length))\n",
    "plt.tick_params(labelsize=16, colors='k')\n",
    "plt.legend()\n",
    "plt.tight_layout()"
   ]
  },
  {
   "cell_type": "markdown",
   "metadata": {},
   "source": [
    "Combine Channels"
   ]
  },
  {
   "cell_type": "code",
   "execution_count": 17,
   "metadata": {},
   "outputs": [
    {
     "name": "stdout",
     "output_type": "stream",
     "text": [
      "(74, 86400, 1)\n",
      "(74, 86400, 1)\n",
      "[0 1]\n",
      "[0. 1.]\n"
     ]
    }
   ],
   "source": [
    "X_Data_Shape = X_Data_New.shape\n",
    "Y_Data_Shape = Y_Data.shape\n",
    "sample_num = X_Data_Shape[0]\n",
    "segment_length = X_Data_Shape[1]\n",
    "num_channels = X_Data_Shape[2]\n",
    "X_Data_AGG = np.zeros((sample_num,segment_length,1))\n",
    "counter = 0\n",
    "for i in range(0,sample_num):\n",
    "    X_Data_Temp = X_Data_New[i,:,:]\n",
    "    X_Data_Temp = np.sum(X_Data_Temp, axis=1)\n",
    "    X_Data_Temp[X_Data_Temp > 0] = 1\n",
    "    X_Data_AGG[counter,:,0] = X_Data_Temp\n",
    "    counter = counter + 1\n",
    "X_Data_AGG = np.int_(X_Data_AGG[0:counter,:,:])\n",
    "print(X_Data_AGG.shape)\n",
    "print(Y_Data.shape)\n",
    "print(np.unique(X_Data_AGG))\n",
    "print(np.unique(Y_Data))"
   ]
  },
  {
   "cell_type": "markdown",
   "metadata": {},
   "source": [
    "Plot Aggregated Ground Truth"
   ]
  },
  {
   "cell_type": "code",
   "execution_count": 20,
   "metadata": {},
   "outputs": [
    {
     "data": {
      "image/png": "[encoded data removed]",
      "text/plain": [
       "<Figure size 3200x600 with 2 Axes>"
      ]
     },
     "metadata": {},
     "output_type": "display_data"
    }
   ],
   "source": [
    "segment_length = 86400\n",
    "i = random.randint(0, X_Data_AGG.shape[0]-1)\n",
    "'''Dishwasher'''\n",
    "plt.figure(figsize=(32,6))\n",
    "plt.subplot(2,1,1)\n",
    "plt.plot(X_Data_AGG[i,:,0], linewidth=3, label='Aggregated Data GT', color='navy')\n",
    "plt.title(f\"House 05 - Aggregated Appliance Data - Sample {i}\", fontdict={'fontsize': 22})\n",
    "plt.xlim((0,segment_length))\n",
    "plt.tick_params(labelsize=16, colors='k')\n",
    "plt.legend()\n",
    "'''Occupancy Label'''\n",
    "plt.subplot(2,1,2)\n",
    "plt.plot(Y_Data[i,:,0], linewidth=3, label='Occupancy Label GT', color='navy')\n",
    "plt.title(f\"Occupancy Label\", fontdict={'fontsize': 22})\n",
    "plt.xlim((0,segment_length))\n",
    "# plt.ylim((0,1))\n",
    "plt.tick_params(labelsize=16, colors='k')\n",
    "plt.legend()\n",
    "plt.tight_layout()"
   ]
  },
  {
   "cell_type": "markdown",
   "metadata": {},
   "source": [
    "Cleanse and Save House 05 data for the combined approach"
   ]
  },
  {
   "cell_type": "code",
   "execution_count": 18,
   "metadata": {},
   "outputs": [
    {
     "name": "stdout",
     "output_type": "stream",
     "text": [
      "(31, 86400, 1)\n",
      "(31, 86400, 1)\n",
      "[0 1]\n",
      "[0 1]\n"
     ]
    }
   ],
   "source": [
    "# Curate\n",
    "X_Data_Shape = X_Data_AGG.shape\n",
    "Y_Data_Shape = Y_Data.shape\n",
    "sample_num = X_Data_Shape[0]\n",
    "segment_length = X_Data_Shape[1]\n",
    "num_channels = X_Data_Shape[2]\n",
    "X_Data_Curated = np.zeros((sample_num,segment_length,num_channels))\n",
    "Y_Data_Curated = np.zeros((sample_num,segment_length,1))\n",
    "counter = 0\n",
    "for i in range(0,sample_num):\n",
    "    X_Data_Temp = X_Data_AGG[i,:,:]\n",
    "    Y_Data_Temp = Y_Data[i,:,:]\n",
    "    Y_Data_Temp_SUM = np.sum(Y_Data_Temp)\n",
    "    if (Y_Data_Temp_SUM < np.round(0.01*segment_length)) or (Y_Data_Temp_SUM > np.round(0.99*segment_length)):\n",
    "        continue\n",
    "    if (np.var(X_Data_Temp) > 0.0001):\n",
    "        X_Data_Curated[counter,:,:] = X_Data_Temp\n",
    "        Y_Data_Curated[counter,:,:] = Y_Data_Temp\n",
    "        counter = counter + 1\n",
    "X_Data_Curated = np.int_(X_Data_Curated[0:counter,:,:])\n",
    "Y_Data_Curated = np.int_(Y_Data_Curated[0:counter,:,:])\n",
    "print(X_Data_Curated.shape)\n",
    "print(Y_Data_Curated.shape)\n",
    "print(np.unique(X_Data_Curated))\n",
    "print(np.unique(Y_Data_Curated))\n",
    "# Save\n",
    "data_dic = {\"X_Data\": X_Data_Curated,\n",
    "            \"Y_Data\": Y_Data_Curated,\n",
    "            }\n",
    "savemat(\"Occupancy_Data_Curated_House_05_V2.mat\", data_dic, format='5')"
   ]
  },
  {
   "cell_type": "markdown",
   "metadata": {},
   "source": [
    "Create Folds - Train and Test Sets - 20% for Test - 10% for Validation"
   ]
  },
  {
   "cell_type": "code",
   "execution_count": 19,
   "metadata": {},
   "outputs": [
    {
     "name": "stdout",
     "output_type": "stream",
     "text": [
      "(59, 86400, 1)\n",
      "(59, 86400, 1)\n",
      "(15, 86400, 1)\n",
      "(15, 86400, 1)\n",
      "(15, 86400, 1)\n",
      "(15, 86400, 1)\n"
     ]
    }
   ],
   "source": [
    "X_Train, X_Test, Y_Train, Y_Test = train_test_split(X_Data_AGG, Y_Data, test_size=0.2, random_state=0)\n",
    "X_Val = X_Test\n",
    "Y_Val = Y_Test\n",
    "print(X_Train.shape)\n",
    "print(Y_Train.shape)\n",
    "print(X_Test.shape)\n",
    "print(Y_Test.shape)\n",
    "print(X_Val.shape)\n",
    "print(Y_Val.shape)"
   ]
  },
  {
   "cell_type": "markdown",
   "metadata": {},
   "source": [
    "Overlap Train Set"
   ]
  },
  {
   "cell_type": "code",
   "execution_count": 20,
   "metadata": {},
   "outputs": [
    {
     "name": "stdout",
     "output_type": "stream",
     "text": [
      "(59, 86400, 1)\n",
      "(59, 86400, 1)\n",
      "(5097600, 1)\n",
      "(5097600, 1)\n",
      "(581, 86400, 1)\n",
      "(581, 86400, 1)\n"
     ]
    }
   ],
   "source": [
    "# Overlap\n",
    "X_Data_Shape = X_Train.shape\n",
    "Y_Data_Shape = Y_Train.shape\n",
    "segment_length = X_Data_Shape[1]\n",
    "num_channels = X_Data_Shape[2]\n",
    "print(X_Data_Shape)\n",
    "print(Y_Data_Shape)\n",
    "# Reshape Array\n",
    "X_Data_Reshaped = np.reshape(X_Train, (X_Data_Shape[0]*X_Data_Shape[1], num_channels))\n",
    "Y_Data_Reshaped = np.reshape(Y_Train, (Y_Data_Shape[0]*Y_Data_Shape[1], 1))\n",
    "X_Data_Reshaped_Shape = X_Data_Reshaped.shape\n",
    "Y_Data_Reshaped_Shape = Y_Data_Reshaped.shape\n",
    "print(X_Data_Reshaped_Shape)\n",
    "print(Y_Data_Reshaped_Shape)\n",
    "# Overlap\n",
    "overlap_ratio = 0.9\n",
    "offset_amount = np.int_(segment_length*(1 - overlap_ratio))\n",
    "X_Data_New = np.zeros((2000,segment_length,num_channels))\n",
    "Y_Data_New = np.zeros((2000,segment_length,1))\n",
    "num_segments_approx = np.int_(np.ceil(X_Data_Reshaped_Shape[0]/offset_amount))\n",
    "counter = 0\n",
    "for i in range(0,num_segments_approx):\n",
    "    if (i*offset_amount+segment_length) > X_Data_Reshaped_Shape[0]:\n",
    "        continue\n",
    "    X_Data_Temp = X_Data_Reshaped[i*offset_amount:i*offset_amount+segment_length,:]\n",
    "    X_Data_New[counter,:,:] = X_Data_Temp\n",
    "    Y_Data_Temp = Y_Data_Reshaped[i*offset_amount:i*offset_amount+segment_length,:]\n",
    "    Y_Data_New[counter,:,:] = Y_Data_Temp\n",
    "    counter = counter + 1\n",
    "X_Train_OVRL = X_Data_New[0:counter,:,:]\n",
    "Y_Train_OVRL = Y_Data_New[0:counter,:,:]\n",
    "print(X_Train_OVRL.shape)\n",
    "print(Y_Train_OVRL.shape)"
   ]
  },
  {
   "cell_type": "markdown",
   "metadata": {},
   "source": [
    "Transform Labels for Classification"
   ]
  },
  {
   "cell_type": "code",
   "execution_count": 21,
   "metadata": {},
   "outputs": [],
   "source": [
    "def transform_labels(X_Data_OVRL, Y_Data_OVRL, segment_length, num_channels):\n",
    "    X_Data_New = np.zeros((20000,num_channels,segment_length))\n",
    "    Y_Data_New = np.zeros((20000,1), dtype=int)\n",
    "    ## Raw Dataset\n",
    "    X_Data_Shape = X_Data_OVRL.shape\n",
    "    Y_Data_Shape = Y_Data_OVRL.shape\n",
    "    # Reshape Array\n",
    "    X_Data_Reshaped = np.reshape(X_Data_OVRL, (X_Data_Shape[0]*X_Data_Shape[1], num_channels))\n",
    "    Y_Data_Reshaped = np.reshape(Y_Data_OVRL, (Y_Data_Shape[0]*Y_Data_Shape[1], 1))\n",
    "    X_Data_Reshaped_Shape = X_Data_Reshaped.shape\n",
    "    Y_Data_Reshaped_Shape = Y_Data_Reshaped.shape\n",
    "    num_segments_approx = np.int_(np.ceil(X_Data_Reshaped_Shape[0]/segment_length))\n",
    "    counter = 0\n",
    "    for i in range(0,num_segments_approx):\n",
    "        if ((i+1)*segment_length) > X_Data_Reshaped_Shape[0]:\n",
    "            continue\n",
    "        X_Data_Temp = np.transpose(X_Data_Reshaped[i*segment_length:(i+1)*segment_length,:])\n",
    "        X_Data_Temp_Mean = np.mean(X_Data_Temp)\n",
    "        X_Data_Temp_VAR = np.var(X_Data_Temp)\n",
    "        X_Data_New[counter,:,:] = X_Data_Temp\n",
    "        Y_Data_Temp = Y_Data_Reshaped[i*segment_length:(i+1)*segment_length,:]\n",
    "        Y_Data_Temp_Mean = np.mean(Y_Data_Temp)\n",
    "        Y_Data_Temp_VAR = np.var(Y_Data_Temp)\n",
    "        Y_Data_Temp_SUM = np.sum(Y_Data_Temp)\n",
    "        if X_Data_Temp_VAR <= 0.001:\n",
    "            continue\n",
    "        # if Y_Data_Temp_VAR <= 0.001:\n",
    "            # continue\n",
    "        if (Y_Data_Temp_SUM < np.round(0.1*segment_length)) or (Y_Data_Temp_SUM > np.round(0.90*segment_length)):\n",
    "            continue\n",
    "        # if Y_Data_Temp_SUM == segment_length:\n",
    "            # continue\n",
    "        if Y_Data_Temp_Mean > 0.5:\n",
    "            Y_Label = 1\n",
    "        else:\n",
    "            Y_Label = 0\n",
    "        Y_Data_New[counter,:] = Y_Label\n",
    "        counter = counter + 1\n",
    "    X_Data_New = X_Data_New[0:counter,:,:]\n",
    "    Y_Data_New = Y_Data_New[0:counter,:]\n",
    "    return X_Data_New, Y_Data_New"
   ]
  },
  {
   "cell_type": "code",
   "execution_count": 22,
   "metadata": {},
   "outputs": [
    {
     "name": "stdout",
     "output_type": "stream",
     "text": [
      "(100, 1, 1200)\n",
      "(100, 1)\n",
      "(5, 1, 1200)\n",
      "(5, 1)\n",
      "(5, 1, 1200)\n",
      "(5, 1)\n",
      "[0 1] [42 58]\n",
      "[0 1] [3 2]\n",
      "[0 1] [3 2]\n"
     ]
    }
   ],
   "source": [
    "segment_length = 1200  # 20 Minutes = 1200 Data Points (1 Hz sampling rate)\n",
    "X_Train_C, Y_Train_C = transform_labels(X_Train_OVRL, Y_Train_OVRL, segment_length, num_channels)\n",
    "X_Test_C, Y_Test_C = transform_labels(X_Test, Y_Test, segment_length, num_channels)\n",
    "X_Val_C, Y_Val_C = transform_labels(X_Test, Y_Test, segment_length, num_channels)\n",
    "print(X_Train_C.shape)\n",
    "print(Y_Train_C.shape)\n",
    "print(X_Test_C.shape)\n",
    "print(Y_Test_C.shape)\n",
    "print(X_Val_C.shape)\n",
    "print(Y_Val_C.shape)\n",
    "labels, counts = np.unique(Y_Train_C, return_counts=True)\n",
    "print(labels, counts)\n",
    "labels, counts = np.unique(Y_Test_C, return_counts=True)\n",
    "print(labels, counts)\n",
    "labels, counts = np.unique(Y_Val_C, return_counts=True)\n",
    "print(labels, counts)\n"
   ]
  },
  {
   "cell_type": "markdown",
   "metadata": {},
   "source": [
    "Balance train set (if required)"
   ]
  },
  {
   "cell_type": "code",
   "execution_count": 23,
   "metadata": {},
   "outputs": [
    {
     "name": "stdout",
     "output_type": "stream",
     "text": [
      "(84, 1, 1200)\n",
      "(84, 1)\n"
     ]
    }
   ],
   "source": [
    "Y_Train_0_indices = np.where(Y_Train_C == 0)[0]\n",
    "X_Train_C_0 = np.take(X_Train_C, Y_Train_0_indices, axis=0)\n",
    "Y_Train_C_0 = np.take(Y_Train_C, Y_Train_0_indices, axis=0)\n",
    "Y_Train_1_indices = np.where(Y_Train_C == 1)[0]\n",
    "X_Train_C_1 = np.take(X_Train_C, Y_Train_1_indices, axis=0)\n",
    "Y_Train_C_1 = np.take(Y_Train_C, Y_Train_1_indices, axis=0)\n",
    "#\n",
    "Y_Train_C_0_shape = Y_Train_C_0.shape\n",
    "Y_Train_C_1_shape = Y_Train_C_1.shape\n",
    "Y_Train_C_shape = Y_Train_C.shape\n",
    "if Y_Train_C_1_shape[0] > Y_Train_C_0_shape[0]:\n",
    "    index = np.random.choice(Y_Train_C_1_shape[0], Y_Train_C_0_shape[0], replace=False)\n",
    "    X_Train_1 = X_Train_C_1[index]\n",
    "    Y_Train_1 = Y_Train_C_1[index]\n",
    "    X_Train = np.concatenate([X_Train_C_0, X_Train_1], axis=0)\n",
    "    Y_Train = np.concatenate([Y_Train_C_0, Y_Train_1], axis=0)\n",
    "elif Y_Train_C_0_shape[0] > Y_Train_C_1_shape[0]:\n",
    "    index = np.random.choice(Y_Train_C_0_shape[0], Y_Train_C_1_shape[0], replace=False)\n",
    "    X_Train_0 = X_Train_C_0[index]\n",
    "    Y_Train_0 = Y_Train_C_0[index]\n",
    "    X_Train = np.concatenate([X_Train_C_1, X_Train_0], axis=0)\n",
    "    Y_Train = np.concatenate([Y_Train_C_1, Y_Train_0], axis=0)\n",
    "#\n",
    "X_Train_C = X_Train\n",
    "Y_Train_C = Y_Train\n",
    "print(X_Train_C.shape)\n",
    "print(Y_Train_C.shape)"
   ]
  },
  {
   "cell_type": "code",
   "execution_count": 24,
   "metadata": {},
   "outputs": [],
   "source": [
    "train_data_dic = {\"X_Train\": X_Train_C,\n",
    "                  \"Y_Train\": Y_Train_C,\n",
    "                  \"X_Test\": X_Test_C,\n",
    "                  \"Y_Test\": Y_Test_C,\n",
    "                  \"X_Val\": X_Test_C,\n",
    "                  \"Y_Val\": Y_Test_C,\n",
    "                  }\n",
    "savemat(\"Data/Data_Fold_1.mat\", train_data_dic, format='5')"
   ]
  },
  {
   "cell_type": "markdown",
   "metadata": {
    "id": "_qTwozk_BS94"
   },
   "source": [
    "Garbage Collector"
   ]
  },
  {
   "cell_type": "code",
   "execution_count": null,
   "metadata": {
    "colab": {
     "base_uri": "https://localhost:8080/"
    },
    "executionInfo": {
     "elapsed": 16,
     "status": "ok",
     "timestamp": 1633010341331,
     "user": {
      "displayName": "Sakib Mahmud",
      "photoUrl": "https://lh3.googleusercontent.com/a-/AOh14Gg8lG2uTygQr7y6fmQUo67XXUtrCVGaEakj_P33Ft8=s64",
      "userId": "03961007737707022852"
     },
     "user_tz": -180
    },
    "id": "ch2jmn3jKKiH",
    "outputId": "c9807e23-ff6c-428d-f6e3-4f5e6382e71d"
   },
   "outputs": [
    {
     "data": {
      "text/plain": [
       "0"
      ]
     },
     "execution_count": 65,
     "metadata": {},
     "output_type": "execute_result"
    }
   ],
   "source": [
    "import gc #Garbage Collector\n",
    "fl_Data = None\n",
    "X_Test = None\n",
    "X_Train = None\n",
    "X_Val = None\n",
    "Y_Test = None\n",
    "Y_Train = None\n",
    "Y_Val = None\n",
    "gc.collect()"
   ]
  },
  {
   "cell_type": "markdown",
   "metadata": {
    "id": "RHq0FrX9iAsq"
   },
   "source": [
    "# MAIN"
   ]
  },
  {
   "cell_type": "markdown",
   "metadata": {
    "id": "yozhkF-OJWu2"
   },
   "source": [
    "## Configurations"
   ]
  },
  {
   "cell_type": "code",
   "execution_count": 25,
   "metadata": {
    "id": "Mai6ZRMeiFvA"
   },
   "outputs": [
    {
     "name": "stdout",
     "output_type": "stream",
     "text": [
      "Config file 'Config_Train.ini' created\n"
     ]
    }
   ],
   "source": [
    "# CREATE OBJECT\n",
    "config_file = configparser.ConfigParser()\n",
    "# ADD NEW SECTION AND SETTINGS\n",
    "config_file[\"TRAIN\"] = {\n",
    "    'parentdir': '',  # Root or Parent Directory\n",
    "    'datafile': 'Data',  # Folder containing the dataset\n",
    "    'val_size': 0.0,  # Validation percentage for splitting\n",
    "    'q_order': 3,  # q-order for the Self-ONN or Super-ONN Models\n",
    "    'batch_size': 2,  # Batch Size, Change to fit hardware\n",
    "    'lossType': 'SoftM_MSE',  # loss function: 'SoftM_CELoss' or 'SoftM_MSE' or 'MSE'\n",
    "    'optim_fc': 'Adam',  # 'Adam' or 'SGD'\n",
    "    'lr': 0.0005,  # learning rate\n",
    "    'stop_criteria': 'accuracy',  # Stopping criteria: 'loss' or 'accuracy'\n",
    "    'n_epochs': 500,  # number of training epochs\n",
    "    'epochs_patience': 6,\n",
    "    'lr_factor': 0.1,  # lr_factor, if val loss did not decrease for a number of epochs (epochs_patience) then decrease learning rate by a factor of lr_factor\n",
    "    'max_epochs_stop': 30,  # maximum number of epochs with no improvement in validation loss for early stopping\n",
    "    'num_folds': 1,  # number of cross validation folds\n",
    "    'load_model': False,  # load model: True or False\n",
    "    'load_model_path': 'Results_Classification\\RODNet_Occp_Classification\\Fold_1\\RODNet_Occp_Classification_fold_1.pt',  # specify path of pretrained model wieghts or set to False to train from scratch\n",
    "    'model_to_load': 'RODNet',  # choose one of the following models: 'CNN_1' 'CNN_2' 'CNN_2' 'CNN_3' 'SelfResNet18' 'ResNet'\n",
    "    'model_name': 'RODNet_Occp_Classification',  # choose a unique name for result folder\n",
    "    'aux_logits': False,  # Required for models with auxilliary outputs (e.g., InceptionV3)  \n",
    "    'fold_start': 1,  # The starting fold for training\n",
    "    'fold_last': 1,  # The last fold for training\n",
    "    'results_path': 'Results_Classification',  # main results folder\n",
    "}\n",
    "\n",
    "# SAVE CONFIG FILE\n",
    "with open(r\"Config_Train.ini\", 'w') as configfileObj:\n",
    "    config_file.write(configfileObj)\n",
    "    configfileObj.flush()\n",
    "    configfileObj.close()\n",
    "\n",
    "print(\"Config file 'Config_Train.ini' created\")"
   ]
  },
  {
   "cell_type": "markdown",
   "metadata": {
    "id": "nWQQ-U2bJ2Js"
   },
   "source": [
    "## Train"
   ]
  },
  {
   "cell_type": "code",
   "execution_count": 26,
   "metadata": {
    "id": "YSLqe-8gJ2R8"
   },
   "outputs": [
    {
     "name": "stdout",
     "output_type": "stream",
     "text": [
      "Train on gpu: True\n",
      "1 GPUs detected.\n",
      "Training using RODNet network\n",
      "Starting training with Fold 1\n",
      "Shape of Train Data: (84, 1, 1200)\n",
      "Shape of Train Label: (84, 1)\n",
      "Shape of Validation Data: (5, 1, 1200)\n",
      "Shape of Validation Label: (5, 1)\n",
      "Shape of Test Data: (5, 1, 1200)\n",
      "Shape of Test Label: (5, 1)\n",
      "Classes: [0 1]\n",
      "No. of Classes: 2\n",
      "model device: cuda\n",
      "Starting Training from Scratch.\n",
      "\n"
     ]
    },
    {
     "name": "stderr",
     "output_type": "stream",
     "text": [
      "Epoch 0: 100%|██████████| 42/42 [00:00<00:00, 47.92it/s]\n",
      "c:\\Users\\Sakib Mahmud\\AppData\\Local\\Programs\\Python\\Python311\\Lib\\site-packages\\torch\\nn\\modules\\loss.py:535: UserWarning: Using a target size (torch.Size([2])) that is different to the input size (torch.Size([1, 2])). This will likely lead to incorrect results due to broadcasting. Please ensure they have the same size.\n",
      "  return F.mse_loss(input, target, reduction=self.reduction)\n"
     ]
    },
    {
     "name": "stdout",
     "output_type": "stream",
     "text": [
      "\n",
      "Epoch: 0 \tTraining Loss: 0.2340 \tValidation Loss: 0.1384 \tTest Loss: 0.1384\n",
      "\t\tTraining Accuracy: 63.10%\t Validation Accuracy: 80.00%\t Test Accuracy: 80.00%\n"
     ]
    },
    {
     "name": "stderr",
     "output_type": "stream",
     "text": [
      "Epoch 1: 100%|██████████| 42/42 [00:00<00:00, 74.88it/s]\n"
     ]
    },
    {
     "name": "stdout",
     "output_type": "stream",
     "text": [
      "\n",
      "Epoch: 1 \tTraining Loss: 0.2115 \tValidation Loss: 0.1463 \tTest Loss: 0.1463\n",
      "\t\tTraining Accuracy: 70.24%\t Validation Accuracy: 80.00%\t Test Accuracy: 80.00%\n"
     ]
    },
    {
     "name": "stderr",
     "output_type": "stream",
     "text": [
      "Epoch 2: 100%|██████████| 42/42 [00:00<00:00, 73.92it/s]\n"
     ]
    },
    {
     "name": "stdout",
     "output_type": "stream",
     "text": [
      "\n",
      "Epoch: 2 \tTraining Loss: 0.2179 \tValidation Loss: 0.1785 \tTest Loss: 0.1785\n",
      "\t\tTraining Accuracy: 60.71%\t Validation Accuracy: 80.00%\t Test Accuracy: 80.00%\n"
     ]
    },
    {
     "name": "stderr",
     "output_type": "stream",
     "text": [
      "Epoch 3: 100%|██████████| 42/42 [00:00<00:00, 79.47it/s]\n"
     ]
    },
    {
     "name": "stdout",
     "output_type": "stream",
     "text": [
      "\n",
      "Epoch: 3 \tTraining Loss: 0.2114 \tValidation Loss: 0.1705 \tTest Loss: 0.1705\n",
      "\t\tTraining Accuracy: 65.48%\t Validation Accuracy: 80.00%\t Test Accuracy: 80.00%\n"
     ]
    },
    {
     "name": "stderr",
     "output_type": "stream",
     "text": [
      "Epoch 4: 100%|██████████| 42/42 [00:00<00:00, 81.13it/s]\n"
     ]
    },
    {
     "name": "stdout",
     "output_type": "stream",
     "text": [
      "\n",
      "Epoch: 4 \tTraining Loss: 0.2116 \tValidation Loss: 0.1339 \tTest Loss: 0.1339\n",
      "\t\tTraining Accuracy: 64.29%\t Validation Accuracy: 80.00%\t Test Accuracy: 80.00%\n"
     ]
    },
    {
     "name": "stderr",
     "output_type": "stream",
     "text": [
      "Epoch 5: 100%|██████████| 42/42 [00:00<00:00, 78.02it/s]\n"
     ]
    },
    {
     "name": "stdout",
     "output_type": "stream",
     "text": [
      "\n",
      "Epoch: 5 \tTraining Loss: 0.1914 \tValidation Loss: 0.1319 \tTest Loss: 0.1319\n",
      "\t\tTraining Accuracy: 67.86%\t Validation Accuracy: 80.00%\t Test Accuracy: 80.00%\n"
     ]
    },
    {
     "name": "stderr",
     "output_type": "stream",
     "text": [
      "Epoch 6: 100%|██████████| 42/42 [00:00<00:00, 81.30it/s]\n"
     ]
    },
    {
     "name": "stdout",
     "output_type": "stream",
     "text": [
      "\n",
      "Epoch: 6 \tTraining Loss: 0.2003 \tValidation Loss: 0.1568 \tTest Loss: 0.1568\n",
      "\t\tTraining Accuracy: 70.24%\t Validation Accuracy: 80.00%\t Test Accuracy: 80.00%\n"
     ]
    },
    {
     "name": "stderr",
     "output_type": "stream",
     "text": [
      "Epoch 7: 100%|██████████| 42/42 [00:00<00:00, 77.06it/s]\n"
     ]
    },
    {
     "name": "stdout",
     "output_type": "stream",
     "text": [
      "\n",
      "Epoch: 7 \tTraining Loss: 0.1918 \tValidation Loss: 0.1407 \tTest Loss: 0.1407\n",
      "\t\tTraining Accuracy: 71.43%\t Validation Accuracy: 80.00%\t Test Accuracy: 80.00%\n"
     ]
    },
    {
     "name": "stderr",
     "output_type": "stream",
     "text": [
      "Epoch 8: 100%|██████████| 42/42 [00:00<00:00, 80.80it/s]\n"
     ]
    },
    {
     "name": "stdout",
     "output_type": "stream",
     "text": [
      "\n",
      "Epoch: 8 \tTraining Loss: 0.1934 \tValidation Loss: 0.1605 \tTest Loss: 0.1605\n",
      "\t\tTraining Accuracy: 70.24%\t Validation Accuracy: 80.00%\t Test Accuracy: 80.00%\n"
     ]
    },
    {
     "name": "stderr",
     "output_type": "stream",
     "text": [
      "Epoch 9: 100%|██████████| 42/42 [00:00<00:00, 76.63it/s]\n"
     ]
    },
    {
     "name": "stdout",
     "output_type": "stream",
     "text": [
      "\n",
      "Epoch: 9 \tTraining Loss: 0.2066 \tValidation Loss: 0.1735 \tTest Loss: 0.1735\n",
      "\t\tTraining Accuracy: 69.05%\t Validation Accuracy: 80.00%\t Test Accuracy: 80.00%\n"
     ]
    },
    {
     "name": "stderr",
     "output_type": "stream",
     "text": [
      "Epoch 10: 100%|██████████| 42/42 [00:00<00:00, 78.44it/s]\n"
     ]
    },
    {
     "name": "stdout",
     "output_type": "stream",
     "text": [
      "\n",
      "Epoch: 10 \tTraining Loss: 0.1995 \tValidation Loss: 0.2693 \tTest Loss: 0.2693\n",
      "\t\tTraining Accuracy: 65.48%\t Validation Accuracy: 60.00%\t Test Accuracy: 60.00%\n"
     ]
    },
    {
     "name": "stderr",
     "output_type": "stream",
     "text": [
      "Epoch 11: 100%|██████████| 42/42 [00:00<00:00, 84.07it/s]\n"
     ]
    },
    {
     "name": "stdout",
     "output_type": "stream",
     "text": [
      "\n",
      "Epoch: 11 \tTraining Loss: 0.2167 \tValidation Loss: 0.1741 \tTest Loss: 0.1741\n",
      "\t\tTraining Accuracy: 64.29%\t Validation Accuracy: 80.00%\t Test Accuracy: 80.00%\n"
     ]
    },
    {
     "name": "stderr",
     "output_type": "stream",
     "text": [
      "Epoch 12: 100%|██████████| 42/42 [00:00<00:00, 76.36it/s]\n"
     ]
    },
    {
     "name": "stdout",
     "output_type": "stream",
     "text": [
      "\n",
      "Epoch: 12 \tTraining Loss: 0.1873 \tValidation Loss: 0.2022 \tTest Loss: 0.2022\n",
      "\t\tTraining Accuracy: 69.05%\t Validation Accuracy: 80.00%\t Test Accuracy: 80.00%\n"
     ]
    },
    {
     "name": "stderr",
     "output_type": "stream",
     "text": [
      "Epoch 13: 100%|██████████| 42/42 [00:00<00:00, 79.83it/s]\n"
     ]
    },
    {
     "name": "stdout",
     "output_type": "stream",
     "text": [
      "\n",
      "Epoch: 13 \tTraining Loss: 0.1815 \tValidation Loss: 0.2935 \tTest Loss: 0.2935\n",
      "\t\tTraining Accuracy: 71.43%\t Validation Accuracy: 60.00%\t Test Accuracy: 60.00%\n"
     ]
    },
    {
     "name": "stderr",
     "output_type": "stream",
     "text": [
      "Epoch 14: 100%|██████████| 42/42 [00:00<00:00, 73.19it/s]\n"
     ]
    },
    {
     "name": "stdout",
     "output_type": "stream",
     "text": [
      "\n",
      "Epoch: 14 \tTraining Loss: 0.1905 \tValidation Loss: 0.1297 \tTest Loss: 0.1297\n",
      "\t\tTraining Accuracy: 69.05%\t Validation Accuracy: 80.00%\t Test Accuracy: 80.00%\n"
     ]
    },
    {
     "name": "stderr",
     "output_type": "stream",
     "text": [
      "Epoch 15: 100%|██████████| 42/42 [00:00<00:00, 82.40it/s]\n"
     ]
    },
    {
     "name": "stdout",
     "output_type": "stream",
     "text": [
      "\n",
      "Epoch: 15 \tTraining Loss: 0.1864 \tValidation Loss: 0.1552 \tTest Loss: 0.1552\n",
      "\t\tTraining Accuracy: 70.24%\t Validation Accuracy: 80.00%\t Test Accuracy: 80.00%\n"
     ]
    },
    {
     "name": "stderr",
     "output_type": "stream",
     "text": [
      "Epoch 16: 100%|██████████| 42/42 [00:00<00:00, 83.12it/s]\n"
     ]
    },
    {
     "name": "stdout",
     "output_type": "stream",
     "text": [
      "\n",
      "Epoch: 16 \tTraining Loss: 0.1800 \tValidation Loss: 0.1386 \tTest Loss: 0.1386\n",
      "\t\tTraining Accuracy: 67.86%\t Validation Accuracy: 80.00%\t Test Accuracy: 80.00%\n"
     ]
    },
    {
     "name": "stderr",
     "output_type": "stream",
     "text": [
      "Epoch 17: 100%|██████████| 42/42 [00:00<00:00, 80.83it/s]\n"
     ]
    },
    {
     "name": "stdout",
     "output_type": "stream",
     "text": [
      "\n",
      "Epoch: 17 \tTraining Loss: 0.1729 \tValidation Loss: 0.1539 \tTest Loss: 0.1539\n",
      "\t\tTraining Accuracy: 73.81%\t Validation Accuracy: 80.00%\t Test Accuracy: 80.00%\n"
     ]
    },
    {
     "name": "stderr",
     "output_type": "stream",
     "text": [
      "Epoch 18: 100%|██████████| 42/42 [00:00<00:00, 76.08it/s]\n"
     ]
    },
    {
     "name": "stdout",
     "output_type": "stream",
     "text": [
      "\n",
      "Epoch: 18 \tTraining Loss: 0.1834 \tValidation Loss: 0.2448 \tTest Loss: 0.2448\n",
      "\t\tTraining Accuracy: 73.81%\t Validation Accuracy: 60.00%\t Test Accuracy: 60.00%\n"
     ]
    },
    {
     "name": "stderr",
     "output_type": "stream",
     "text": [
      "Epoch 19: 100%|██████████| 42/42 [00:00<00:00, 78.76it/s]\n"
     ]
    },
    {
     "name": "stdout",
     "output_type": "stream",
     "text": [
      "\n",
      "Epoch: 19 \tTraining Loss: 0.1698 \tValidation Loss: 0.1644 \tTest Loss: 0.1644\n",
      "\t\tTraining Accuracy: 73.81%\t Validation Accuracy: 80.00%\t Test Accuracy: 80.00%\n"
     ]
    },
    {
     "name": "stderr",
     "output_type": "stream",
     "text": [
      "Epoch 20: 100%|██████████| 42/42 [00:00<00:00, 83.95it/s]\n"
     ]
    },
    {
     "name": "stdout",
     "output_type": "stream",
     "text": [
      "\n",
      "Epoch: 20 \tTraining Loss: 0.1642 \tValidation Loss: 0.1483 \tTest Loss: 0.1483\n",
      "\t\tTraining Accuracy: 72.62%\t Validation Accuracy: 80.00%\t Test Accuracy: 80.00%\n"
     ]
    },
    {
     "name": "stderr",
     "output_type": "stream",
     "text": [
      "Epoch 21: 100%|██████████| 42/42 [00:00<00:00, 79.89it/s]\n"
     ]
    },
    {
     "name": "stdout",
     "output_type": "stream",
     "text": [
      "\n",
      "Epoch: 21 \tTraining Loss: 0.1608 \tValidation Loss: 0.1443 \tTest Loss: 0.1443\n",
      "\t\tTraining Accuracy: 72.62%\t Validation Accuracy: 80.00%\t Test Accuracy: 80.00%\n"
     ]
    },
    {
     "name": "stderr",
     "output_type": "stream",
     "text": [
      "Epoch 22: 100%|██████████| 42/42 [00:00<00:00, 84.39it/s]\n"
     ]
    },
    {
     "name": "stdout",
     "output_type": "stream",
     "text": [
      "\n",
      "Epoch: 22 \tTraining Loss: 0.1653 \tValidation Loss: 0.2140 \tTest Loss: 0.2140\n",
      "\t\tTraining Accuracy: 70.24%\t Validation Accuracy: 60.00%\t Test Accuracy: 60.00%\n"
     ]
    },
    {
     "name": "stderr",
     "output_type": "stream",
     "text": [
      "Epoch 23: 100%|██████████| 42/42 [00:00<00:00, 78.07it/s]\n"
     ]
    },
    {
     "name": "stdout",
     "output_type": "stream",
     "text": [
      "\n",
      "Epoch: 23 \tTraining Loss: 0.1800 \tValidation Loss: 0.1554 \tTest Loss: 0.1554\n",
      "\t\tTraining Accuracy: 76.19%\t Validation Accuracy: 80.00%\t Test Accuracy: 80.00%\n"
     ]
    },
    {
     "name": "stderr",
     "output_type": "stream",
     "text": [
      "Epoch 24: 100%|██████████| 42/42 [00:00<00:00, 82.68it/s]\n"
     ]
    },
    {
     "name": "stdout",
     "output_type": "stream",
     "text": [
      "\n",
      "Epoch: 24 \tTraining Loss: 0.1741 \tValidation Loss: 0.2505 \tTest Loss: 0.2505\n",
      "\t\tTraining Accuracy: 72.62%\t Validation Accuracy: 60.00%\t Test Accuracy: 60.00%\n"
     ]
    },
    {
     "name": "stderr",
     "output_type": "stream",
     "text": [
      "Epoch 25: 100%|██████████| 42/42 [00:00<00:00, 86.55it/s]\n"
     ]
    },
    {
     "name": "stdout",
     "output_type": "stream",
     "text": [
      "\n",
      "Epoch: 25 \tTraining Loss: 0.1592 \tValidation Loss: 0.1514 \tTest Loss: 0.1514\n",
      "\t\tTraining Accuracy: 72.62%\t Validation Accuracy: 80.00%\t Test Accuracy: 80.00%\n"
     ]
    },
    {
     "name": "stderr",
     "output_type": "stream",
     "text": [
      "Epoch 26: 100%|██████████| 42/42 [00:00<00:00, 70.61it/s]\n"
     ]
    },
    {
     "name": "stdout",
     "output_type": "stream",
     "text": [
      "\n",
      "Epoch: 26 \tTraining Loss: 0.1761 \tValidation Loss: 0.1532 \tTest Loss: 0.1532\n",
      "\t\tTraining Accuracy: 73.81%\t Validation Accuracy: 80.00%\t Test Accuracy: 80.00%\n"
     ]
    },
    {
     "name": "stderr",
     "output_type": "stream",
     "text": [
      "Epoch 27: 100%|██████████| 42/42 [00:00<00:00, 78.95it/s]\n"
     ]
    },
    {
     "name": "stdout",
     "output_type": "stream",
     "text": [
      "\n",
      "Epoch: 27 \tTraining Loss: 0.1708 \tValidation Loss: 0.1579 \tTest Loss: 0.1579\n",
      "\t\tTraining Accuracy: 71.43%\t Validation Accuracy: 80.00%\t Test Accuracy: 80.00%\n"
     ]
    },
    {
     "name": "stderr",
     "output_type": "stream",
     "text": [
      "Epoch 28: 100%|██████████| 42/42 [00:00<00:00, 76.86it/s]\n"
     ]
    },
    {
     "name": "stdout",
     "output_type": "stream",
     "text": [
      "\n",
      "Epoch: 28 \tTraining Loss: 0.1566 \tValidation Loss: 0.1330 \tTest Loss: 0.1330\n",
      "\t\tTraining Accuracy: 75.00%\t Validation Accuracy: 80.00%\t Test Accuracy: 80.00%\n"
     ]
    },
    {
     "name": "stderr",
     "output_type": "stream",
     "text": [
      "Epoch 29: 100%|██████████| 42/42 [00:00<00:00, 84.94it/s]\n"
     ]
    },
    {
     "name": "stdout",
     "output_type": "stream",
     "text": [
      "\n",
      "Epoch: 29 \tTraining Loss: 0.1689 \tValidation Loss: 0.1359 \tTest Loss: 0.1359\n",
      "\t\tTraining Accuracy: 76.19%\t Validation Accuracy: 80.00%\t Test Accuracy: 80.00%\n"
     ]
    },
    {
     "name": "stderr",
     "output_type": "stream",
     "text": [
      "Epoch 30: 100%|██████████| 42/42 [00:00<00:00, 74.89it/s]\n"
     ]
    },
    {
     "name": "stdout",
     "output_type": "stream",
     "text": [
      "\n",
      "Epoch: 30 \tTraining Loss: 0.1642 \tValidation Loss: 0.2495 \tTest Loss: 0.2495\n",
      "\t\tTraining Accuracy: 71.43%\t Validation Accuracy: 60.00%\t Test Accuracy: 60.00%\n",
      "\n",
      "Early Stopping! Total epochs: 30. Best epoch: 0 with loss: 0.14 and acc: 80.00%\n",
      "17.67 total seconds elapsed. 0.57 seconds per epoch.\n",
      "Test Loss: 0.1384,  Test Accuracy: 80.0%\n",
      "completed fold 1\n",
      "#############################################################\n",
      "Cummulative Confusion Matrix\n",
      "[[3 0]\n",
      " [1 1]]\n",
      "Overall Test Accuracy: 80.0\n",
      "#############################################################\n"
     ]
    }
   ],
   "source": [
    "%run -i Train.py"
   ]
  },
  {
   "cell_type": "markdown",
   "metadata": {},
   "source": [
    "## Test"
   ]
  },
  {
   "cell_type": "code",
   "execution_count": 69,
   "metadata": {},
   "outputs": [
    {
     "name": "stdout",
     "output_type": "stream",
     "text": [
      "Config file 'Config_Test.ini' created\n"
     ]
    }
   ],
   "source": [
    "# CREATE OBJECT\n",
    "config_file = configparser.ConfigParser()\n",
    "# ADD NEW SECTION AND SETTINGS\n",
    "config_file[\"TEST\"] = {\n",
    "    'parentdir': '',  # Root or Parent Directory\n",
    "    'datafile': 'Data',  # Folder containing the dataset\n",
    "    'batch_size': 1,  # Batch Size, Change to fit hardware\n",
    "    'lossType': 'SoftM_MSE',  # loss function: 'SoftM_CELoss' or 'SoftM_MSE' or 'MSE'\n",
    "    'num_folds': 1,  # number of cross validation folds\n",
    "    'CI': 0.9,  # Confidence interval (missied cases with probability>=CI will be reported in excel file)\n",
    "    'load_model': False,  # specify path of pretrained model wieghts or set to False to train from scratch\n",
    "    'load_model_path': 'Results_Classification\\RODNet_Occp_Classification\\Fold_1\\RODNet_Occp_Classification_fold_1.pt',  # specify path of pretrained model wieghts or set to False to train from scratch\n",
    "    'labeled_data': True,  # set to true if you have the labeled test set\n",
    "    'model_name': 'RODNet_Occp_Classification',  # name of the saved model\n",
    "    'aux_logits': False,  # Required for models with auxilliary outputs (e.g., InceptionV3)  \n",
    "    'fold_start': 1,  # The starting fold for training\n",
    "    'fold_last': 1,  # The last fold for training\n",
    "    'N_steps': 1000,  # The last fold for training\n",
    "    'results_path': 'Results_Classification',  # main results folder\n",
    "}\n",
    "# SAVE CONFIG FILE\n",
    "with open(r\"Config_Test.ini\", 'w') as configfileObj:\n",
    "    config_file.write(configfileObj)\n",
    "    configfileObj.flush()\n",
    "    configfileObj.close()\n",
    "print(\"Config file 'Config_Test.ini' created\")"
   ]
  },
  {
   "cell_type": "code",
   "execution_count": null,
   "metadata": {},
   "outputs": [],
   "source": [
    "%run -i Test.py"
   ]
  },
  {
   "cell_type": "markdown",
   "metadata": {},
   "source": []
  },
  {
   "cell_type": "code",
   "execution_count": null,
   "metadata": {},
   "outputs": [],
   "source": []
  }
 ],
 "metadata": {
  "accelerator": "GPU",
  "colab": {
   "collapsed_sections": [
    "tgW7r0C9TuZk",
    "Kir80l1FKPXB",
    "vMHdM26iekBm",
    "VUciLEJeyvyN",
    "WesN7p7AeYK4"
   ],
   "machine_shape": "hm",
   "name": "1D_CNN_Segmentation_End2End_Pipeline.ipynb",
   "provenance": []
  },
  "kernelspec": {
   "display_name": "Python 3 (ipykernel)",
   "language": "python",
   "name": "python3"
  },
  "language_info": {
   "codemirror_mode": {
    "name": "ipython",
    "version": 3
   },
   "file_extension": ".py",
   "mimetype": "text/x-python",
   "name": "python",
   "nbconvert_exporter": "python",
   "pygments_lexer": "ipython3",
   "version": "3.11.6"
  }
 },
 "nbformat": 4,
 "nbformat_minor": 1
}

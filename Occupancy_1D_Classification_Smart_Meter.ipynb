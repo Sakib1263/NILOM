{
 "cells": [
  {
   "cell_type": "markdown",
   "metadata": {
    "id": "sFyb0y7PUJOo"
   },
   "source": [
    "# Iberdrola Project - Phase 2 [Occupancy Detection]"
   ]
  },
  {
   "cell_type": "markdown",
   "metadata": {
    "id": "W9vTr2NhcGAA"
   },
   "source": [
    "# Test GPU (Optional)\n",
    "Before Starting, kindly check the available GPU from the Google Server, GPU model and other related information. It might help!"
   ]
  },
  {
   "cell_type": "code",
   "execution_count": 1,
   "metadata": {},
   "outputs": [
    {
     "name": "stdout",
     "output_type": "stream",
     "text": [
      "Is CUDA enabled GPU Available? True\n",
      "GPU Number: 1\n",
      "Current GPU Index: 0\n",
      "GPU Type: NVIDIA GeForce RTX 3080 Ti Laptop GPU\n",
      "GPU Capability: (8, 6)\n",
      "Is GPU Initialized yet? True\n",
      "2.1.2+cu121\n"
     ]
    }
   ],
   "source": [
    "import torch\n",
    "print(\"Is CUDA enabled GPU Available?\", torch.cuda.is_available())\n",
    "print(\"GPU Number:\", torch.cuda.device_count())\n",
    "print(\"Current GPU Index:\", torch.cuda.current_device())\n",
    "print(\"GPU Type:\", torch.cuda.get_device_name(device=None))\n",
    "print(\"GPU Capability:\", torch.cuda.get_device_capability(device=None))\n",
    "print(\"Is GPU Initialized yet?\", torch.cuda.is_initialized())\n",
    "print(torch.__version__)"
   ]
  },
  {
   "cell_type": "markdown",
   "metadata": {
    "id": "tgW7r0C9TuZk"
   },
   "source": [
    "# Import Libraries"
   ]
  },
  {
   "cell_type": "code",
   "execution_count": 2,
   "metadata": {
    "id": "eMhBhz1CrMb3"
   },
   "outputs": [],
   "source": [
    "import os\n",
    "import h5py\n",
    "import scipy\n",
    "import random\n",
    "import pickle\n",
    "import json\n",
    "import configparser\n",
    "import numpy as np\n",
    "import pandas as pd\n",
    "import seaborn as sns\n",
    "import scipy.io as sio\n",
    "import tensorflow as tf\n",
    "import matplotlib.pyplot as plt\n",
    "from sklearn.metrics import mean_squared_error, mean_absolute_error, r2_score, classification_report, confusion_matrix\n",
    "from sklearn.model_selection import train_test_split\n",
    "from scipy.io import loadmat, savemat\n",
    "from pathlib import Path\n",
    "from tqdm import tqdm\n",
    "from scipy.stats import pearsonr"
   ]
  },
  {
   "cell_type": "code",
   "execution_count": 3,
   "metadata": {
    "id": "03JA1kRfzoit"
   },
   "outputs": [],
   "source": [
    "%matplotlib inline\n",
    "sns.set_style('white')"
   ]
  },
  {
   "cell_type": "markdown",
   "metadata": {},
   "source": [
    "# Import and Prepare Data"
   ]
  },
  {
   "cell_type": "markdown",
   "metadata": {},
   "source": [
    "## Prepare Dataset for Training"
   ]
  },
  {
   "cell_type": "markdown",
   "metadata": {},
   "source": [
    "Import Data"
   ]
  },
  {
   "cell_type": "code",
   "execution_count": 4,
   "metadata": {},
   "outputs": [
    {
     "data": {
      "text/plain": [
       "<KeysViewHDF5 ['data_occupancy', 'data_sm', 'house_number_array']>"
      ]
     },
     "execution_count": 4,
     "metadata": {},
     "output_type": "execute_result"
    }
   ],
   "source": [
    "fl_Data = h5py.File(os.path.join('Raw_Data/Phase_2_Exp_1/Smart_Meter_Data_Matched_Occupancy.mat'), 'r')\n",
    "fl_Data.keys()"
   ]
  },
  {
   "cell_type": "markdown",
   "metadata": {},
   "source": [
    "Extract Data"
   ]
  },
  {
   "cell_type": "code",
   "execution_count": 5,
   "metadata": {},
   "outputs": [
    {
     "name": "stdout",
     "output_type": "stream",
     "text": [
      "(449, 86400, 16)\n",
      "(449, 86400, 1)\n",
      "(449, 1)\n"
     ]
    }
   ],
   "source": [
    "X_Data = np.swapaxes(np.array(fl_Data['data_sm']), 1, 2)\n",
    "Y_Data = np.expand_dims(np.array(fl_Data['data_occupancy']), axis=2)\n",
    "house_labels = np.int_(np.transpose(np.array(fl_Data['house_number_array'])))\n",
    "print(X_Data.shape)\n",
    "print(Y_Data.shape)\n",
    "print(house_labels.shape)"
   ]
  },
  {
   "cell_type": "markdown",
   "metadata": {},
   "source": [
    "Create Folds - Train and Test Sets - 20% from Each House in the Test Set"
   ]
  },
  {
   "cell_type": "code",
   "execution_count": 6,
   "metadata": {},
   "outputs": [
    {
     "name": "stdout",
     "output_type": "stream",
     "text": [
      "[1 2 3 4 5]\n",
      "(357, 86400, 16)\n",
      "(357, 86400, 1)\n",
      "(92, 86400, 16)\n",
      "(92, 86400, 1)\n",
      "(36, 86400, 16)\n",
      "(36, 86400, 1)\n"
     ]
    }
   ],
   "source": [
    "# Configurations\n",
    "segment_length = 86400\n",
    "num_channels = 16\n",
    "house_labels_unique = np.int_(np.unique(house_labels))\n",
    "print(house_labels_unique)\n",
    "X_Train = np.zeros((1000,segment_length,num_channels))\n",
    "Y_Train = np.zeros((1000,segment_length,1), dtype=int)\n",
    "X_Test = np.zeros((1000,segment_length,num_channels))\n",
    "Y_Test = np.zeros((1000,segment_length,1), dtype=int)\n",
    "train_counter = 0\n",
    "test_counter = 0\n",
    "for i in house_labels_unique:\n",
    "    Current_House_Indices = np.where(house_labels == i)[0]\n",
    "    X_Data_Current_House = np.take(X_Data, Current_House_Indices, axis=0)\n",
    "    Y_Data_Current_House = np.take(Y_Data, Current_House_Indices, axis=0)\n",
    "    if (X_Data_Current_House.shape[0] < 5 or Y_Data_Current_House.shape[0] < 5):\n",
    "        continue\n",
    "    X_Train_Temp, X_Test_Temp, Y_Train_Temp, Y_Test_Temp = train_test_split(X_Data_Current_House, Y_Data_Current_House, test_size=0.2, random_state=0)\n",
    "    X_Train_shape = np.shape(X_Train_Temp)\n",
    "    X_Test_shape = np.shape(X_Test_Temp)\n",
    "    X_Train[train_counter:train_counter+X_Train_shape[0],:,:] = X_Train_Temp\n",
    "    Y_Train[train_counter:train_counter+X_Train_shape[0],:,:] = Y_Train_Temp\n",
    "    X_Test[test_counter:test_counter+X_Test_shape[0],:,:] = X_Test_Temp\n",
    "    Y_Test[test_counter:test_counter+X_Test_shape[0],:,:] = Y_Test_Temp\n",
    "    train_counter = train_counter + X_Train_shape[0]\n",
    "    test_counter = test_counter + X_Test_shape[0]\n",
    "X_Train1 = np.array(X_Train[0:train_counter,:,:])\n",
    "Y_Train1 = np.array(Y_Train[0:train_counter,:,:])\n",
    "X_Test = np.array(X_Test[0:test_counter,:,:])\n",
    "Y_Test = np.array(Y_Test[0:test_counter,:,:])\n",
    "X_Train, X_Val, Y_Train, Y_Val = train_test_split(X_Train1, Y_Train1, test_size=0.1, random_state=0)\n",
    "X_Train = X_Train1\n",
    "Y_Train = Y_Train1\n",
    "print(X_Train.shape)\n",
    "print(Y_Train.shape)\n",
    "print(X_Test.shape)\n",
    "print(Y_Test.shape)\n",
    "print(X_Val.shape)\n",
    "print(Y_Val.shape)"
   ]
  },
  {
   "cell_type": "markdown",
   "metadata": {},
   "source": [
    "Overlap Train Set"
   ]
  },
  {
   "cell_type": "code",
   "execution_count": 7,
   "metadata": {},
   "outputs": [
    {
     "name": "stdout",
     "output_type": "stream",
     "text": [
      "(357, 86400, 16)\n",
      "(357, 86400, 1)\n",
      "(30844800, 16)\n",
      "(30844800, 1)\n",
      "(1425, 86400, 16)\n",
      "(1425, 86400, 1)\n"
     ]
    }
   ],
   "source": [
    "# Overlap\n",
    "X_Data_Shape = X_Train.shape\n",
    "Y_Data_Shape = Y_Train.shape\n",
    "segment_length = X_Data_Shape[1]\n",
    "print(X_Data_Shape)\n",
    "print(Y_Data_Shape)\n",
    "# Reshape Array\n",
    "X_Data_Reshaped = np.reshape(X_Train, (X_Data_Shape[0]*X_Data_Shape[1], num_channels))\n",
    "Y_Data_Reshaped = np.reshape(Y_Train, (Y_Data_Shape[0]*Y_Data_Shape[1], 1))\n",
    "X_Data_Reshaped_Shape = X_Data_Reshaped.shape\n",
    "Y_Data_Reshaped_Shape = Y_Data_Reshaped.shape\n",
    "print(X_Data_Reshaped_Shape)\n",
    "print(Y_Data_Reshaped_Shape)\n",
    "# Overlap\n",
    "overlap_ratio = 0.75\n",
    "offset_amount = np.int_(segment_length*(1 - overlap_ratio))\n",
    "X_Data_New = np.zeros((2000,segment_length,num_channels))\n",
    "Y_Data_New = np.zeros((2000,segment_length,1))\n",
    "num_segments_approx = np.int_(np.ceil(X_Data_Reshaped_Shape[0]/offset_amount))\n",
    "counter = 0\n",
    "for i in range(0,num_segments_approx):\n",
    "    if (i*offset_amount+segment_length) > X_Data_Reshaped_Shape[0]:\n",
    "        continue\n",
    "    X_Data_Temp = X_Data_Reshaped[i*offset_amount:i*offset_amount+segment_length,:]\n",
    "    X_Data_New[counter,:,:] = X_Data_Temp\n",
    "    Y_Data_Temp = Y_Data_Reshaped[i*offset_amount:i*offset_amount+segment_length,:]\n",
    "    Y_Data_New[counter,:,:] = Y_Data_Temp\n",
    "    counter = counter + 1\n",
    "X_Train_OVRL = X_Data_New[0:counter,:,:]\n",
    "Y_Train_OVRL = Y_Data_New[0:counter,:,:]\n",
    "print(X_Train_OVRL.shape)\n",
    "print(Y_Train_OVRL.shape)"
   ]
  },
  {
   "cell_type": "markdown",
   "metadata": {},
   "source": [
    "Transform Labels for Classification"
   ]
  },
  {
   "cell_type": "code",
   "execution_count": 8,
   "metadata": {},
   "outputs": [],
   "source": [
    "def transform_labels(X_Data_OVRL, Y_Data_OVRL, segment_length, num_channels):\n",
    "    X_Data_New = np.zeros((20000,num_channels,segment_length))\n",
    "    Y_Data_New = np.zeros((20000,1), dtype=int)\n",
    "    ## Raw Dataset\n",
    "    X_Data_Shape = X_Data_OVRL.shape\n",
    "    Y_Data_Shape = Y_Data_OVRL.shape\n",
    "    # Reshape Array\n",
    "    X_Data_Reshaped = np.reshape(X_Data_OVRL, (X_Data_Shape[0]*X_Data_Shape[1], num_channels))\n",
    "    Y_Data_Reshaped = np.reshape(Y_Data_OVRL, (Y_Data_Shape[0]*Y_Data_Shape[1], 1))\n",
    "    X_Data_Reshaped_Shape = X_Data_Reshaped.shape\n",
    "    Y_Data_Reshaped_Shape = Y_Data_Reshaped.shape\n",
    "    num_segments_approx = np.int_(np.ceil(X_Data_Reshaped_Shape[0]/segment_length))\n",
    "    counter = 0\n",
    "    for i in range(0,num_segments_approx):\n",
    "        if ((i+1)*segment_length) > X_Data_Reshaped_Shape[0]:\n",
    "            continue\n",
    "        X_Data_Temp = np.transpose(X_Data_Reshaped[i*segment_length:(i+1)*segment_length,:])\n",
    "        X_Data_Temp_Mean = np.mean(X_Data_Temp)\n",
    "        X_Data_Temp_VAR = np.var(X_Data_Temp)\n",
    "        X_Data_New[counter,:,:] = X_Data_Temp\n",
    "        Y_Data_Temp = Y_Data_Reshaped[i*segment_length:(i+1)*segment_length,:]\n",
    "        Y_Data_Temp_Mean = np.mean(Y_Data_Temp)\n",
    "        Y_Data_Temp_VAR = np.var(Y_Data_Temp)\n",
    "        Y_Data_Temp_SUM = np.sum(Y_Data_Temp)\n",
    "        if X_Data_Temp_VAR <= 0.001:\n",
    "            continue\n",
    "        # if Y_Data_Temp_VAR <= 0.001:\n",
    "            # continue\n",
    "        if (Y_Data_Temp_SUM < np.round(0.05*segment_length)) or (Y_Data_Temp_SUM > np.round(0.95*segment_length)):\n",
    "            continue\n",
    "        # if Y_Data_Temp_SUM == segment_length:\n",
    "            # continue\n",
    "        if Y_Data_Temp_Mean > 0.5:\n",
    "            Y_Label = 1\n",
    "        else:\n",
    "            Y_Label = 0\n",
    "        Y_Data_New[counter,:] = Y_Label\n",
    "        counter = counter + 1\n",
    "    X_Data_New = X_Data_New[0:counter,:,:]\n",
    "    Y_Data_New = Y_Data_New[0:counter,:]\n",
    "    return X_Data_New, Y_Data_New"
   ]
  },
  {
   "cell_type": "code",
   "execution_count": 9,
   "metadata": {},
   "outputs": [
    {
     "name": "stdout",
     "output_type": "stream",
     "text": [
      "(2422, 16, 1200)\n",
      "(2422, 1)\n",
      "(163, 16, 1200)\n",
      "(163, 1)\n",
      "(62, 16, 1200)\n",
      "(62, 1)\n",
      "[0 1] [1192 1230]\n",
      "[0 1] [77 86]\n",
      "[0 1] [28 34]\n"
     ]
    }
   ],
   "source": [
    "segment_length = 1200  # 20 Minutes = 1200 Data Points (1 Hz sampling rate)\n",
    "num_channels = 16\n",
    "X_Train_C, Y_Train_C = transform_labels(X_Train_OVRL, Y_Train_OVRL, segment_length, num_channels)\n",
    "X_Test_C, Y_Test_C = transform_labels(X_Test, Y_Test, segment_length, num_channels)\n",
    "X_Val_C, Y_Val_C = transform_labels(X_Val, Y_Val, segment_length, num_channels)\n",
    "print(X_Train_C.shape)\n",
    "print(Y_Train_C.shape)\n",
    "print(X_Test_C.shape)\n",
    "print(Y_Test_C.shape)\n",
    "print(X_Val_C.shape)\n",
    "print(Y_Val_C.shape)\n",
    "labels, counts = np.unique(Y_Train_C, return_counts=True)\n",
    "print(labels, counts)\n",
    "labels, counts = np.unique(Y_Test_C, return_counts=True)\n",
    "print(labels, counts)\n",
    "labels, counts = np.unique(Y_Val_C, return_counts=True)\n",
    "print(labels, counts)\n"
   ]
  },
  {
   "cell_type": "markdown",
   "metadata": {},
   "source": [
    "Balance train set (if required)"
   ]
  },
  {
   "cell_type": "code",
   "execution_count": 10,
   "metadata": {},
   "outputs": [
    {
     "name": "stdout",
     "output_type": "stream",
     "text": [
      "(2384, 16, 1200)\n",
      "(2384, 1)\n"
     ]
    }
   ],
   "source": [
    "Y_Train_0_indices = np.where(Y_Train_C == 0)[0]\n",
    "X_Train_C_0 = np.take(X_Train_C, Y_Train_0_indices, axis=0)\n",
    "Y_Train_C_0 = np.take(Y_Train_C, Y_Train_0_indices, axis=0)\n",
    "Y_Train_1_indices = np.where(Y_Train_C == 1)[0]\n",
    "X_Train_C_1 = np.take(X_Train_C, Y_Train_1_indices, axis=0)\n",
    "Y_Train_C_1 = np.take(Y_Train_C, Y_Train_1_indices, axis=0)\n",
    "#\n",
    "Y_Train_C_0_shape = Y_Train_C_0.shape\n",
    "Y_Train_C_1_shape = Y_Train_C_1.shape\n",
    "Y_Train_C_shape = Y_Train_C.shape\n",
    "if Y_Train_C_1_shape[0] > Y_Train_C_0_shape[0]:\n",
    "    index = np.random.choice(Y_Train_C_1_shape[0], Y_Train_C_0_shape[0], replace=False)\n",
    "    X_Train_1 = X_Train_C_1[index]\n",
    "    Y_Train_1 = Y_Train_C_1[index]\n",
    "    X_Train = np.concatenate([X_Train_C_0, X_Train_1], axis=0)\n",
    "    Y_Train = np.concatenate([Y_Train_C_0, Y_Train_1], axis=0)\n",
    "elif Y_Train_C_0_shape[0] > Y_Train_C_1_shape[0]:\n",
    "    index = np.random.choice(Y_Train_C_0_shape[0], Y_Train_C_1_shape[0], replace=False)\n",
    "    X_Train_0 = X_Train_C_0[index]\n",
    "    Y_Train_0 = Y_Train_C_0[index]\n",
    "    X_Train = np.concatenate([X_Train_C_1, X_Train_0], axis=0)\n",
    "    Y_Train = np.concatenate([Y_Train_C_1, Y_Train_0], axis=0)\n",
    "#\n",
    "X_Train_C = X_Train\n",
    "Y_Train_C = Y_Train\n",
    "print(X_Train_C.shape)\n",
    "print(Y_Train_C.shape)"
   ]
  },
  {
   "cell_type": "markdown",
   "metadata": {},
   "source": [
    "Test - Plot"
   ]
  },
  {
   "cell_type": "code",
   "execution_count": 11,
   "metadata": {},
   "outputs": [
    {
     "name": "stdout",
     "output_type": "stream",
     "text": [
      "[0.02546683 0.02546683 0.02543566 ... 0.00604538 0.00600607 0.0060291 ]\n"
     ]
    },
    {
     "data": {
      "text/plain": [
       "<matplotlib.legend.Legend at 0x1810651f3d0>"
      ]
     },
     "execution_count": 11,
     "metadata": {},
     "output_type": "execute_result"
    },
    {
     "data": {
      "image/png": "[encoded data removed]",
      "text/plain": [
       "<Figure size 1600x800 with 1 Axes>"
      ]
     },
     "metadata": {},
     "output_type": "display_data"
    }
   ],
   "source": [
    "data_shape = Y_Test_C.shape\n",
    "sm_channel = 0\n",
    "j = random.randint(0, data_shape[0])\n",
    "A = X_Test_C[j,sm_channel,:]\n",
    "B = Y_Test_C[j,0]\n",
    "print(A)\n",
    "plt.figure(figsize=(16, 8))\n",
    "plt.subplot(1, 1, 1)\n",
    "plt.plot(A, label='X_Test')\n",
    "plt.title(f\"Smart Meter - Power All Phase -- Sample Number {j} -- Label {B}\")\n",
    "plt.legend()"
   ]
  },
  {
   "cell_type": "markdown",
   "metadata": {},
   "source": [
    "Save prepared data - all channels"
   ]
  },
  {
   "cell_type": "code",
   "execution_count": 10,
   "metadata": {},
   "outputs": [],
   "source": [
    "train_data_dic = {\"X_Train\": X_Train_C,\n",
    "                  \"Y_Train\": Y_Train_C,\n",
    "                  \"X_Test\": X_Test_C,\n",
    "                  \"Y_Test\": Y_Test_C,\n",
    "                  \"X_Val\": X_Test_C,\n",
    "                  \"Y_Val\": Y_Test_C,\n",
    "                  }\n",
    "savemat(\"Data/Data_Fold_1_All_SM_Channels.mat\", train_data_dic, format='5')"
   ]
  },
  {
   "cell_type": "markdown",
   "metadata": {},
   "source": [
    "Load prepared data, select channels and save for the pipeline"
   ]
  },
  {
   "cell_type": "code",
   "execution_count": 32,
   "metadata": {},
   "outputs": [],
   "source": [
    "data = loadmat('Data/Data_Fold_1_All_SM_Channels.mat')\n",
    "X_Train = data['X_Train']\n",
    "Y_Train = data['Y_Train']\n",
    "X_Test = data['X_Test']\n",
    "Y_Test = data['Y_Test']\n",
    "X_Val = data['X_Val']\n",
    "Y_Val = data['Y_Val']\n",
    "#\n",
    "selected_channels = [1]\n",
    "X_Train = X_Train[:,selected_channels,:]\n",
    "X_Test = X_Test[:,selected_channels,:]\n",
    "X_Val = X_Val[:,selected_channels,:]\n",
    "\n",
    "X_Train = np.where(X_Train==np.nan, 0, X_Train)\n",
    "X_Test = np.where(X_Test==np.nan, 0, X_Test)\n",
    "X_Val = np.where(X_Val==np.nan, 0, X_Val)\n",
    "#\n",
    "train_data_dic = {\"X_Train\": X_Train,\n",
    "                  \"Y_Train\": Y_Train,\n",
    "                  \"X_Test\": X_Test,\n",
    "                  \"Y_Test\": Y_Test,\n",
    "                  \"X_Val\": X_Val,\n",
    "                  \"Y_Val\": Y_Val,\n",
    "                  }\n",
    "savemat(\"Data/Data_Fold_1.mat\", train_data_dic, format='5')"
   ]
  },
  {
   "cell_type": "markdown",
   "metadata": {
    "id": "_qTwozk_BS94"
   },
   "source": [
    "Garbage Collector"
   ]
  },
  {
   "cell_type": "code",
   "execution_count": null,
   "metadata": {
    "colab": {
     "base_uri": "https://localhost:8080/"
    },
    "executionInfo": {
     "elapsed": 16,
     "status": "ok",
     "timestamp": 1633010341331,
     "user": {
      "displayName": "Sakib Mahmud",
      "photoUrl": "https://lh3.googleusercontent.com/a-/AOh14Gg8lG2uTygQr7y6fmQUo67XXUtrCVGaEakj_P33Ft8=s64",
      "userId": "03961007737707022852"
     },
     "user_tz": -180
    },
    "id": "ch2jmn3jKKiH",
    "outputId": "c9807e23-ff6c-428d-f6e3-4f5e6382e71d"
   },
   "outputs": [
    {
     "data": {
      "text/plain": [
       "0"
      ]
     },
     "execution_count": 65,
     "metadata": {},
     "output_type": "execute_result"
    }
   ],
   "source": [
    "import gc #Garbage Collector\n",
    "fl_Data = None\n",
    "X_Test = None\n",
    "X_Train = None\n",
    "X_Val = None\n",
    "Y_Test = None\n",
    "Y_Train = None\n",
    "Y_Val = None\n",
    "gc.collect()"
   ]
  },
  {
   "cell_type": "markdown",
   "metadata": {
    "id": "RHq0FrX9iAsq"
   },
   "source": [
    "# MAIN"
   ]
  },
  {
   "cell_type": "markdown",
   "metadata": {
    "id": "yozhkF-OJWu2"
   },
   "source": [
    "## Configurations"
   ]
  },
  {
   "cell_type": "code",
   "execution_count": 33,
   "metadata": {
    "id": "Mai6ZRMeiFvA"
   },
   "outputs": [
    {
     "name": "stdout",
     "output_type": "stream",
     "text": [
      "Config file 'Config_Train.ini' created\n"
     ]
    }
   ],
   "source": [
    "# CREATE OBJECT\n",
    "config_file = configparser.ConfigParser()\n",
    "# ADD NEW SECTION AND SETTINGS\n",
    "config_file[\"TRAIN\"] = {\n",
    "    'parentdir': '',  # Root or Parent Directory\n",
    "    'datafile': 'Data',  # Folder containing the dataset\n",
    "    'val_size': 0.0,  # Validation percentage for splitting\n",
    "    'q_order': 3,  # q-order for the Self-ONN or Super-ONN Models\n",
    "    'batch_size': 4,  # Batch Size, Change to fit hardware\n",
    "    'lossType': 'SoftM_MSE',  # loss function: 'SoftM_CELoss' or 'SoftM_MSE' or 'MSE'\n",
    "    'optim_fc': 'Adam',  # 'Adam' or 'SGD'\n",
    "    'lr': 0.0005,  # learning rate\n",
    "    'stop_criteria': 'accuracy',  # Stopping criteria: 'loss' or 'accuracy'\n",
    "    'n_epochs': 500,  # number of training epochs\n",
    "    'epochs_patience': 8,\n",
    "    'lr_factor': 0.1,  # lr_factor, if val loss did not decrease for a number of epochs (epochs_patience) then decrease learning rate by a factor of lr_factor\n",
    "    'max_epochs_stop': 30,  # maximum number of epochs with no improvement in validation loss for early stopping\n",
    "    'num_folds': 1,  # number of cross validation folds\n",
    "    'load_model': False,  # load model: True or False\n",
    "    'load_model_path': 'Results_Classification\\RODNet_Occp_Classification\\Fold_1\\RODNet_Occp_Classification_fold_1.pt',  # specify path of pretrained model wieghts or set to False to train from scratch\n",
    "    'model_to_load': 'RODNet',  # choose one of the following models: 'CNN_1' 'CNN_2' 'CNN_2' 'CNN_3' 'SelfResNet18' 'ResNet'\n",
    "    'model_name': 'RODNet_Occp_Classification',  # choose a unique name for result folder\n",
    "    'aux_logits': False,  # Required for models with auxilliary outputs (e.g., InceptionV3)  \n",
    "    'fold_start': 1,  # The starting fold for training\n",
    "    'fold_last': 1,  # The last fold for training\n",
    "    'results_path': 'Results_Classification',  # main results folder\n",
    "}\n",
    "\n",
    "# SAVE CONFIG FILE\n",
    "with open(r\"Config_Train.ini\", 'w') as configfileObj:\n",
    "    config_file.write(configfileObj)\n",
    "    configfileObj.flush()\n",
    "    configfileObj.close()\n",
    "\n",
    "print(\"Config file 'Config_Train.ini' created\")"
   ]
  },
  {
   "cell_type": "markdown",
   "metadata": {
    "id": "nWQQ-U2bJ2Js"
   },
   "source": [
    "## Train"
   ]
  },
  {
   "cell_type": "code",
   "execution_count": 34,
   "metadata": {
    "id": "YSLqe-8gJ2R8"
   },
   "outputs": [
    {
     "name": "stdout",
     "output_type": "stream",
     "text": [
      "Train on gpu: True\n",
      "1 GPUs detected.\n",
      "Training using RODNet network\n",
      "Starting training with Fold 1\n",
      "Shape of Train Data: (2422, 1, 1200)\n",
      "Shape of Train Label: (2422, 1)\n",
      "Shape of Validation Data: (163, 1, 1200)\n",
      "Shape of Validation Label: (163, 1)\n",
      "Shape of Test Data: (163, 1, 1200)\n",
      "Shape of Test Label: (163, 1)\n",
      "Classes: [0 1]\n",
      "No. of Classes: 2\n",
      "model device: cuda\n",
      "Starting Training from Scratch.\n",
      "\n"
     ]
    },
    {
     "name": "stderr",
     "output_type": "stream",
     "text": [
      "Epoch 0: 100%|██████████| 605/605 [00:07<00:00, 77.46it/s]\n"
     ]
    },
    {
     "name": "stdout",
     "output_type": "stream",
     "text": [
      "\n",
      "Epoch: 0 \tTraining Loss: 0.2501 \tValidation Loss: 0.2533 \tTest Loss: 0.2533\n",
      "\t\tTraining Accuracy: 52.56%\t Validation Accuracy: 49.69%\t Test Accuracy: 49.69%\n"
     ]
    },
    {
     "name": "stderr",
     "output_type": "stream",
     "text": [
      "Epoch 1: 100%|██████████| 605/605 [00:07<00:00, 78.94it/s]\n"
     ]
    },
    {
     "name": "stdout",
     "output_type": "stream",
     "text": [
      "\n",
      "Epoch: 1 \tTraining Loss: 0.2494 \tValidation Loss: 0.2523 \tTest Loss: 0.2523\n",
      "\t\tTraining Accuracy: 52.77%\t Validation Accuracy: 44.79%\t Test Accuracy: 44.79%\n"
     ]
    },
    {
     "name": "stderr",
     "output_type": "stream",
     "text": [
      "Epoch 2: 100%|██████████| 605/605 [00:07<00:00, 79.55it/s]\n"
     ]
    },
    {
     "name": "stdout",
     "output_type": "stream",
     "text": [
      "\n",
      "Epoch: 2 \tTraining Loss: 0.2465 \tValidation Loss: 0.2612 \tTest Loss: 0.2612\n",
      "\t\tTraining Accuracy: 55.08%\t Validation Accuracy: 50.92%\t Test Accuracy: 50.92%\n"
     ]
    },
    {
     "name": "stderr",
     "output_type": "stream",
     "text": [
      "Epoch 3: 100%|██████████| 605/605 [00:07<00:00, 80.07it/s]\n"
     ]
    },
    {
     "name": "stdout",
     "output_type": "stream",
     "text": [
      "\n",
      "Epoch: 3 \tTraining Loss: 0.2444 \tValidation Loss: 0.2530 \tTest Loss: 0.2530\n",
      "\t\tTraining Accuracy: 57.39%\t Validation Accuracy: 54.60%\t Test Accuracy: 54.60%\n"
     ]
    },
    {
     "name": "stderr",
     "output_type": "stream",
     "text": [
      "Epoch 4: 100%|██████████| 605/605 [00:07<00:00, 80.55it/s]\n"
     ]
    },
    {
     "name": "stdout",
     "output_type": "stream",
     "text": [
      "\n",
      "Epoch: 4 \tTraining Loss: 0.2388 \tValidation Loss: 0.2590 \tTest Loss: 0.2590\n",
      "\t\tTraining Accuracy: 58.13%\t Validation Accuracy: 55.83%\t Test Accuracy: 55.83%\n"
     ]
    },
    {
     "name": "stderr",
     "output_type": "stream",
     "text": [
      "Epoch 5: 100%|██████████| 605/605 [00:07<00:00, 81.23it/s]\n"
     ]
    },
    {
     "name": "stdout",
     "output_type": "stream",
     "text": [
      "\n",
      "Epoch: 5 \tTraining Loss: 0.2336 \tValidation Loss: 0.2652 \tTest Loss: 0.2652\n",
      "\t\tTraining Accuracy: 61.27%\t Validation Accuracy: 55.21%\t Test Accuracy: 55.21%\n"
     ]
    },
    {
     "name": "stderr",
     "output_type": "stream",
     "text": [
      "Epoch 6: 100%|██████████| 605/605 [00:07<00:00, 82.78it/s]\n"
     ]
    },
    {
     "name": "stdout",
     "output_type": "stream",
     "text": [
      "\n",
      "Epoch: 6 \tTraining Loss: 0.2273 \tValidation Loss: 0.2779 \tTest Loss: 0.2779\n",
      "\t\tTraining Accuracy: 62.26%\t Validation Accuracy: 52.76%\t Test Accuracy: 52.76%\n"
     ]
    },
    {
     "name": "stderr",
     "output_type": "stream",
     "text": [
      "Epoch 7: 100%|██████████| 605/605 [00:07<00:00, 82.02it/s]\n"
     ]
    },
    {
     "name": "stdout",
     "output_type": "stream",
     "text": [
      "\n",
      "Epoch: 7 \tTraining Loss: 0.2277 \tValidation Loss: 0.2824 \tTest Loss: 0.2824\n",
      "\t\tTraining Accuracy: 62.39%\t Validation Accuracy: 49.69%\t Test Accuracy: 49.69%\n"
     ]
    },
    {
     "name": "stderr",
     "output_type": "stream",
     "text": [
      "Epoch 8: 100%|██████████| 605/605 [00:07<00:00, 79.67it/s]\n"
     ]
    },
    {
     "name": "stdout",
     "output_type": "stream",
     "text": [
      "\n",
      "Epoch: 8 \tTraining Loss: 0.2186 \tValidation Loss: 0.2822 \tTest Loss: 0.2822\n",
      "\t\tTraining Accuracy: 64.66%\t Validation Accuracy: 53.99%\t Test Accuracy: 53.99%\n"
     ]
    },
    {
     "name": "stderr",
     "output_type": "stream",
     "text": [
      "Epoch 9: 100%|██████████| 605/605 [00:07<00:00, 76.67it/s]\n"
     ]
    },
    {
     "name": "stdout",
     "output_type": "stream",
     "text": [
      "\n",
      "Epoch: 9 \tTraining Loss: 0.2122 \tValidation Loss: 0.3051 \tTest Loss: 0.3051\n",
      "\t\tTraining Accuracy: 67.18%\t Validation Accuracy: 46.63%\t Test Accuracy: 46.63%\n"
     ]
    },
    {
     "name": "stderr",
     "output_type": "stream",
     "text": [
      "Epoch 10: 100%|██████████| 605/605 [00:07<00:00, 76.88it/s]\n"
     ]
    },
    {
     "name": "stdout",
     "output_type": "stream",
     "text": [
      "\n",
      "Epoch: 10 \tTraining Loss: 0.2107 \tValidation Loss: 0.2640 \tTest Loss: 0.2640\n",
      "\t\tTraining Accuracy: 66.93%\t Validation Accuracy: 61.35%\t Test Accuracy: 61.35%\n"
     ]
    },
    {
     "name": "stderr",
     "output_type": "stream",
     "text": [
      "Epoch 11: 100%|██████████| 605/605 [00:07<00:00, 81.99it/s]\n"
     ]
    },
    {
     "name": "stdout",
     "output_type": "stream",
     "text": [
      "\n",
      "Epoch: 11 \tTraining Loss: 0.1911 \tValidation Loss: 0.2897 \tTest Loss: 0.2897\n",
      "\t\tTraining Accuracy: 71.55%\t Validation Accuracy: 52.76%\t Test Accuracy: 52.76%\n"
     ]
    },
    {
     "name": "stderr",
     "output_type": "stream",
     "text": [
      "Epoch 12: 100%|██████████| 605/605 [00:07<00:00, 80.31it/s]\n"
     ]
    },
    {
     "name": "stdout",
     "output_type": "stream",
     "text": [
      "\n",
      "Epoch: 12 \tTraining Loss: 0.1876 \tValidation Loss: 0.2736 \tTest Loss: 0.2736\n",
      "\t\tTraining Accuracy: 72.21%\t Validation Accuracy: 52.76%\t Test Accuracy: 52.76%\n"
     ]
    },
    {
     "name": "stderr",
     "output_type": "stream",
     "text": [
      "Epoch 13: 100%|██████████| 605/605 [00:07<00:00, 82.12it/s]\n"
     ]
    },
    {
     "name": "stdout",
     "output_type": "stream",
     "text": [
      "\n",
      "Epoch: 13 \tTraining Loss: 0.1780 \tValidation Loss: 0.2880 \tTest Loss: 0.2880\n",
      "\t\tTraining Accuracy: 73.78%\t Validation Accuracy: 51.53%\t Test Accuracy: 51.53%\n"
     ]
    },
    {
     "name": "stderr",
     "output_type": "stream",
     "text": [
      "Epoch 14: 100%|██████████| 605/605 [00:07<00:00, 83.21it/s]\n"
     ]
    },
    {
     "name": "stdout",
     "output_type": "stream",
     "text": [
      "\n",
      "Epoch: 14 \tTraining Loss: 0.1758 \tValidation Loss: 0.3014 \tTest Loss: 0.3014\n",
      "\t\tTraining Accuracy: 74.32%\t Validation Accuracy: 55.21%\t Test Accuracy: 55.21%\n"
     ]
    },
    {
     "name": "stderr",
     "output_type": "stream",
     "text": [
      "Epoch 15: 100%|██████████| 605/605 [00:07<00:00, 84.48it/s]\n"
     ]
    },
    {
     "name": "stdout",
     "output_type": "stream",
     "text": [
      "\n",
      "Epoch: 15 \tTraining Loss: 0.1739 \tValidation Loss: 0.3156 \tTest Loss: 0.3156\n",
      "\t\tTraining Accuracy: 74.69%\t Validation Accuracy: 53.37%\t Test Accuracy: 53.37%\n"
     ]
    },
    {
     "name": "stderr",
     "output_type": "stream",
     "text": [
      "Epoch 16: 100%|██████████| 605/605 [00:07<00:00, 86.26it/s]\n"
     ]
    },
    {
     "name": "stdout",
     "output_type": "stream",
     "text": [
      "\n",
      "Epoch: 16 \tTraining Loss: 0.1617 \tValidation Loss: 0.3056 \tTest Loss: 0.3056\n",
      "\t\tTraining Accuracy: 77.09%\t Validation Accuracy: 53.37%\t Test Accuracy: 53.37%\n"
     ]
    },
    {
     "name": "stderr",
     "output_type": "stream",
     "text": [
      "Epoch 17: 100%|██████████| 605/605 [00:07<00:00, 84.55it/s]\n"
     ]
    },
    {
     "name": "stdout",
     "output_type": "stream",
     "text": [
      "\n",
      "Epoch: 17 \tTraining Loss: 0.1598 \tValidation Loss: 0.3007 \tTest Loss: 0.3007\n",
      "\t\tTraining Accuracy: 77.70%\t Validation Accuracy: 54.60%\t Test Accuracy: 54.60%\n"
     ]
    },
    {
     "name": "stderr",
     "output_type": "stream",
     "text": [
      "Epoch 18: 100%|██████████| 605/605 [00:07<00:00, 84.37it/s]\n"
     ]
    },
    {
     "name": "stdout",
     "output_type": "stream",
     "text": [
      "\n",
      "Epoch: 18 \tTraining Loss: 0.1546 \tValidation Loss: 0.3257 \tTest Loss: 0.3257\n",
      "\t\tTraining Accuracy: 78.45%\t Validation Accuracy: 53.37%\t Test Accuracy: 53.37%\n"
     ]
    },
    {
     "name": "stderr",
     "output_type": "stream",
     "text": [
      "Epoch 19: 100%|██████████| 605/605 [00:07<00:00, 83.34it/s]\n"
     ]
    },
    {
     "name": "stdout",
     "output_type": "stream",
     "text": [
      "\n",
      "Epoch: 19 \tTraining Loss: 0.1538 \tValidation Loss: 0.3227 \tTest Loss: 0.3227\n",
      "\t\tTraining Accuracy: 77.83%\t Validation Accuracy: 54.60%\t Test Accuracy: 54.60%\n"
     ]
    },
    {
     "name": "stderr",
     "output_type": "stream",
     "text": [
      "Epoch 20: 100%|██████████| 605/605 [00:07<00:00, 83.83it/s]\n"
     ]
    },
    {
     "name": "stdout",
     "output_type": "stream",
     "text": [
      "\n",
      "Epoch: 20 \tTraining Loss: 0.1486 \tValidation Loss: 0.3035 \tTest Loss: 0.3035\n",
      "\t\tTraining Accuracy: 79.27%\t Validation Accuracy: 53.99%\t Test Accuracy: 53.99%\n"
     ]
    },
    {
     "name": "stderr",
     "output_type": "stream",
     "text": [
      "Epoch 21: 100%|██████████| 605/605 [00:07<00:00, 83.81it/s]\n"
     ]
    },
    {
     "name": "stdout",
     "output_type": "stream",
     "text": [
      "\n",
      "Epoch: 21 \tTraining Loss: 0.1484 \tValidation Loss: 0.3101 \tTest Loss: 0.3101\n",
      "\t\tTraining Accuracy: 79.11%\t Validation Accuracy: 54.60%\t Test Accuracy: 54.60%\n"
     ]
    },
    {
     "name": "stderr",
     "output_type": "stream",
     "text": [
      "Epoch 22: 100%|██████████| 605/605 [00:07<00:00, 83.89it/s]\n"
     ]
    },
    {
     "name": "stdout",
     "output_type": "stream",
     "text": [
      "\n",
      "Epoch: 22 \tTraining Loss: 0.1473 \tValidation Loss: 0.3179 \tTest Loss: 0.3179\n",
      "\t\tTraining Accuracy: 79.81%\t Validation Accuracy: 51.53%\t Test Accuracy: 51.53%\n"
     ]
    },
    {
     "name": "stderr",
     "output_type": "stream",
     "text": [
      "Epoch 23: 100%|██████████| 605/605 [00:07<00:00, 83.62it/s]\n"
     ]
    },
    {
     "name": "stdout",
     "output_type": "stream",
     "text": [
      "\n",
      "Epoch: 23 \tTraining Loss: 0.1446 \tValidation Loss: 0.3165 \tTest Loss: 0.3165\n",
      "\t\tTraining Accuracy: 79.52%\t Validation Accuracy: 53.37%\t Test Accuracy: 53.37%\n"
     ]
    },
    {
     "name": "stderr",
     "output_type": "stream",
     "text": [
      "Epoch 24: 100%|██████████| 605/605 [00:07<00:00, 83.00it/s]\n"
     ]
    },
    {
     "name": "stdout",
     "output_type": "stream",
     "text": [
      "\n",
      "Epoch: 24 \tTraining Loss: 0.1473 \tValidation Loss: 0.3123 \tTest Loss: 0.3123\n",
      "\t\tTraining Accuracy: 79.19%\t Validation Accuracy: 51.53%\t Test Accuracy: 51.53%\n"
     ]
    },
    {
     "name": "stderr",
     "output_type": "stream",
     "text": [
      "Epoch 25: 100%|██████████| 605/605 [00:07<00:00, 83.39it/s]\n"
     ]
    },
    {
     "name": "stdout",
     "output_type": "stream",
     "text": [
      "\n",
      "Epoch: 25 \tTraining Loss: 0.1544 \tValidation Loss: 0.3264 \tTest Loss: 0.3264\n",
      "\t\tTraining Accuracy: 78.08%\t Validation Accuracy: 52.76%\t Test Accuracy: 52.76%\n"
     ]
    },
    {
     "name": "stderr",
     "output_type": "stream",
     "text": [
      "Epoch 26: 100%|██████████| 605/605 [00:07<00:00, 82.08it/s]\n"
     ]
    },
    {
     "name": "stdout",
     "output_type": "stream",
     "text": [
      "\n",
      "Epoch: 26 \tTraining Loss: 0.1431 \tValidation Loss: 0.3077 \tTest Loss: 0.3077\n",
      "\t\tTraining Accuracy: 79.56%\t Validation Accuracy: 52.76%\t Test Accuracy: 52.76%\n"
     ]
    },
    {
     "name": "stderr",
     "output_type": "stream",
     "text": [
      "Epoch 27: 100%|██████████| 605/605 [00:07<00:00, 82.86it/s]\n"
     ]
    },
    {
     "name": "stdout",
     "output_type": "stream",
     "text": [
      "\n",
      "Epoch: 27 \tTraining Loss: 0.1464 \tValidation Loss: 0.3180 \tTest Loss: 0.3180\n",
      "\t\tTraining Accuracy: 79.64%\t Validation Accuracy: 52.15%\t Test Accuracy: 52.15%\n"
     ]
    },
    {
     "name": "stderr",
     "output_type": "stream",
     "text": [
      "Epoch 28: 100%|██████████| 605/605 [00:07<00:00, 83.63it/s]\n"
     ]
    },
    {
     "name": "stdout",
     "output_type": "stream",
     "text": [
      "\n",
      "Epoch: 28 \tTraining Loss: 0.1509 \tValidation Loss: 0.3264 \tTest Loss: 0.3264\n",
      "\t\tTraining Accuracy: 78.20%\t Validation Accuracy: 52.15%\t Test Accuracy: 52.15%\n"
     ]
    },
    {
     "name": "stderr",
     "output_type": "stream",
     "text": [
      "Epoch 29: 100%|██████████| 605/605 [00:07<00:00, 82.08it/s]\n"
     ]
    },
    {
     "name": "stdout",
     "output_type": "stream",
     "text": [
      "\n",
      "Epoch: 29 \tTraining Loss: 0.1469 \tValidation Loss: 0.3219 \tTest Loss: 0.3219\n",
      "\t\tTraining Accuracy: 79.36%\t Validation Accuracy: 52.15%\t Test Accuracy: 52.15%\n"
     ]
    },
    {
     "name": "stderr",
     "output_type": "stream",
     "text": [
      "Epoch 30: 100%|██████████| 605/605 [00:07<00:00, 84.13it/s]\n"
     ]
    },
    {
     "name": "stdout",
     "output_type": "stream",
     "text": [
      "\n",
      "Epoch: 30 \tTraining Loss: 0.1439 \tValidation Loss: 0.3024 \tTest Loss: 0.3024\n",
      "\t\tTraining Accuracy: 80.18%\t Validation Accuracy: 52.15%\t Test Accuracy: 52.15%\n"
     ]
    },
    {
     "name": "stderr",
     "output_type": "stream",
     "text": [
      "Epoch 31: 100%|██████████| 605/605 [00:07<00:00, 83.70it/s]\n"
     ]
    },
    {
     "name": "stdout",
     "output_type": "stream",
     "text": [
      "\n",
      "Epoch: 31 \tTraining Loss: 0.1455 \tValidation Loss: 0.3191 \tTest Loss: 0.3191\n",
      "\t\tTraining Accuracy: 79.36%\t Validation Accuracy: 55.83%\t Test Accuracy: 55.83%\n"
     ]
    },
    {
     "name": "stderr",
     "output_type": "stream",
     "text": [
      "Epoch 32: 100%|██████████| 605/605 [00:07<00:00, 84.68it/s]\n"
     ]
    },
    {
     "name": "stdout",
     "output_type": "stream",
     "text": [
      "\n",
      "Epoch: 32 \tTraining Loss: 0.1486 \tValidation Loss: 0.3112 \tTest Loss: 0.3112\n",
      "\t\tTraining Accuracy: 79.77%\t Validation Accuracy: 54.60%\t Test Accuracy: 54.60%\n"
     ]
    },
    {
     "name": "stderr",
     "output_type": "stream",
     "text": [
      "Epoch 33: 100%|██████████| 605/605 [00:07<00:00, 79.52it/s]\n"
     ]
    },
    {
     "name": "stdout",
     "output_type": "stream",
     "text": [
      "\n",
      "Epoch: 33 \tTraining Loss: 0.1436 \tValidation Loss: 0.3219 \tTest Loss: 0.3219\n",
      "\t\tTraining Accuracy: 79.89%\t Validation Accuracy: 50.31%\t Test Accuracy: 50.31%\n"
     ]
    },
    {
     "name": "stderr",
     "output_type": "stream",
     "text": [
      "Epoch 34: 100%|██████████| 605/605 [00:07<00:00, 83.65it/s]\n"
     ]
    },
    {
     "name": "stdout",
     "output_type": "stream",
     "text": [
      "\n",
      "Epoch: 34 \tTraining Loss: 0.1498 \tValidation Loss: 0.3079 \tTest Loss: 0.3079\n",
      "\t\tTraining Accuracy: 78.86%\t Validation Accuracy: 53.37%\t Test Accuracy: 53.37%\n"
     ]
    },
    {
     "name": "stderr",
     "output_type": "stream",
     "text": [
      "Epoch 35: 100%|██████████| 605/605 [00:07<00:00, 82.60it/s]\n"
     ]
    },
    {
     "name": "stdout",
     "output_type": "stream",
     "text": [
      "\n",
      "Epoch: 35 \tTraining Loss: 0.1432 \tValidation Loss: 0.3063 \tTest Loss: 0.3063\n",
      "\t\tTraining Accuracy: 80.18%\t Validation Accuracy: 54.60%\t Test Accuracy: 54.60%\n"
     ]
    },
    {
     "name": "stderr",
     "output_type": "stream",
     "text": [
      "Epoch 36: 100%|██████████| 605/605 [00:07<00:00, 82.50it/s]\n"
     ]
    },
    {
     "name": "stdout",
     "output_type": "stream",
     "text": [
      "\n",
      "Epoch: 36 \tTraining Loss: 0.1410 \tValidation Loss: 0.3219 \tTest Loss: 0.3219\n",
      "\t\tTraining Accuracy: 80.39%\t Validation Accuracy: 47.85%\t Test Accuracy: 47.85%\n"
     ]
    },
    {
     "name": "stderr",
     "output_type": "stream",
     "text": [
      "Epoch 37: 100%|██████████| 605/605 [00:07<00:00, 82.90it/s]\n"
     ]
    },
    {
     "name": "stdout",
     "output_type": "stream",
     "text": [
      "\n",
      "Epoch: 37 \tTraining Loss: 0.1436 \tValidation Loss: 0.3090 \tTest Loss: 0.3090\n",
      "\t\tTraining Accuracy: 79.27%\t Validation Accuracy: 52.76%\t Test Accuracy: 52.76%\n"
     ]
    },
    {
     "name": "stderr",
     "output_type": "stream",
     "text": [
      "Epoch 38: 100%|██████████| 605/605 [00:07<00:00, 79.24it/s]\n"
     ]
    },
    {
     "name": "stdout",
     "output_type": "stream",
     "text": [
      "\n",
      "Epoch: 38 \tTraining Loss: 0.1464 \tValidation Loss: 0.2964 \tTest Loss: 0.2964\n",
      "\t\tTraining Accuracy: 78.82%\t Validation Accuracy: 57.06%\t Test Accuracy: 57.06%\n"
     ]
    },
    {
     "name": "stderr",
     "output_type": "stream",
     "text": [
      "Epoch 39: 100%|██████████| 605/605 [00:07<00:00, 82.44it/s]\n"
     ]
    },
    {
     "name": "stdout",
     "output_type": "stream",
     "text": [
      "\n",
      "Epoch: 39 \tTraining Loss: 0.1471 \tValidation Loss: 0.3116 \tTest Loss: 0.3116\n",
      "\t\tTraining Accuracy: 79.07%\t Validation Accuracy: 50.92%\t Test Accuracy: 50.92%\n"
     ]
    },
    {
     "name": "stderr",
     "output_type": "stream",
     "text": [
      "Epoch 40: 100%|██████████| 605/605 [00:07<00:00, 83.20it/s]\n"
     ]
    },
    {
     "name": "stdout",
     "output_type": "stream",
     "text": [
      "\n",
      "Epoch: 40 \tTraining Loss: 0.1461 \tValidation Loss: 0.3222 \tTest Loss: 0.3222\n",
      "\t\tTraining Accuracy: 79.64%\t Validation Accuracy: 52.15%\t Test Accuracy: 52.15%\n",
      "\n",
      "Early Stopping! Total epochs: 40. Best epoch: 10 with loss: 0.26 and acc: 61.35%\n",
      "315.02 total seconds elapsed. 7.68 seconds per epoch.\n",
      "Test Loss: 0.264,  Test Accuracy: 61.35%\n",
      "completed fold 1\n",
      "#############################################################\n",
      "Cummulative Confusion Matrix\n",
      "[[57 20]\n",
      " [43 43]]\n",
      "Overall Test Accuracy: 61.35\n",
      "#############################################################\n"
     ]
    }
   ],
   "source": [
    "%run -i Train.py"
   ]
  },
  {
   "cell_type": "markdown",
   "metadata": {},
   "source": [
    "## Test"
   ]
  },
  {
   "cell_type": "code",
   "execution_count": 35,
   "metadata": {},
   "outputs": [
    {
     "name": "stdout",
     "output_type": "stream",
     "text": [
      "Config file 'Config_Test.ini' created\n"
     ]
    }
   ],
   "source": [
    "# CREATE OBJECT\n",
    "config_file = configparser.ConfigParser()\n",
    "# ADD NEW SECTION AND SETTINGS\n",
    "config_file[\"TEST\"] = {\n",
    "    'parentdir': '',  # Root or Parent Directory\n",
    "    'datafile': 'Data',  # Folder containing the dataset\n",
    "    'batch_size': 1,  # Batch Size, Change to fit hardware\n",
    "    'lossType': 'SoftM_MSE',  # loss function: 'SoftM_CELoss' or 'SoftM_MSE' or 'MSE'\n",
    "    'num_folds': 1,  # number of cross validation folds\n",
    "    'CI': 0.9,  # Confidence interval (missied cases with probability>=CI will be reported in excel file)\n",
    "    'load_model': False,  # specify path of pretrained model wieghts or set to False to train from scratch\n",
    "    'load_model_path': 'Results_Classification\\RODNet_Occp_Classification\\Fold_1\\RODNet_Occp_Classification_fold_1.pt',  # specify path of pretrained model wieghts or set to False to train from scratch\n",
    "    'labeled_data': True,  # set to true if you have the labeled test set\n",
    "    'model_name': 'RODNet_Occp_Classification',  # name of the saved model\n",
    "    'aux_logits': False,  # Required for models with auxilliary outputs (e.g., InceptionV3)  \n",
    "    'fold_start': 1,  # The starting fold for training\n",
    "    'fold_last': 1,  # The last fold for training\n",
    "    'N_steps': 1000,  # The last fold for training\n",
    "    'results_path': 'Results_Classification',  # main results folder\n",
    "}\n",
    "# SAVE CONFIG FILE\n",
    "with open(r\"Config_Test.ini\", 'w') as configfileObj:\n",
    "    config_file.write(configfileObj)\n",
    "    configfileObj.flush()\n",
    "    configfileObj.close()\n",
    "print(\"Config file 'Config_Test.ini' created\")"
   ]
  },
  {
   "cell_type": "code",
   "execution_count": 36,
   "metadata": {},
   "outputs": [
    {
     "name": "stdout",
     "output_type": "stream",
     "text": [
      "Train on GPU: True\n",
      "1 GPUs detected.\n",
      "Combined Evaluation of Folds 1 to 1...\n",
      "#############################################################\n",
      "Started fold 1\n",
      "model device: cuda\n"
     ]
    },
    {
     "name": "stderr",
     "output_type": "stream",
     "text": [
      "Testing:   0%|          | 0/163 [00:00<?, ?it/s]c:\\Users\\Sakib Mahmud\\AppData\\Local\\Programs\\Python\\Python311\\Lib\\site-packages\\torch\\nn\\modules\\loss.py:535: UserWarning: Using a target size (torch.Size([2])) that is different to the input size (torch.Size([1, 2])). This will likely lead to incorrect results due to broadcasting. Please ensure they have the same size.\n",
      "  return F.mse_loss(input, target, reduction=self.reduction)\n",
      "Testing: 100%|██████████| 163/163 [00:00<00:00, 182.98it/s]\n"
     ]
    },
    {
     "name": "stdout",
     "output_type": "stream",
     "text": [
      "Test Loss: 0.264,  Test Accuracy: 61.35%\n",
      "Generating CSV Files from Individual Predictions...\n",
      "Test Dataframe Write to CSV - Done\n",
      "Total Inference Time: 4.4 ms\n",
      "Completed fold 1\n",
      "#############################################################\n"
     ]
    },
    {
     "name": "stderr",
     "output_type": "stream",
     "text": [
      "Combined Evaluation: 100%|██████████| 1/1 [00:03<00:00,  3.09s/it]\n"
     ]
    },
    {
     "name": "stdout",
     "output_type": "stream",
     "text": [
      "\n",
      "\n",
      "    0   1\n",
      "0  57  20\n",
      "1  43  43\n",
      "\n",
      "\n",
      "                  Accuracy  Precision  Sensitivity  F1_score  Specificity\n",
      "0                    61.35      57.00        74.03     64.41        50.00\n",
      "1                    61.35      68.25        50.00     57.72        74.03\n",
      "Weighted Average     61.35      62.94        61.35     60.88        62.68\n",
      "\n",
      "\n",
      "                       \n",
      "Overall_Accuracy  61.35\n",
      "\n",
      "\n",
      "#############################################################\n"
     ]
    }
   ],
   "source": [
    "%run -i Test.py"
   ]
  },
  {
   "cell_type": "markdown",
   "metadata": {},
   "source": []
  },
  {
   "cell_type": "code",
   "execution_count": null,
   "metadata": {},
   "outputs": [],
   "source": []
  }
 ],
 "metadata": {
  "accelerator": "GPU",
  "colab": {
   "collapsed_sections": [
    "tgW7r0C9TuZk",
    "Kir80l1FKPXB",
    "vMHdM26iekBm",
    "VUciLEJeyvyN",
    "WesN7p7AeYK4"
   ],
   "machine_shape": "hm",
   "name": "1D_CNN_Segmentation_End2End_Pipeline.ipynb",
   "provenance": []
  },
  "kernelspec": {
   "display_name": "Python 3 (ipykernel)",
   "language": "python",
   "name": "python3"
  },
  "language_info": {
   "codemirror_mode": {
    "name": "ipython",
    "version": 3
   },
   "file_extension": ".py",
   "mimetype": "text/x-python",
   "name": "python",
   "nbconvert_exporter": "python",
   "pygments_lexer": "ipython3",
   "version": "3.11.6"
  }
 },
 "nbformat": 4,
 "nbformat_minor": 1
}

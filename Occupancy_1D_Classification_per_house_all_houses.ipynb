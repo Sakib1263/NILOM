{
 "cells": [
  {
   "cell_type": "markdown",
   "metadata": {
    "id": "sFyb0y7PUJOo"
   },
   "source": [
    "# Iberdrola Project - Phase 2 [Occupancy Detection]"
   ]
  },
  {
   "cell_type": "markdown",
   "metadata": {
    "id": "W9vTr2NhcGAA"
   },
   "source": [
    "# Test GPU (Optional)\n",
    "Before Starting, kindly check the available GPU from the Google Server, GPU model and other related information. It might help!"
   ]
  },
  {
   "cell_type": "code",
   "execution_count": 1,
   "metadata": {},
   "outputs": [
    {
     "name": "stdout",
     "output_type": "stream",
     "text": [
      "Is CUDA enabled GPU Available? True\n",
      "GPU Number: 1\n",
      "Current GPU Index: 0\n",
      "GPU Type: NVIDIA GeForce RTX 3080 Ti Laptop GPU\n",
      "GPU Capability: (8, 6)\n",
      "Is GPU Initialized yet? True\n",
      "2.1.2+cu121\n"
     ]
    }
   ],
   "source": [
    "import torch\n",
    "print(\"Is CUDA enabled GPU Available?\", torch.cuda.is_available())\n",
    "print(\"GPU Number:\", torch.cuda.device_count())\n",
    "print(\"Current GPU Index:\", torch.cuda.current_device())\n",
    "print(\"GPU Type:\", torch.cuda.get_device_name(device=None))\n",
    "print(\"GPU Capability:\", torch.cuda.get_device_capability(device=None))\n",
    "print(\"Is GPU Initialized yet?\", torch.cuda.is_initialized())\n",
    "print(torch.__version__)"
   ]
  },
  {
   "cell_type": "markdown",
   "metadata": {
    "id": "tgW7r0C9TuZk"
   },
   "source": [
    "# Import Libraries"
   ]
  },
  {
   "cell_type": "code",
   "execution_count": 2,
   "metadata": {
    "id": "eMhBhz1CrMb3"
   },
   "outputs": [
    {
     "name": "stderr",
     "output_type": "stream",
     "text": [
      "2025-03-15 03:25:59.838174: I tensorflow/core/util/port.cc:153] oneDNN custom operations are on. You may see slightly different numerical results due to floating-point round-off errors from different computation orders. To turn them off, set the environment variable `TF_ENABLE_ONEDNN_OPTS=0`.\n",
      "2025-03-15 03:25:59.852346: E external/local_xla/xla/stream_executor/cuda/cuda_fft.cc:477] Unable to register cuFFT factory: Attempting to register factory for plugin cuFFT when one has already been registered\n",
      "WARNING: All log messages before absl::InitializeLog() is called are written to STDERR\n",
      "E0000 00:00:1741998359.871178   96792 cuda_dnn.cc:8310] Unable to register cuDNN factory: Attempting to register factory for plugin cuDNN when one has already been registered\n",
      "E0000 00:00:1741998359.877496   96792 cuda_blas.cc:1418] Unable to register cuBLAS factory: Attempting to register factory for plugin cuBLAS when one has already been registered\n",
      "2025-03-15 03:25:59.897237: I tensorflow/core/platform/cpu_feature_guard.cc:210] This TensorFlow binary is optimized to use available CPU instructions in performance-critical operations.\n",
      "To enable the following instructions: AVX2 AVX_VNNI FMA, in other operations, rebuild TensorFlow with the appropriate compiler flags.\n"
     ]
    }
   ],
   "source": [
    "import os\n",
    "import h5py\n",
    "import scipy\n",
    "import random\n",
    "import pickle\n",
    "import json\n",
    "import configparser\n",
    "import numpy as np\n",
    "import pandas as pd\n",
    "import seaborn as sns\n",
    "import scipy.io as sio\n",
    "import tensorflow as tf\n",
    "import matplotlib.pyplot as plt\n",
    "from sklearn.metrics import mean_squared_error, mean_absolute_error, r2_score, classification_report, confusion_matrix\n",
    "from sklearn.model_selection import train_test_split\n",
    "from scipy.io import loadmat, savemat\n",
    "from pathlib import Path\n",
    "from tqdm import tqdm\n",
    "from scipy import stats\n",
    "from random import shuffle"
   ]
  },
  {
   "cell_type": "code",
   "execution_count": 3,
   "metadata": {
    "id": "03JA1kRfzoit"
   },
   "outputs": [],
   "source": [
    "%matplotlib inline\n",
    "sns.set_style('white')"
   ]
  },
  {
   "cell_type": "markdown",
   "metadata": {},
   "source": [
    "# Study Configurations"
   ]
  },
  {
   "cell_type": "code",
   "execution_count": 4,
   "metadata": {},
   "outputs": [],
   "source": [
    "task_num = 2\n",
    "fold_num = 5"
   ]
  },
  {
   "cell_type": "markdown",
   "metadata": {},
   "source": [
    "# Import and Prepare Data"
   ]
  },
  {
   "cell_type": "markdown",
   "metadata": {},
   "source": [
    "## Import and Concatenate Data"
   ]
  },
  {
   "cell_type": "code",
   "execution_count": null,
   "metadata": {},
   "outputs": [],
   "source": [
    "# Import\n",
    "fl_Data_H01 = loadmat('Occupancy_Data_Curated_House_01_V2.mat')\n",
    "X_Data_H01 = fl_Data_H01['X_Data']\n",
    "Y_Data_H01 = fl_Data_H01['Y_Data']\n",
    "H01_array = np.ones((X_Data_H01.shape[0],1))*1\n",
    "print(X_Data_H01.shape)\n",
    "print(Y_Data_H01.shape)\n",
    "print(H01_array.shape)\n",
    "fl_Data_H02 = loadmat('Occupancy_Data_Curated_House_02_V2.mat')\n",
    "X_Data_H02 = fl_Data_H02['X_Data']\n",
    "Y_Data_H02 = fl_Data_H02['Y_Data']\n",
    "H02_array = np.ones((X_Data_H02.shape[0],1))*2\n",
    "print(X_Data_H02.shape)\n",
    "print(Y_Data_H02.shape)\n",
    "print(H02_array.shape)\n",
    "fl_Data_H03 = loadmat('Occupancy_Data_Curated_House_03.mat')\n",
    "X_Data_H03 = fl_Data_H03['X_Data']\n",
    "Y_Data_H03 = fl_Data_H03['Y_Data']\n",
    "H03_array = np.ones((X_Data_H03.shape[0],1))*3\n",
    "print(X_Data_H03.shape)\n",
    "print(Y_Data_H03.shape)\n",
    "print(H03_array.shape)\n",
    "fl_Data_H04 = loadmat('Occupancy_Data_Curated_House_04_V2.mat')\n",
    "X_Data_H04 = fl_Data_H04['X_Data']\n",
    "Y_Data_H04 = fl_Data_H04['Y_Data']\n",
    "H04_array = np.ones((X_Data_H04.shape[0],1))*4\n",
    "print(X_Data_H04.shape)\n",
    "print(Y_Data_H04.shape)\n",
    "print(H04_array.shape)\n",
    "fl_Data_H05 = loadmat('Occupancy_Data_Curated_House_05_V2.mat')\n",
    "X_Data_H05 = fl_Data_H05['X_Data']\n",
    "Y_Data_H05 = fl_Data_H05['Y_Data']\n",
    "H05_array = np.ones((X_Data_H05.shape[0],1))*5\n",
    "print(X_Data_H05.shape)\n",
    "print(Y_Data_H05.shape)\n",
    "print(H05_array.shape)\n",
    "# X_Data = X_Data_H01\n",
    "# Y_Data = Y_Data_H01\n",
    "# House_array = H01_array\n",
    "# Combine\n",
    "X_Data = np.concatenate((X_Data_H01,X_Data_H02,X_Data_H04,X_Data_H05), axis=0)\n",
    "Y_Data = np.concatenate((Y_Data_H01,Y_Data_H02,Y_Data_H04,Y_Data_H05), axis=0)\n",
    "House_array = np.int_(np.concatenate((H01_array,H02_array,H04_array,H05_array), axis=0))\n",
    "print(X_Data.shape)\n",
    "print(Y_Data.shape)\n",
    "print(House_array.shape)\n",
    "print(np.int_(np.transpose(House_array)))\n",
    "sample_num = X_Data.shape[0]\n",
    "segment_length = X_Data.shape[1]\n",
    "num_channels = X_Data.shape[2]"
   ]
  },
  {
   "cell_type": "markdown",
   "metadata": {},
   "source": [
    "Plot Aggregated Ground Truth"
   ]
  },
  {
   "cell_type": "code",
   "execution_count": 6,
   "metadata": {},
   "outputs": [
    {
     "data": {
      "image/png": "[encoded data removed]",
      "text/plain": [
       "<Figure size 3200x600 with 2 Axes>"
      ]
     },
     "metadata": {},
     "output_type": "display_data"
    }
   ],
   "source": [
    "segment_length = 86400\n",
    "i = random.randint(0, X_Data.shape[0]-1)\n",
    "'''Dishwasher'''\n",
    "plt.figure(figsize=(32,6))\n",
    "plt.subplot(2,1,1)\n",
    "plt.plot(X_Data[i,:,0], linewidth=3, label='Aggregated Data GT', color='navy')\n",
    "plt.title(f\"House {np.int_(House_array[i])} - Aggregated Appliance Data - Sample {i}\", fontdict={'fontsize': 22})\n",
    "plt.xlim((0,segment_length))\n",
    "plt.tick_params(labelsize=16, colors='k')\n",
    "plt.legend()\n",
    "plt.tight_layout()\n",
    "'''Occupancy Label'''\n",
    "plt.subplot(2,1,2)\n",
    "plt.plot(Y_Data[i,:,0], linewidth=3, label='Occupancy Label GT', color='navy')\n",
    "plt.title(f\"Occupancy Label\", fontdict={'fontsize': 22})\n",
    "plt.xlim((0,segment_length))\n",
    "# plt.ylim((0,1))\n",
    "plt.tick_params(labelsize=16, colors='k')\n",
    "plt.legend()\n",
    "plt.tight_layout()"
   ]
  },
  {
   "cell_type": "code",
   "execution_count": 7,
   "metadata": {},
   "outputs": [
    {
     "name": "stdout",
     "output_type": "stream",
     "text": [
      "(199, 86400, 1)\n",
      "(199, 86400, 1)\n",
      "(199, 1)\n",
      "[[2 4 4 2 2 4 2 5 2 2 2 4 2 4 2 4 2 4 2 1 2 4 5 2 4 2 2 5 2 1 5 4 5 2 4 2\n",
      "  4 2 2 2 2 2 4 2 2 2 2 4 1 5 2 2 2 2 2 2 1 2 2 1 2 2 5 2 2 5 2 5 2 2 4 2\n",
      "  4 1 2 4 4 4 2 2 2 4 4 2 2 5 5 1 5 4 2 2 2 1 2 5 4 4 2 4 2 4 2 2 5 4 2 2\n",
      "  2 1 2 2 5 2 1 1 2 2 5 5 4 2 2 5 4 4 4 2 4 1 2 4 4 2 2 2 1 2 2 2 5 2 2 5\n",
      "  1 2 2 2 2 4 2 2 2 5 1 2 5 2 2 4 2 2 4 5 4 5 2 2 4 2 2 2 4 2 5 2 2 5 5 5\n",
      "  4 4 2 2 2 5 2 4 2 2 2 2 5 2 2 2 2 2 5]]\n"
     ]
    }
   ],
   "source": [
    "ind_list = [i for i in range(sample_num)]\n",
    "shuffle(ind_list)\n",
    "X_Data  = X_Data[ind_list,:,:]\n",
    "Y_Data = Y_Data[ind_list,:,:]\n",
    "House_array  = House_array[ind_list,:]\n",
    "print(X_Data.shape)\n",
    "print(Y_Data.shape)\n",
    "print(House_array.shape)\n",
    "print(np.int_(np.transpose(House_array)))"
   ]
  },
  {
   "cell_type": "markdown",
   "metadata": {},
   "source": [
    "## Create Folds"
   ]
  },
  {
   "cell_type": "markdown",
   "metadata": {},
   "source": [
    "### Train and Test Sets - Random Split - 20% for Test - 10% for Validation"
   ]
  },
  {
   "cell_type": "code",
   "execution_count": 8,
   "metadata": {},
   "outputs": [
    {
     "name": "stdout",
     "output_type": "stream",
     "text": [
      "(159, 86400, 1)\n",
      "(159, 86400, 1)\n",
      "(40, 86400, 1)\n",
      "(40, 86400, 1)\n",
      "(40, 86400, 1)\n",
      "(40, 86400, 1)\n"
     ]
    }
   ],
   "source": [
    "X_Train, X_Test, Y_Train, Y_Test, HA_Train, HA_Test = train_test_split(X_Data, Y_Data, House_array, test_size=0.2, random_state=0)\n",
    "X_Val = X_Test\n",
    "Y_Val = Y_Test\n",
    "print(X_Train.shape)\n",
    "print(Y_Train.shape)\n",
    "print(X_Test.shape)\n",
    "print(Y_Test.shape)\n",
    "print(X_Val.shape)\n",
    "print(Y_Val.shape)"
   ]
  },
  {
   "cell_type": "markdown",
   "metadata": {},
   "source": [
    "### Or house-independent folds"
   ]
  },
  {
   "cell_type": "code",
   "execution_count": 22,
   "metadata": {},
   "outputs": [
    {
     "name": "stdout",
     "output_type": "stream",
     "text": [
      "(285, 86400, 1)\n",
      "(285, 86400, 1)\n",
      "(74, 86400, 1)\n",
      "(74, 86400, 1)\n",
      "(74, 86400, 1)\n",
      "(74, 86400, 1)\n",
      "(74, 1)\n"
     ]
    }
   ],
   "source": [
    "if fold_num == 1:\n",
    "    train_house_IDs = [1,2,4]\n",
    "    test_house_IDs = [5]\n",
    "elif fold_num == 2:\n",
    "    train_house_IDs = [1,2,5]\n",
    "    test_house_IDs = [4]\n",
    "elif fold_num == 3:\n",
    "    train_house_IDs = [1,4,5]\n",
    "    test_house_IDs = [2]\n",
    "elif fold_num == 4:\n",
    "    train_house_IDs = [2,4,5]\n",
    "    test_house_IDs = [1]\n",
    "train_Indices = np.where(House_array == train_house_IDs)[0]\n",
    "X_Train = np.take(X_Data, train_Indices, axis=0)\n",
    "Y_Train = np.take(Y_Data, train_Indices, axis=0)\n",
    "test_Indices = np.where(House_array == test_house_IDs)[0]\n",
    "X_Test = np.take(X_Data, test_Indices, axis=0)\n",
    "Y_Test = np.take(Y_Data, test_Indices, axis=0)\n",
    "Y_Test_House_Labels = np.take(House_array, test_Indices, axis=0)\n",
    "X_Val = X_Test\n",
    "Y_Val = Y_Test\n",
    "print(X_Train.shape)\n",
    "print(Y_Train.shape)\n",
    "print(X_Test.shape)\n",
    "print(Y_Test.shape)\n",
    "print(X_Val.shape)\n",
    "print(Y_Val.shape)\n",
    "print(Y_Test_House_Labels.shape)"
   ]
  },
  {
   "cell_type": "markdown",
   "metadata": {},
   "source": [
    "### Or Manual Split"
   ]
  },
  {
   "cell_type": "code",
   "execution_count": 9,
   "metadata": {},
   "outputs": [
    {
     "name": "stdout",
     "output_type": "stream",
     "text": [
      "(159, 86400, 1)\n",
      "(159, 86400, 1)\n",
      "(40, 86400, 1)\n",
      "(40, 86400, 1)\n",
      "(40, 86400, 1)\n",
      "(40, 86400, 1)\n",
      "(159, 1)\n",
      "(40, 1)\n"
     ]
    }
   ],
   "source": [
    "if fold_num == 1:\n",
    "    X_Train = X_Data[0:round((sample_num/5)*4),:,:]\n",
    "    X_Test = X_Data[round((sample_num/5)*4):,:,:]\n",
    "    Y_Train = Y_Data[0:round((sample_num/5)*4),:,:]\n",
    "    Y_Test = Y_Data[round((sample_num/5)*4):,:,:]\n",
    "    HA_Train = House_array[0:round((sample_num/5)*4),:]\n",
    "    HA_Test = House_array[round((sample_num/5)*4):,:]               \n",
    "elif fold_num == 2:\n",
    "    X_Train1 = X_Data[0:round((sample_num/5)*3),:,:]\n",
    "    X_Train2 = X_Data[round((sample_num/5)*4):,:,:]\n",
    "    X_Train = np.concatenate((X_Train1,X_Train2), axis=0)\n",
    "    X_Test = X_Data[round((sample_num/5)*3):round((sample_num/5)*4),:,:]\n",
    "    Y_Train1 = Y_Data[0:round((sample_num/5)*3),:,:]\n",
    "    Y_Train2 = Y_Data[round((sample_num/5)*4):,:,:]\n",
    "    Y_Train = np.concatenate((Y_Train1,Y_Train2), axis=0)\n",
    "    Y_Test = Y_Data[round((sample_num/5)*3):round((sample_num/5)*4),:,:]\n",
    "    HA_Train1 = House_array[0:round((sample_num/5)*3),:]\n",
    "    HA_Train2 = House_array[round((sample_num/5)*4):,:]\n",
    "    HA_Train = np.concatenate((HA_Train1,HA_Train2), axis=0)\n",
    "    HA_Test = House_array[round((sample_num/5)*3):round((sample_num/5)*4),:]\n",
    "elif fold_num == 3:\n",
    "    X_Train1 = X_Data[0:round((sample_num/5)*2),:,:]\n",
    "    X_Train2 = X_Data[round((sample_num/5)*3):,:,:]\n",
    "    X_Train = np.concatenate((X_Train1,X_Train2), axis=0)\n",
    "    X_Test = X_Data[round((sample_num/5)*2):round((sample_num/5)*3),:,:]\n",
    "    Y_Train1 = Y_Data[0:round((sample_num/5)*2),:,:]\n",
    "    Y_Train2 = Y_Data[round((sample_num/5)*3):,:,:]\n",
    "    Y_Train = np.concatenate((Y_Train1,Y_Train2), axis=0)\n",
    "    Y_Test = Y_Data[round((sample_num/5)*2):round((sample_num/5)*3),:,:]\n",
    "    HA_Train1 = House_array[0:round((sample_num/5)*2),:]\n",
    "    HA_Train2 = House_array[round((sample_num/5)*3):,:]\n",
    "    HA_Train = np.concatenate((HA_Train1,HA_Train2), axis=0)\n",
    "    HA_Test = House_array[round((sample_num/5)*2):round((sample_num/5)*3),:]\n",
    "elif fold_num == 4:\n",
    "    X_Train1 = X_Data[0:round((sample_num/5)*1),:,:]\n",
    "    X_Train2 = X_Data[round((sample_num/5)*2):,:,:]\n",
    "    X_Train = np.concatenate((X_Train1,X_Train2), axis=0)\n",
    "    X_Test = X_Data[round((sample_num/5)*1):round((sample_num/5)*2),:,:]\n",
    "    Y_Train1 = Y_Data[0:round((sample_num/5)*1),:,:]\n",
    "    Y_Train2 = Y_Data[round((sample_num/5)*2):,:,:]\n",
    "    Y_Train = np.concatenate((Y_Train1,Y_Train2), axis=0)\n",
    "    Y_Test = Y_Data[round((sample_num/5)*1):round((sample_num/5)*2),:,:]\n",
    "    HA_Train1 = House_array[0:round((sample_num/5)*1),:]\n",
    "    HA_Train2 = House_array[round((sample_num/5)*2):,:]\n",
    "    HA_Train = np.concatenate((HA_Train1,HA_Train2), axis=0)\n",
    "    HA_Test = House_array[round((sample_num/5)*1):round((sample_num/5)*2),:]\n",
    "elif fold_num == 5:\n",
    "    X_Train = X_Data[round((sample_num/5)*1):,:,:]\n",
    "    X_Test = X_Data[0:round((sample_num/5)*1),:,:]\n",
    "    Y_Train = Y_Data[round((sample_num/5)*1):,:,:]\n",
    "    Y_Test = Y_Data[0:round((sample_num/5)*1),:,:]\n",
    "    HA_Train = House_array[round((sample_num/5)*1):,:]\n",
    "    HA_Test = House_array[0:round((sample_num/5)*1),:] \n",
    "X_Val = X_Test\n",
    "Y_Val = Y_Test\n",
    "print(X_Train.shape)\n",
    "print(Y_Train.shape)\n",
    "print(X_Test.shape)\n",
    "print(Y_Test.shape)\n",
    "print(X_Val.shape)\n",
    "print(Y_Val.shape)\n",
    "print(HA_Train.shape)\n",
    "print(HA_Test.shape)"
   ]
  },
  {
   "cell_type": "markdown",
   "metadata": {},
   "source": [
    "## Prepare data for classification (Method 1)"
   ]
  },
  {
   "cell_type": "markdown",
   "metadata": {},
   "source": [
    "### Augment Train Set through overlapping"
   ]
  },
  {
   "cell_type": "code",
   "execution_count": 10,
   "metadata": {},
   "outputs": [],
   "source": [
    "def overlap_data(X_Data, Y_Data, overlap_ratio, target_segment_length):\n",
    "    # Input Array Shape\n",
    "    X_Data_Shape = X_Data.shape\n",
    "    Y_Data_Shape = Y_Data.shape\n",
    "    original_segment_length = X_Data_Shape[1]\n",
    "    # Reshape Array\n",
    "    X_Data_Reshaped = np.reshape(X_Data, (X_Data_Shape[0]*X_Data_Shape[1], X_Data_Shape[2]))\n",
    "    Y_Data_Reshaped = np.reshape(Y_Data, (X_Data_Shape[0]*X_Data_Shape[1], Y_Data_Shape[2]))\n",
    "    X_Data_Reshaped_Shape = X_Data_Reshaped.shape\n",
    "    Y_Data_Reshaped_Shape = Y_Data_Reshaped.shape\n",
    "    # Overlap\n",
    "    offset_amount = np.int_(original_segment_length*(1 - overlap_ratio))\n",
    "    X_Data_New = np.zeros((10000,target_segment_length,X_Data_Reshaped_Shape[1]))\n",
    "    Y_Data_New = np.zeros((10000,target_segment_length,Y_Data_Reshaped_Shape[1]))\n",
    "    num_segments_approx = np.int_(np.ceil(X_Data_Reshaped_Shape[0]/offset_amount))\n",
    "    counter = 0\n",
    "    for i in range(0,num_segments_approx):\n",
    "        if (i*offset_amount+target_segment_length) > X_Data_Reshaped_Shape[0]:\n",
    "            continue\n",
    "        X_Data_Temp = X_Data_Reshaped[i*offset_amount:i*offset_amount+target_segment_length,:]\n",
    "        # X_Data_Temp = (X_Data_Temp - np.min(X_Data_Temp))/(np.max(X_Data_Temp)-np.min(X_Data_Temp))  # Range Normalization [0 1]\n",
    "        X_Data_New[counter,:,:] = X_Data_Temp\n",
    "        Y_Data_Temp = Y_Data_Reshaped[i*offset_amount:i*offset_amount+target_segment_length,:]\n",
    "        # Y_Data_Temp = (Y_Data_Temp - np.min(Y_Data_Temp))/(np.max(Y_Data_Temp)-np.min(Y_Data_Temp))\n",
    "        Y_Data_New[counter,:,:] = Y_Data_Temp\n",
    "        counter = counter + 1\n",
    "    X_Data_OVRL = X_Data_New[0:counter,:,:]\n",
    "    Y_Data_OVRL = Y_Data_New[0:counter,:,:]\n",
    "    \n",
    "    return X_Data_OVRL, Y_Data_OVRL"
   ]
  },
  {
   "cell_type": "code",
   "execution_count": null,
   "metadata": {},
   "outputs": [],
   "source": [
    "def overlap_data(X_Data, Y_Data, overlap_ratio, target_segment_length):\n",
    "    # Input Array Shape\n",
    "    X_Data_Shape = X_Data.shape\n",
    "    Y_Data_Shape = Y_Data.shape\n",
    "    original_segment_length = X_Data_Shape[1]\n",
    "    # Reshape Array\n",
    "    X_Data_Reshaped = np.reshape(X_Data, (X_Data_Shape[0]*X_Data_Shape[1], X_Data_Shape[2]))\n",
    "    Y_Data_Reshaped = np.reshape(Y_Data, (X_Data_Shape[0]*X_Data_Shape[1], Y_Data_Shape[2]))\n",
    "    X_Data_Reshaped_Shape = X_Data_Reshaped.shape\n",
    "    Y_Data_Reshaped_Shape = Y_Data_Reshaped.shape\n",
    "    # Overlap\n",
    "    offset_amount = np.int_(original_segment_length*(1 - overlap_ratio))\n",
    "    X_Data_New = np.zeros((10000,target_segment_length,X_Data_Reshaped_Shape[1]))\n",
    "    Y_Data_New = np.zeros((10000,target_segment_length,Y_Data_Reshaped_Shape[1]))\n",
    "    num_segments_approx = np.int_(np.ceil(X_Data_Reshaped_Shape[0]/offset_amount))\n",
    "    counter = 0\n",
    "    for i in range(0,num_segments_approx):\n",
    "        if (i*offset_amount+target_segment_length) > X_Data_Reshaped_Shape[0]:\n",
    "            continue\n",
    "        X_Data_Temp = X_Data_Reshaped[i*offset_amount:i*offset_amount+target_segment_length,:]\n",
    "        # X_Data_Temp = (X_Data_Temp - np.min(X_Data_Temp))/(np.max(X_Data_Temp)-np.min(X_Data_Temp))  # Range Normalization [0 1]\n",
    "        X_Data_New[counter,:,:] = X_Data_Temp\n",
    "        Y_Data_Temp = Y_Data_Reshaped[i*offset_amount:i*offset_amount+target_segment_length,:]\n",
    "        # Y_Data_Temp = (Y_Data_Temp - np.min(Y_Data_Temp))/(np.max(Y_Data_Temp)-np.min(Y_Data_Temp))\n",
    "        Y_Data_New[counter,:,:] = Y_Data_Temp\n",
    "        counter = counter + 1\n",
    "    X_Data_OVRL = X_Data_New[0:counter,:,:]\n",
    "    Y_Data_OVRL = Y_Data_New[0:counter,:,:]\n",
    "    \n",
    "    return X_Data_OVRL, Y_Data_OVRL"
   ]
  },
  {
   "cell_type": "code",
   "execution_count": 11,
   "metadata": {},
   "outputs": [
    {
     "name": "stdout",
     "output_type": "stream",
     "text": [
      "(1581, 86400, 1)\n",
      "(1581, 86400, 1)\n",
      "(391, 86400, 1)\n",
      "(391, 86400, 1)\n"
     ]
    }
   ],
   "source": [
    "X_Train_OVRL, Y_Train_OVRL = overlap_data(X_Train, Y_Train, 0.9, 86400)\n",
    "X_Test_OVRL, Y_Test_OVRL = overlap_data(X_Test, Y_Test, 0.9, 86400)\n",
    "X_Val_OVRL, Y_Val_OVRL = overlap_data(X_Val, Y_Val, 0.9, 86400)\n",
    "print(X_Train_OVRL.shape)\n",
    "print(Y_Train_OVRL.shape)\n",
    "print(X_Test_OVRL.shape)\n",
    "print(Y_Test_OVRL.shape)"
   ]
  },
  {
   "cell_type": "markdown",
   "metadata": {},
   "source": [
    "### Transform Labels for Classification"
   ]
  },
  {
   "cell_type": "code",
   "execution_count": 12,
   "metadata": {},
   "outputs": [],
   "source": [
    "def transform_labels(X_Data_OVRL, Y_Data_OVRL, segment_length, num_channels):\n",
    "    X_Data_New = np.zeros((200000,num_channels,segment_length))\n",
    "    Y_Data_New = np.zeros((200000,1), dtype=int)\n",
    "    ## Raw Dataset\n",
    "    X_Data_Shape = X_Data_OVRL.shape\n",
    "    Y_Data_Shape = Y_Data_OVRL.shape\n",
    "    # Reshape Array\n",
    "    X_Data_Reshaped = np.reshape(X_Data_OVRL, (X_Data_Shape[0]*X_Data_Shape[1], num_channels))\n",
    "    Y_Data_Reshaped = np.reshape(Y_Data_OVRL, (Y_Data_Shape[0]*Y_Data_Shape[1], 1))\n",
    "    X_Data_Reshaped_Shape = X_Data_Reshaped.shape\n",
    "    Y_Data_Reshaped_Shape = Y_Data_Reshaped.shape\n",
    "    num_segments_approx = np.int_(np.ceil(X_Data_Reshaped_Shape[0]/segment_length))\n",
    "    counter = 0\n",
    "    for i in range(0,num_segments_approx):\n",
    "        if ((i+1)*segment_length) > X_Data_Reshaped_Shape[0]:\n",
    "            continue\n",
    "        X_Data_Temp = np.transpose(X_Data_Reshaped[i*segment_length:(i+1)*segment_length,:])\n",
    "        X_Data_Temp_Mean = np.mean(X_Data_Temp)\n",
    "        X_Data_Temp_VAR = np.var(X_Data_Temp)\n",
    "        X_Data_New[counter,:,:] = X_Data_Temp\n",
    "        Y_Data_Temp = Y_Data_Reshaped[i*segment_length:(i+1)*segment_length,:]\n",
    "        Y_Data_Temp_Mean = np.mean(Y_Data_Temp)\n",
    "        Y_Data_Temp_VAR = np.var(Y_Data_Temp)\n",
    "        Y_Data_Temp_SUM = np.sum(Y_Data_Temp)\n",
    "        if X_Data_Temp_VAR <= 0.001:\n",
    "            continue\n",
    "        # if Y_Data_Temp_VAR <= 0.001:\n",
    "            # continue\n",
    "        if (Y_Data_Temp_SUM < np.round(0.1*segment_length)) or (Y_Data_Temp_SUM > np.round(0.90*segment_length)):\n",
    "            continue\n",
    "        # if Y_Data_Temp_SUM == segment_length:\n",
    "            # continue\n",
    "        if Y_Data_Temp_Mean > 0.5:\n",
    "            Y_Label = 1\n",
    "        else:\n",
    "            Y_Label = 0\n",
    "        Y_Data_New[counter,:] = Y_Label\n",
    "        counter = counter + 1\n",
    "    X_Data_New = X_Data_New[0:counter,:,:]\n",
    "    Y_Data_New = Y_Data_New[0:counter,:]\n",
    "    return X_Data_New, Y_Data_New"
   ]
  },
  {
   "cell_type": "code",
   "execution_count": 13,
   "metadata": {},
   "outputs": [
    {
     "name": "stdout",
     "output_type": "stream",
     "text": [
      "(1489, 1, 7200)\n",
      "(1489, 1)\n",
      "(409, 1, 7200)\n",
      "(409, 1)\n",
      "(409, 1, 7200)\n",
      "(409, 1)\n",
      "[0 1] [636 853]\n",
      "[0 1] [164 245]\n",
      "[0 1] [164 245]\n"
     ]
    }
   ],
   "source": [
    "segment_length = 7200  # 20 Minutes = 1200 Data Points (1 Hz sampling rate)\n",
    "X_Train_C, Y_Train_C = transform_labels(X_Train_OVRL, Y_Train_OVRL, segment_length, num_channels)\n",
    "X_Test_C, Y_Test_C = transform_labels(X_Test_OVRL, Y_Test_OVRL, segment_length, num_channels)\n",
    "X_Val_C, Y_Val_C = transform_labels(X_Test_OVRL, Y_Test_OVRL, segment_length, num_channels)\n",
    "print(X_Train_C.shape)\n",
    "print(Y_Train_C.shape)\n",
    "print(X_Test_C.shape)\n",
    "print(Y_Test_C.shape)\n",
    "print(X_Val_C.shape)\n",
    "print(Y_Val_C.shape)\n",
    "labels, counts = np.unique(Y_Train_C, return_counts=True)\n",
    "print(labels, counts)\n",
    "labels, counts = np.unique(Y_Test_C, return_counts=True)\n",
    "print(labels, counts)\n",
    "labels, counts = np.unique(Y_Val_C, return_counts=True)\n",
    "print(labels, counts)\n"
   ]
  },
  {
   "cell_type": "markdown",
   "metadata": {},
   "source": [
    "## Prepare data for classification (Method 2)"
   ]
  },
  {
   "cell_type": "markdown",
   "metadata": {},
   "source": [
    "Transform data for classification (S2P learning)"
   ]
  },
  {
   "cell_type": "code",
   "execution_count": 14,
   "metadata": {},
   "outputs": [],
   "source": [
    "def transform_labels(X_Data, Y_Data, segment_length, num_channels, offset_amount, C1=True, C2=True):\n",
    "    X_Data_New = np.zeros((40000,num_channels,segment_length))\n",
    "    Y_Data_New = np.zeros((40000,1), dtype=int)\n",
    "    ## Shape of Raw Dataset\n",
    "    X_Data_Shape = X_Data.shape\n",
    "    Y_Data_Shape = Y_Data.shape\n",
    "    # Reshape Array\n",
    "    X_Data_Reshaped = np.reshape(X_Data, (X_Data_Shape[0]*X_Data_Shape[1], num_channels))\n",
    "    Y_Data_Reshaped = np.reshape(Y_Data, (Y_Data_Shape[0]*Y_Data_Shape[1], 1))\n",
    "    X_Data_Reshaped_Shape = X_Data_Reshaped.shape\n",
    "    Y_Data_Reshaped_Shape = Y_Data_Reshaped.shape\n",
    "    ## Slide through and generate labels\n",
    "    counter = 0\n",
    "    for i in range(0,Y_Data_Reshaped_Shape[0]):\n",
    "        if (i*offset_amount+segment_length) >= X_Data_Reshaped_Shape[0]:\n",
    "            continue\n",
    "        X_Data_Temp = np.transpose(X_Data_Reshaped[i*offset_amount:i*offset_amount+segment_length,:])\n",
    "        X_Data_Temp_Mean = np.mean(X_Data_Temp)\n",
    "        X_Data_Temp_VAR = np.var(X_Data_Temp)\n",
    "        X_Data_New[counter,:,:] = X_Data_Temp\n",
    "        Y_Data_Temp = Y_Data_Reshaped[i*offset_amount:i*offset_amount+segment_length,:]\n",
    "        Y_Data_Temp_Mean = np.mean(Y_Data_Temp)\n",
    "        Y_Data_Temp_VAR = np.var(Y_Data_Temp)\n",
    "        Y_Data_Temp_SUM = np.sum(Y_Data_Temp)\n",
    "        if C1 == True:\n",
    "            if X_Data_Temp_VAR <= 0:\n",
    "                continue\n",
    "        if C2 == True:\n",
    "            if (Y_Data_Temp_SUM < np.round(0.01*segment_length)) or (Y_Data_Temp_SUM > np.round(0.99*segment_length)):\n",
    "                continue\n",
    "        if Y_Data_Temp_Mean > 0.5:\n",
    "            Y_Label = 1\n",
    "        else:\n",
    "            Y_Label = 0\n",
    "        Y_Data_New[counter,:] = Y_Label\n",
    "        counter = counter + 1\n",
    "    X_Data_New = X_Data_New[0:counter,:,:]\n",
    "    Y_Data_New = Y_Data_New[0:counter,:]\n",
    "    return X_Data_New, Y_Data_New"
   ]
  },
  {
   "cell_type": "code",
   "execution_count": 15,
   "metadata": {},
   "outputs": [
    {
     "name": "stdout",
     "output_type": "stream",
     "text": [
      "(9506, 1, 3600)\n",
      "(9506, 1)\n",
      "(2655, 1, 3600)\n",
      "(2655, 1)\n",
      "(2655, 1, 3600)\n",
      "(2655, 1)\n",
      "[0 1] [4278 5228]\n",
      "[0 1] [1219 1436]\n",
      "[0 1] [1219 1436]\n"
     ]
    }
   ],
   "source": [
    "segment_length = 3600  # 20 Minutes = 1200 Data Points (1 Hz sampling rate)\n",
    "X_Train_C, Y_Train_C = transform_labels(X_Train, Y_Train, segment_length, num_channels, 60, True, True)\n",
    "X_Test_C, Y_Test_C = transform_labels(X_Test, Y_Test, segment_length, num_channels, 60, True, True)\n",
    "X_Val_C, Y_Val_C = transform_labels(X_Test, Y_Test, segment_length, num_channels, 60, True, True)\n",
    "print(X_Train_C.shape)\n",
    "print(Y_Train_C.shape)\n",
    "print(X_Test_C.shape)\n",
    "print(Y_Test_C.shape)\n",
    "print(X_Val_C.shape)\n",
    "print(Y_Val_C.shape)\n",
    "labels, counts = np.unique(Y_Train_C, return_counts=True)\n",
    "print(labels, counts)\n",
    "labels, counts = np.unique(Y_Test_C, return_counts=True)\n",
    "print(labels, counts)\n",
    "labels, counts = np.unique(Y_Val_C, return_counts=True)\n",
    "print(labels, counts)"
   ]
  },
  {
   "cell_type": "markdown",
   "metadata": {},
   "source": [
    "## Balance train set (if required)"
   ]
  },
  {
   "cell_type": "code",
   "execution_count": 37,
   "metadata": {},
   "outputs": [
    {
     "name": "stdout",
     "output_type": "stream",
     "text": [
      "(2812, 1, 1800)\n",
      "(2812, 1)\n"
     ]
    }
   ],
   "source": [
    "Y_Train_0_indices = np.where(Y_Train_C == 0)[0]\n",
    "X_Train_C_0 = np.take(X_Train_C, Y_Train_0_indices, axis=0)\n",
    "Y_Train_C_0 = np.take(Y_Train_C, Y_Train_0_indices, axis=0)\n",
    "Y_Train_1_indices = np.where(Y_Train_C == 1)[0]\n",
    "X_Train_C_1 = np.take(X_Train_C, Y_Train_1_indices, axis=0)\n",
    "Y_Train_C_1 = np.take(Y_Train_C, Y_Train_1_indices, axis=0)\n",
    "#\n",
    "Y_Train_C_0_shape = Y_Train_C_0.shape\n",
    "Y_Train_C_1_shape = Y_Train_C_1.shape\n",
    "Y_Train_C_shape = Y_Train_C.shape\n",
    "if Y_Train_C_1_shape[0] > Y_Train_C_0_shape[0]:\n",
    "    index = np.random.choice(Y_Train_C_1_shape[0], Y_Train_C_0_shape[0], replace=False)\n",
    "    X_Train_1 = X_Train_C_1[index]\n",
    "    Y_Train_1 = Y_Train_C_1[index]\n",
    "    X_Train = np.concatenate([X_Train_C_0, X_Train_1], axis=0)\n",
    "    Y_Train = np.concatenate([Y_Train_C_0, Y_Train_1], axis=0)\n",
    "elif Y_Train_C_0_shape[0] > Y_Train_C_1_shape[0]:\n",
    "    index = np.random.choice(Y_Train_C_0_shape[0], Y_Train_C_1_shape[0], replace=False)\n",
    "    X_Train_0 = X_Train_C_0[index]\n",
    "    Y_Train_0 = Y_Train_C_0[index]\n",
    "    X_Train = np.concatenate([X_Train_C_1, X_Train_0], axis=0)\n",
    "    Y_Train = np.concatenate([Y_Train_C_1, Y_Train_0], axis=0)\n",
    "#\n",
    "X_Train_C = X_Train\n",
    "Y_Train_C = Y_Train\n",
    "print(X_Train_C.shape)\n",
    "print(Y_Train_C.shape)"
   ]
  },
  {
   "cell_type": "markdown",
   "metadata": {},
   "source": [
    "## Save preprocessed data"
   ]
  },
  {
   "cell_type": "code",
   "execution_count": 16,
   "metadata": {},
   "outputs": [],
   "source": [
    "train_data_dic = {\"X_Train\": X_Train_C,\n",
    "                  \"Y_Train\": Y_Train_C,\n",
    "                  \"X_Test\": X_Test_C,\n",
    "                  \"Y_Test\": Y_Test_C,\n",
    "                  \"X_Val\": X_Test_C,\n",
    "                  \"Y_Val\": Y_Test_C,\n",
    "                  }\n",
    "savemat(f\"Data/Data_Fold_{fold_num}.mat\", train_data_dic, format='5')"
   ]
  },
  {
   "cell_type": "markdown",
   "metadata": {
    "id": "_qTwozk_BS94"
   },
   "source": [
    "## Garbage Collector"
   ]
  },
  {
   "cell_type": "code",
   "execution_count": null,
   "metadata": {
    "colab": {
     "base_uri": "https://localhost:8080/"
    },
    "executionInfo": {
     "elapsed": 16,
     "status": "ok",
     "timestamp": 1633010341331,
     "user": {
      "displayName": "Sakib Mahmud",
      "photoUrl": "https://lh3.googleusercontent.com/a-/AOh14Gg8lG2uTygQr7y6fmQUo67XXUtrCVGaEakj_P33Ft8=s64",
      "userId": "03961007737707022852"
     },
     "user_tz": -180
    },
    "id": "ch2jmn3jKKiH",
    "outputId": "c9807e23-ff6c-428d-f6e3-4f5e6382e71d"
   },
   "outputs": [
    {
     "data": {
      "text/plain": [
       "0"
      ]
     },
     "execution_count": 65,
     "metadata": {},
     "output_type": "execute_result"
    }
   ],
   "source": [
    "import gc #Garbage Collector\n",
    "fl_Data = None\n",
    "X_Test = None\n",
    "X_Train = None\n",
    "X_Val = None\n",
    "Y_Test = None\n",
    "Y_Train = None\n",
    "Y_Val = None\n",
    "gc.collect()"
   ]
  },
  {
   "cell_type": "markdown",
   "metadata": {
    "id": "RHq0FrX9iAsq"
   },
   "source": [
    "# MAIN"
   ]
  },
  {
   "cell_type": "markdown",
   "metadata": {
    "id": "yozhkF-OJWu2"
   },
   "source": [
    "## Configurations"
   ]
  },
  {
   "cell_type": "code",
   "execution_count": 5,
   "metadata": {
    "id": "Mai6ZRMeiFvA"
   },
   "outputs": [
    {
     "name": "stdout",
     "output_type": "stream",
     "text": [
      "Config file 'Config_Train.ini' created\n"
     ]
    }
   ],
   "source": [
    "# CREATE OBJECT\n",
    "config_file = configparser.ConfigParser()\n",
    "# ADD NEW SECTION AND SETTINGS\n",
    "config_file[\"TRAIN\"] = {\n",
    "    'parentdir': '',  # Root or Parent Directory\n",
    "    'datafile': 'Data',  # Folder containing the dataset\n",
    "    'val_size': 0.0,  # Validation percentage for splitting\n",
    "    'q_order': 3,  # q-order for the Self-ONN or Super-ONN Models\n",
    "    'batch_size': 16,  # Batch Size, Change to fit hardware\n",
    "    'lossType': 'MSE',  # loss function: 'SoftM_CELoss' or 'SoftM_MSE' or 'MSE'\n",
    "    'optim_fc': 'SGD',  # 'Adam' or 'SGD'\n",
    "    'lr': 0.0001,  # learning rate\n",
    "    'stop_criteria': 'accuracy',  # Stopping criteria: 'loss' or 'accuracy'\n",
    "    'n_epochs': 500,  # number of training epochs\n",
    "    'epochs_patience': 6,\n",
    "    'lr_factor': 0.1,  # lr_factor, if val loss did not decrease for a number of epochs (epochs_patience) then decrease learning rate by a factor of lr_factor\n",
    "    'max_epochs_stop': 30,  # maximum number of epochs with no improvement in validation loss for early stopping\n",
    "    'num_folds': 1,  # number of cross validation folds\n",
    "    'load_model': False,  # load model: True or False\n",
    "    'load_model_path': f'Results_Classification\\ODNet_Occp_Classification\\Fold_{fold_num}\\ODNet_Occp_Classification_fold_{fold_num}.pt',  # specify path of pretrained model wieghts or set to False to train from scratch\n",
    "    'model_to_load': 'ODNet',  # choose one of the following models: 'CNN_1' 'CNN_2' 'CNN_2' 'CNN_3' 'SelfResNet18' 'ResNet'\n",
    "    'model_name': 'ODNet_Occp_Classification',  # choose a unique name for result folder\n",
    "    'aux_logits': False,  # Required for models with auxilliary outputs (e.g., InceptionV3)  \n",
    "    'fold_start': fold_num,  # The starting fold for training\n",
    "    'fold_last': fold_num,  # The last fold for training\n",
    "    'results_path': 'Results_Classification',  # main results folder\n",
    "}\n",
    "\n",
    "# SAVE CONFIG FILE\n",
    "with open(r\"Config_Train.ini\", 'w') as configfileObj:\n",
    "    config_file.write(configfileObj)\n",
    "    configfileObj.flush()\n",
    "    configfileObj.close()\n",
    "\n",
    "print(\"Config file 'Config_Train.ini' created\")"
   ]
  },
  {
   "cell_type": "markdown",
   "metadata": {
    "id": "nWQQ-U2bJ2Js"
   },
   "source": [
    "## Train"
   ]
  },
  {
   "cell_type": "code",
   "execution_count": null,
   "metadata": {
    "id": "YSLqe-8gJ2R8"
   },
   "outputs": [],
   "source": [
    "%run -i Train.py"
   ]
  },
  {
   "cell_type": "markdown",
   "metadata": {},
   "source": [
    "## Test"
   ]
  },
  {
   "cell_type": "code",
   "execution_count": 5,
   "metadata": {},
   "outputs": [
    {
     "name": "stdout",
     "output_type": "stream",
     "text": [
      "Config file 'Config_Test.ini' created\n"
     ]
    }
   ],
   "source": [
    "# CREATE OBJECT\n",
    "config_file = configparser.ConfigParser()\n",
    "# ADD NEW SECTION AND SETTINGS\n",
    "config_file[\"TEST\"] = {\n",
    "    'parentdir': '',  # Root or Parent Directory\n",
    "    'datafile': 'Data',  # Folder containing the dataset\n",
    "    'batch_size': 8,  # Batch Size, Change to fit hardware\n",
    "    'lossType': 'MSE',  # loss function: 'SoftM_CELoss' or 'SoftM_MSE' or 'MSE'\n",
    "    'num_folds': 1,  # number of cross validation folds\n",
    "    'CI': 0.9,  # Confidence interval (missied cases with probability>=CI will be reported in excel file)\n",
    "    'load_model': False,  # specify path of pretrained model wieghts or set to False to train from scratch\n",
    "    'load_model_path': f'Results_Classification\\ODNet_Occp_Classification\\Fold_{fold_num}\\ODNet_Occp_Classification_fold_{fold_num}.pt',  # specify path of pretrained model wieghts or set to False to train from scratch\n",
    "    'labeled_data': True,  # set to true if you have the labeled test set\n",
    "    'model_name': 'ODNet_Occp_Classification',  # name of the saved model\n",
    "    'aux_logits': False,  # Required for models with auxilliary outputs (e.g., InceptionV3)  \n",
    "    'fold_start': fold_num,  # The starting fold for training\n",
    "    'fold_last': fold_num,  # The last fold for training\n",
    "    'N_steps': 1000,  # The last fold for training\n",
    "    'results_path': 'Results_Classification',  # main results folder\n",
    "}\n",
    "# SAVE CONFIG FILE\n",
    "with open(r\"Config_Test.ini\", 'w') as configfileObj:\n",
    "    config_file.write(configfileObj)\n",
    "    configfileObj.flush()\n",
    "    configfileObj.close()\n",
    "print(\"Config file 'Config_Test.ini' created\")"
   ]
  },
  {
   "cell_type": "code",
   "execution_count": 6,
   "metadata": {},
   "outputs": [
    {
     "name": "stdout",
     "output_type": "stream",
     "text": [
      "Train on GPU: True\n",
      "1 GPUs detected.\n",
      "Combined Evaluation of Folds 5 to 5...\n",
      "#############################################################\n",
      "Started fold 5\n",
      "model device: cuda\n",
      "563634\n"
     ]
    },
    {
     "name": "stderr",
     "output_type": "stream",
     "text": [
      "Testing: 100%|██████████| 6/6 [00:00<00:00,  9.23it/s]\n"
     ]
    },
    {
     "name": "stdout",
     "output_type": "stream",
     "text": [
      "Test Loss: 0.5865,  Test Accuracy: 100.0%\n",
      "Generating CSV Files from Individual Predictions...\n",
      "Test Dataframe Write to CSV - Done\n",
      "Total Inference Time: 0.01236 ms\n",
      "Completed fold 5\n",
      "#############################################################\n"
     ]
    },
    {
     "name": "stderr",
     "output_type": "stream",
     "text": [
      "Combined Evaluation: 100%|██████████| 1/1 [00:00<00:00,  2.31it/s]\n"
     ]
    },
    {
     "name": "stdout",
     "output_type": "stream",
     "text": [
      "\n",
      "\n",
      "    0   1\n",
      "0  15   0\n",
      "1   0  30\n",
      "\n",
      "\n",
      "                  Accuracy  Precision  Sensitivity  F1_score  Specificity\n",
      "0                    100.0      100.0        100.0     100.0        100.0\n",
      "1                    100.0      100.0        100.0     100.0        100.0\n",
      "Weighted Average     100.0      100.0        100.0     100.0        100.0\n",
      "\n",
      "\n",
      "                       \n",
      "Overall_Accuracy  100.0\n",
      "\n",
      "\n",
      "#############################################################\n"
     ]
    },
    {
     "data": {
      "image/png": "[encoded data removed]",
      "text/plain": [
       "<Figure size 600x400 with 2 Axes>"
      ]
     },
     "metadata": {},
     "output_type": "display_data"
    },
    {
     "data": {
      "image/png": "[encoded data removed]",
      "text/plain": [
       "<Figure size 600x400 with 2 Axes>"
      ]
     },
     "metadata": {},
     "output_type": "display_data"
    },
    {
     "data": {
      "text/plain": [
       "<Figure size 640x480 with 0 Axes>"
      ]
     },
     "metadata": {},
     "output_type": "display_data"
    }
   ],
   "source": [
    "%run -i Test.py"
   ]
  },
  {
   "cell_type": "markdown",
   "metadata": {},
   "source": []
  },
  {
   "cell_type": "code",
   "execution_count": null,
   "metadata": {},
   "outputs": [],
   "source": []
  }
 ],
 "metadata": {
  "accelerator": "GPU",
  "colab": {
   "collapsed_sections": [
    "tgW7r0C9TuZk",
    "Kir80l1FKPXB",
    "vMHdM26iekBm",
    "VUciLEJeyvyN",
    "WesN7p7AeYK4"
   ],
   "machine_shape": "hm",
   "name": "1D_CNN_Segmentation_End2End_Pipeline.ipynb",
   "provenance": []
  },
  "kernelspec": {
   "display_name": "wsl_miniconda_env1",
   "language": "python",
   "name": "python3"
  },
  "language_info": {
   "codemirror_mode": {
    "name": "ipython",
    "version": 3
   },
   "file_extension": ".py",
   "mimetype": "text/x-python",
   "name": "python",
   "nbconvert_exporter": "python",
   "pygments_lexer": "ipython3",
   "version": "3.11.5"
  }
 },
 "nbformat": 4,
 "nbformat_minor": 1
}

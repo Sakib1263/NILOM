{
 "cells": [
  {
   "cell_type": "markdown",
   "metadata": {
    "id": "sFyb0y7PUJOo"
   },
   "source": [
    "# 1D CNN Segmentation Iberdrola Project - Phase 1"
   ]
  },
  {
   "cell_type": "markdown",
   "metadata": {
    "id": "W9vTr2NhcGAA"
   },
   "source": [
    "# Test GPU (Optional)\n",
    "Before Starting, kindly check the available GPU from the Google Server, GPU model and other related information. It might help!"
   ]
  },
  {
   "cell_type": "code",
   "execution_count": 1,
   "metadata": {},
   "outputs": [
    {
     "name": "stderr",
     "output_type": "stream",
     "text": [
      "c:\\Users\\Sakib Mahmud\\AppData\\Local\\Programs\\Python\\Python36\\lib\\site-packages\\tqdm\\auto.py:22: TqdmWarning: IProgress not found. Please update jupyter and ipywidgets. See https://ipywidgets.readthedocs.io/en/stable/user_install.html\n",
      "  from .autonotebook import tqdm as notebook_tqdm\n"
     ]
    },
    {
     "name": "stdout",
     "output_type": "stream",
     "text": [
      "Is CUDA enabled GPU Available? True\n",
      "GPU Number: 1\n",
      "Current GPU Index: 0\n",
      "GPU Type: NVIDIA GeForce RTX 3080 Ti Laptop GPU\n",
      "GPU Capability: (8, 6)\n",
      "Is GPU Initialized yet? True\n",
      "1.10.1+cu102\n"
     ]
    },
    {
     "name": "stderr",
     "output_type": "stream",
     "text": [
      "c:\\Users\\Sakib Mahmud\\AppData\\Local\\Programs\\Python\\Python36\\lib\\site-packages\\torch\\cuda\\__init__.py:143: UserWarning: \n",
      "NVIDIA GeForce RTX 3080 Ti Laptop GPU with CUDA capability sm_86 is not compatible with the current PyTorch installation.\n",
      "The current PyTorch install supports CUDA capabilities sm_37 sm_50 sm_60 sm_61 sm_70 sm_75 compute_37.\n",
      "If you want to use the NVIDIA GeForce RTX 3080 Ti Laptop GPU GPU with PyTorch, please check the instructions at https://pytorch.org/get-started/locally/\n",
      "\n",
      "  warnings.warn(incompatible_device_warn.format(device_name, capability, \" \".join(arch_list), device_name))\n"
     ]
    }
   ],
   "source": [
    "import torch\n",
    "print(\"Is CUDA enabled GPU Available?\", torch.cuda.is_available())\n",
    "print(\"GPU Number:\", torch.cuda.device_count())\n",
    "print(\"Current GPU Index:\", torch.cuda.current_device())\n",
    "print(\"GPU Type:\", torch.cuda.get_device_name(device=None))\n",
    "print(\"GPU Capability:\", torch.cuda.get_device_capability(device=None))\n",
    "print(\"Is GPU Initialized yet?\", torch.cuda.is_initialized())\n",
    "print(torch.__version__)"
   ]
  },
  {
   "cell_type": "code",
   "execution_count": 2,
   "metadata": {},
   "outputs": [
    {
     "name": "stdout",
     "output_type": "stream",
     "text": [
      "2.6.2\n",
      "[PhysicalDevice(name='/physical_device:CPU:0', device_type='CPU'), PhysicalDevice(name='/physical_device:GPU:0', device_type='GPU')]\n",
      "[PhysicalDevice(name='/physical_device:GPU:0', device_type='GPU')]\n"
     ]
    }
   ],
   "source": [
    "import tensorflow as tf\n",
    "print(tf.__version__)\n",
    "print(tf.config.experimental.list_physical_devices())\n",
    "print(tf.config.list_physical_devices('GPU'))"
   ]
  },
  {
   "cell_type": "markdown",
   "metadata": {
    "id": "tgW7r0C9TuZk"
   },
   "source": [
    "# Import Libraries"
   ]
  },
  {
   "cell_type": "code",
   "execution_count": 3,
   "metadata": {
    "id": "eMhBhz1CrMb3"
   },
   "outputs": [],
   "source": [
    "import os\n",
    "import h5py\n",
    "import scipy\n",
    "import random\n",
    "import pickle\n",
    "import json\n",
    "import numpy as np\n",
    "import pandas as pd\n",
    "import seaborn as sns\n",
    "import scipy.io as sio\n",
    "import tensorflow as tf\n",
    "import matplotlib.pyplot as plt\n",
    "from sklearn.metrics import mean_squared_error, mean_absolute_error, r2_score, classification_report, confusion_matrix\n",
    "from sklearn.model_selection import train_test_split\n",
    "from pathlib import Path\n",
    "from tqdm import tqdm\n",
    "from scipy.stats import pearsonr"
   ]
  },
  {
   "cell_type": "code",
   "execution_count": 4,
   "metadata": {
    "id": "ZAo2XBvzFX49"
   },
   "outputs": [],
   "source": [
    "from models import *\n",
    "from models.unet_variants import *\n",
    "# from models.saunet_variants import *"
   ]
  },
  {
   "cell_type": "code",
   "execution_count": 5,
   "metadata": {
    "id": "03JA1kRfzoit"
   },
   "outputs": [],
   "source": [
    "%matplotlib inline\n",
    "sns.set_style('white')"
   ]
  },
  {
   "cell_type": "markdown",
   "metadata": {},
   "source": [
    "# Import and Prepare Data"
   ]
  },
  {
   "cell_type": "markdown",
   "metadata": {},
   "source": [
    "Import dataset"
   ]
  },
  {
   "cell_type": "code",
   "execution_count": 74,
   "metadata": {
    "colab": {
     "base_uri": "https://localhost:8080/"
    },
    "executionInfo": {
     "elapsed": 672,
     "status": "ok",
     "timestamp": 1633009806554,
     "user": {
      "displayName": "Sakib Mahmud",
      "photoUrl": "https://lh3.googleusercontent.com/a-/AOh14Gg8lG2uTygQr7y6fmQUo67XXUtrCVGaEakj_P33Ft8=s64",
      "userId": "03961007737707022852"
     },
     "user_tz": -180
    },
    "id": "KjIqJqKSrhrA",
    "outputId": "6f6bbad4-6c09-470c-aac9-cfcb976bb8ce"
   },
   "outputs": [
    {
     "data": {
      "text/plain": [
       "<KeysViewHDF5 ['data_appliance', 'data_occupancy', 'house_number_array']>"
      ]
     },
     "execution_count": 74,
     "metadata": {},
     "output_type": "execute_result"
    }
   ],
   "source": [
    "fl_Data = h5py.File(os.path.join('Data/Phase_2_Exp_1/05_Entertainment_Data_Matched_Occupancy.mat'), 'r')\n",
    "fl_Data.keys()"
   ]
  },
  {
   "cell_type": "markdown",
   "metadata": {},
   "source": [
    "Prepare Dataset for Training"
   ]
  },
  {
   "cell_type": "code",
   "execution_count": 75,
   "metadata": {},
   "outputs": [
    {
     "name": "stdout",
     "output_type": "stream",
     "text": [
      "(189, 21600)\n",
      "(189, 21600)\n",
      "(1, 189)\n"
     ]
    }
   ],
   "source": [
    "X_Data = np.array(fl_Data['data_appliance'])\n",
    "Y_Data = np.array(fl_Data['data_occupancy'])\n",
    "house_data = np.array(fl_Data['house_number_array'])\n",
    "print(X_Data.shape)\n",
    "print(Y_Data.shape)\n",
    "print(house_data.shape)"
   ]
  },
  {
   "cell_type": "code",
   "execution_count": 76,
   "metadata": {},
   "outputs": [
    {
     "name": "stdout",
     "output_type": "stream",
     "text": [
      "(151, 21600)\n",
      "(151, 21600)\n",
      "(38, 21600)\n",
      "(38, 21600)\n"
     ]
    }
   ],
   "source": [
    "X_Train, X_Test, Y_Train, Y_Test = train_test_split(X_Data, Y_Data, test_size=0.2, random_state=42)\n",
    "print(X_Train.shape)\n",
    "print(Y_Train.shape)\n",
    "print(X_Test.shape)\n",
    "print(Y_Test.shape)"
   ]
  },
  {
   "cell_type": "markdown",
   "metadata": {},
   "source": [
    "Overlap Train Set"
   ]
  },
  {
   "cell_type": "code",
   "execution_count": 77,
   "metadata": {},
   "outputs": [
    {
     "name": "stdout",
     "output_type": "stream",
     "text": [
      "(151, 21600)\n",
      "(151, 21600)\n",
      "(3261600, 1)\n",
      "(3261600, 1)\n",
      "(1501, 21600, 1)\n",
      "(1501, 21600, 1)\n"
     ]
    }
   ],
   "source": [
    "# Overlap\n",
    "X_Train_Shape = X_Train.shape\n",
    "Y_Train_Shape = Y_Train.shape\n",
    "segment_length = X_Train_Shape[1]\n",
    "print(X_Train_Shape)\n",
    "print(Y_Train_Shape)\n",
    "# Reshape Array\n",
    "X_Train_Reshaped = np.reshape(X_Train, (X_Train_Shape[0]*X_Train_Shape[1], 1))\n",
    "Y_Train_Reshaped = np.reshape(Y_Train, (Y_Train_Shape[0]*Y_Train_Shape[1], 1))\n",
    "X_Train_Reshaped_Shape = X_Train_Reshaped.shape\n",
    "Y_Train_Reshaped_Shape = Y_Train_Reshaped.shape\n",
    "print(X_Train_Reshaped_Shape)\n",
    "print(Y_Train_Reshaped_Shape)\n",
    "# Overlap\n",
    "overlap_ratio = 0.9\n",
    "offset_amount = np.int_(segment_length*(1 - overlap_ratio))\n",
    "X_Train_New = np.zeros((10000,segment_length,1))\n",
    "Y_Train_New = np.zeros((10000,segment_length,1))\n",
    "num_segments_approx = np.int_(np.ceil(X_Train_Reshaped_Shape[0]/offset_amount))\n",
    "counter = 0\n",
    "for i in range(0,num_segments_approx):\n",
    "    if (i*offset_amount+segment_length) > X_Train_Reshaped_Shape[0]:\n",
    "        continue\n",
    "    X_Train_Temp = X_Train_Reshaped[i*offset_amount:i*offset_amount+segment_length,:]\n",
    "    X_Train_New[counter,:,:] = X_Train_Temp\n",
    "    Y_Train_Temp = Y_Train_Reshaped[i*offset_amount:i*offset_amount+segment_length,:]\n",
    "    Y_Train_New[counter,:,:] = Y_Train_Temp\n",
    "    # print(X_Train_Temp.shape)\n",
    "    counter = counter + 1\n",
    "X_Train = X_Train_New[0:counter,:,:]\n",
    "Y_Train = Y_Train_New[0:counter,:,:]\n",
    "print(X_Train.shape)\n",
    "print(Y_Train.shape)"
   ]
  },
  {
   "cell_type": "markdown",
   "metadata": {},
   "source": [
    "Reshape Train Set"
   ]
  },
  {
   "cell_type": "code",
   "execution_count": 78,
   "metadata": {},
   "outputs": [
    {
     "name": "stdout",
     "output_type": "stream",
     "text": [
      "(32421600, 1)\n",
      "(32421600, 1)\n",
      "(820800, 1)\n",
      "(820800, 1)\n"
     ]
    }
   ],
   "source": [
    "X_Train_shape = X_Train.shape\n",
    "X_Train_CML = np.reshape(X_Train,(X_Train_shape[0]*X_Train_shape[1],1))\n",
    "Y_Train_shape = X_Train.shape\n",
    "Y_Train_CML = np.reshape(Y_Train,(Y_Train_shape[0]*Y_Train_shape[1],1))\n",
    "X_Test_shape = X_Test.shape\n",
    "X_Test_CML = np.reshape(X_Test,(X_Test_shape[0]*X_Test_shape[1],1))\n",
    "Y_Test_shape = X_Test.shape\n",
    "Y_Test_CML = np.reshape(Y_Test,(Y_Test_shape[0]*Y_Test_shape[1],1))\n",
    "#\n",
    "print(X_Train_CML.shape)\n",
    "print(Y_Train_CML.shape)\n",
    "print(X_Test_CML.shape)\n",
    "print(Y_Test_CML.shape)"
   ]
  },
  {
   "cell_type": "markdown",
   "metadata": {},
   "source": [
    "## AdaBoost"
   ]
  },
  {
   "cell_type": "code",
   "execution_count": 45,
   "metadata": {},
   "outputs": [],
   "source": [
    "from sklearn.ensemble import AdaBoostClassifier\n",
    "from sklearn.datasets import make_classification\n",
    "from sklearn.metrics import classification_report"
   ]
  },
  {
   "cell_type": "code",
   "execution_count": 46,
   "metadata": {},
   "outputs": [
    {
     "name": "stderr",
     "output_type": "stream",
     "text": [
      "c:\\Users\\Sakib Mahmud\\AppData\\Local\\Programs\\Python\\Python36\\lib\\site-packages\\sklearn\\utils\\validation.py:63: DataConversionWarning: A column-vector y was passed when a 1d array was expected. Please change the shape of y to (n_samples, ), for example using ravel().\n",
      "  return f(*args, **kwargs)\n"
     ]
    },
    {
     "name": "stdout",
     "output_type": "stream",
     "text": [
      "1.0\n"
     ]
    },
    {
     "name": "stderr",
     "output_type": "stream",
     "text": [
      "c:\\Users\\Sakib Mahmud\\AppData\\Local\\Programs\\Python\\Python36\\lib\\site-packages\\sklearn\\metrics\\_classification.py:1248: UndefinedMetricWarning: Precision and F-score are ill-defined and being set to 0.0 in labels with no predicted samples. Use `zero_division` parameter to control this behavior.\n",
      "  _warn_prf(average, modifier, msg_start, len(result))\n",
      "c:\\Users\\Sakib Mahmud\\AppData\\Local\\Programs\\Python\\Python36\\lib\\site-packages\\sklearn\\metrics\\_classification.py:1248: UndefinedMetricWarning: Precision and F-score are ill-defined and being set to 0.0 in labels with no predicted samples. Use `zero_division` parameter to control this behavior.\n",
      "  _warn_prf(average, modifier, msg_start, len(result))\n"
     ]
    },
    {
     "name": "stdout",
     "output_type": "stream",
     "text": [
      "              precision    recall  f1-score   support\n",
      "\n",
      "Non-occupied       0.00      0.00      0.00    177325\n",
      "    Occupied       0.78      1.00      0.88    643475\n",
      "\n",
      "    accuracy                           0.78    820800\n",
      "   macro avg       0.39      0.50      0.44    820800\n",
      "weighted avg       0.61      0.78      0.69    820800\n",
      "\n"
     ]
    },
    {
     "name": "stderr",
     "output_type": "stream",
     "text": [
      "c:\\Users\\Sakib Mahmud\\AppData\\Local\\Programs\\Python\\Python36\\lib\\site-packages\\sklearn\\metrics\\_classification.py:1248: UndefinedMetricWarning: Precision and F-score are ill-defined and being set to 0.0 in labels with no predicted samples. Use `zero_division` parameter to control this behavior.\n",
      "  _warn_prf(average, modifier, msg_start, len(result))\n"
     ]
    }
   ],
   "source": [
    "target_names = ['Non-occupied', 'Occupied']\n",
    "clf = AdaBoostClassifier(n_estimators=1000, algorithm=\"SAMME\", random_state=0)\n",
    "clf.fit(X_Train_CML, Y_Train_CML)\n",
    "Y_Pred_CML = clf.predict(X_Test_CML)\n",
    "print(clf.score(Y_Test_CML, Y_Pred_CML))\n",
    "print(classification_report(Y_Test_CML, Y_Pred_CML, target_names=target_names))"
   ]
  },
  {
   "cell_type": "code",
   "execution_count": 79,
   "metadata": {},
   "outputs": [
    {
     "name": "stdout",
     "output_type": "stream",
     "text": [
      "0.9855872319688109\n",
      "              precision    recall  f1-score   support\n",
      "\n",
      "Non-occupied       0.01      0.00      0.00    177325\n",
      "    Occupied       0.78      0.98      0.87    643475\n",
      "\n",
      "    accuracy                           0.77    820800\n",
      "   macro avg       0.40      0.49      0.44    820800\n",
      "weighted avg       0.62      0.77      0.68    820800\n",
      "\n"
     ]
    }
   ],
   "source": [
    "from sklearn.tree import DecisionTreeClassifier\n",
    "clf = DecisionTreeClassifier(random_state=0)\n",
    "clf = clf.fit(X_Train_CML, Y_Train_CML)\n",
    "Y_Pred_CML = clf.predict(X_Test_CML)\n",
    "print(clf.score(Y_Test_CML, Y_Pred_CML))\n",
    "print(classification_report(Y_Test_CML, Y_Pred_CML, target_names=target_names))"
   ]
  },
  {
   "cell_type": "code",
   "execution_count": 80,
   "metadata": {},
   "outputs": [
    {
     "name": "stdout",
     "output_type": "stream",
     "text": [
      "0.9855872319688109\n",
      "              precision    recall  f1-score   support\n",
      "\n",
      "Non-occupied       0.01      0.00      0.00    177325\n",
      "    Occupied       0.78      0.98      0.87    643475\n",
      "\n",
      "    accuracy                           0.77    820800\n",
      "   macro avg       0.40      0.49      0.44    820800\n",
      "weighted avg       0.62      0.77      0.68    820800\n",
      "\n"
     ]
    }
   ],
   "source": [
    "from sklearn.ensemble import RandomForestClassifier\n",
    "clf = DecisionTreeClassifier(random_state=0)\n",
    "clf = clf.fit(X_Train_CML, Y_Train_CML)\n",
    "Y_Pred_CML = clf.predict(X_Test_CML)\n",
    "print(clf.score(Y_Test_CML, Y_Pred_CML))\n",
    "print(classification_report(Y_Test_CML, Y_Pred_CML, target_names=target_names))"
   ]
  },
  {
   "cell_type": "code",
   "execution_count": null,
   "metadata": {},
   "outputs": [],
   "source": [
    "from sklearn.ensemble import RandomForestClassifier\n",
    "clf = DecisionTreeClassifier(random_state=0)\n",
    "clf = clf.fit(X_Train_CML, Y_Train_CML)\n",
    "Y_Pred_CML = clf.predict(X_Test_CML)\n",
    "print(clf.score(Y_Test_CML, Y_Pred_CML))\n",
    "print(classification_report(Y_Test_CML, Y_Pred_CML, target_names=target_names))"
   ]
  },
  {
   "cell_type": "markdown",
   "metadata": {},
   "source": [
    "## XgBoost\n"
   ]
  },
  {
   "cell_type": "markdown",
   "metadata": {},
   "source": []
  },
  {
   "cell_type": "markdown",
   "metadata": {},
   "source": [
    "## Reshape and Plot"
   ]
  },
  {
   "cell_type": "code",
   "execution_count": 83,
   "metadata": {},
   "outputs": [
    {
     "name": "stdout",
     "output_type": "stream",
     "text": [
      "(38, 21600)\n"
     ]
    }
   ],
   "source": [
    "Y_Pred = np.reshape(Y_Pred_CML,(Y_Test_shape[0],Y_Test_shape[1]))\n",
    "print(Y_Pred.shape)"
   ]
  },
  {
   "cell_type": "code",
   "execution_count": 93,
   "metadata": {},
   "outputs": [
    {
     "data": {
      "text/plain": [
       "<matplotlib.legend.Legend at 0x25dab70c668>"
      ]
     },
     "execution_count": 93,
     "metadata": {},
     "output_type": "execute_result"
    },
    {
     "data": {
      "image/png": "[encoded data removed]",
      "text/plain": [
       "<Figure size 1152x576 with 3 Axes>"
      ]
     },
     "metadata": {},
     "output_type": "display_data"
    }
   ],
   "source": [
    "train_data_shape = Y_Test.shape\n",
    "j = random.randint(0, train_data_shape[0])\n",
    "A = X_Test[j,:]\n",
    "B = Y_Test[j,:]\n",
    "C = Y_Pred[j,:]\n",
    "plt.figure(figsize=(16, 8))\n",
    "plt.subplot(3, 1, 1)\n",
    "plt.plot(A, label='X_Test')\n",
    "plt.title(f\"Appliance Data -- Sample Number {j}\")\n",
    "plt.legend()\n",
    "plt.subplot(3, 1, 2)\n",
    "plt.plot(B, label='Y_Test')\n",
    "plt.title(f\"Occupancy GT -- Sample Number {j}\")\n",
    "plt.tight_layout()\n",
    "plt.legend()\n",
    "plt.subplot(3, 1, 3)\n",
    "plt.plot(C, label='Pred')\n",
    "plt.title(f\"Occupancy Pred -- Sample Number {j}\")\n",
    "plt.tight_layout()\n",
    "plt.legend()"
   ]
  },
  {
   "cell_type": "code",
   "execution_count": 20,
   "metadata": {},
   "outputs": [],
   "source": [
    "import os\n",
    "Checkpoint = {}\n",
    "Checkpoint['X'] = X_Train\n",
    "Checkpoint['Y'] = Y_Train\n",
    "RawDataPath = 'Train_Set.pt'\n",
    "torch.save(Checkpoint, RawDataPath)"
   ]
  },
  {
   "cell_type": "code",
   "execution_count": 21,
   "metadata": {},
   "outputs": [],
   "source": [
    "import os\n",
    "Checkpoint = {}\n",
    "Checkpoint['X'] = X_Val\n",
    "Checkpoint['Y'] = Y_Val\n",
    "RawDataPath = 'Val_Set.pt'\n",
    "torch.save(Checkpoint, RawDataPath)"
   ]
  },
  {
   "cell_type": "code",
   "execution_count": 22,
   "metadata": {},
   "outputs": [],
   "source": [
    "import os\n",
    "Checkpoint = {}\n",
    "Checkpoint['X'] = X_Test\n",
    "Checkpoint['Y'] = Y_Test\n",
    "RawDataPath = 'Test_Set.pt'\n",
    "torch.save(Checkpoint, RawDataPath)"
   ]
  },
  {
   "cell_type": "markdown",
   "metadata": {
    "id": "_qTwozk_BS94"
   },
   "source": [
    "### Garbage Collector"
   ]
  },
  {
   "cell_type": "code",
   "execution_count": null,
   "metadata": {
    "colab": {
     "base_uri": "https://localhost:8080/"
    },
    "executionInfo": {
     "elapsed": 16,
     "status": "ok",
     "timestamp": 1633010341331,
     "user": {
      "displayName": "Sakib Mahmud",
      "photoUrl": "https://lh3.googleusercontent.com/a-/AOh14Gg8lG2uTygQr7y6fmQUo67XXUtrCVGaEakj_P33Ft8=s64",
      "userId": "03961007737707022852"
     },
     "user_tz": -180
    },
    "id": "ch2jmn3jKKiH",
    "outputId": "c9807e23-ff6c-428d-f6e3-4f5e6382e71d"
   },
   "outputs": [
    {
     "data": {
      "text/plain": [
       "0"
      ]
     },
     "execution_count": 65,
     "metadata": {},
     "output_type": "execute_result"
    }
   ],
   "source": [
    "import gc #Garbage Collector\n",
    "fl_Data = None\n",
    "X_Test = None\n",
    "X_Train = None\n",
    "X_Val = None\n",
    "Y_Test = None\n",
    "Y_Train = None\n",
    "Y_Val = None\n",
    "gc.collect()"
   ]
  },
  {
   "cell_type": "code",
   "execution_count": 96,
   "metadata": {},
   "outputs": [
    {
     "name": "stdout",
     "output_type": "stream",
     "text": [
      "(2000, 'bb', (101, 132, 345), ['sing', 'quizz', 'poetry'])\n"
     ]
    }
   ],
   "source": [
    "document = (2000, 'bb', (101, 132, 345), ['sing','quizz'])\n",
    "document[-1].append('poetry')\n",
    "print(document)"
   ]
  },
  {
   "cell_type": "code",
   "execution_count": 98,
   "metadata": {},
   "outputs": [
    {
     "ename": "NameError",
     "evalue": "name 'L' is not defined",
     "output_type": "error",
     "traceback": [
      "\u001b[1;31m---------------------------------------------------------------------------\u001b[0m",
      "\u001b[1;31mNameError\u001b[0m                                 Traceback (most recent call last)",
      "\u001b[1;32m<ipython-input-98-1a2e87da8635>\u001b[0m in \u001b[0;36m<module>\u001b[1;34m\u001b[0m\n\u001b[0;32m      1\u001b[0m \u001b[0mp\u001b[0m \u001b[1;33m=\u001b[0m \u001b[1;33m[\u001b[0m\u001b[1;36m1\u001b[0m\u001b[1;33m,\u001b[0m\u001b[1;36m1\u001b[0m\u001b[1;33m,\u001b[0m\u001b[1;36m2\u001b[0m\u001b[1;33m]\u001b[0m\u001b[1;33m\u001b[0m\u001b[1;33m\u001b[0m\u001b[0m\n\u001b[1;32m----> 2\u001b[1;33m \u001b[0mx\u001b[0m \u001b[1;33m=\u001b[0m \u001b[0mlist\u001b[0m\u001b[1;33m(\u001b[0m\u001b[0mmap\u001b[0m\u001b[1;33m(\u001b[0m\u001b[1;32mlambda\u001b[0m \u001b[0mx\u001b[0m\u001b[1;33m:\u001b[0m \u001b[0mx\u001b[0m\u001b[1;33m**\u001b[0m\u001b[1;36m2\u001b[0m\u001b[1;33m,\u001b[0m \u001b[0mL\u001b[0m\u001b[1;33m)\u001b[0m\u001b[1;33m)\u001b[0m\u001b[1;33m\u001b[0m\u001b[1;33m\u001b[0m\u001b[0m\n\u001b[0m\u001b[0;32m      3\u001b[0m \u001b[0mprint\u001b[0m\u001b[1;33m(\u001b[0m\u001b[0mx\u001b[0m\u001b[1;33m)\u001b[0m\u001b[1;33m\u001b[0m\u001b[1;33m\u001b[0m\u001b[0m\n",
      "\u001b[1;31mNameError\u001b[0m: name 'L' is not defined"
     ]
    }
   ],
   "source": [
    "p = [1,1,2]\n",
    "x = list(map(lambda x: x**2, L))\n",
    "print(x)"
   ]
  },
  {
   "cell_type": "markdown",
   "metadata": {
    "id": "RHq0FrX9iAsq"
   },
   "source": [
    "# MAIN"
   ]
  },
  {
   "cell_type": "markdown",
   "metadata": {
    "id": "yozhkF-OJWu2"
   },
   "source": [
    "## Configurations"
   ]
  },
  {
   "cell_type": "code",
   "execution_count": 23,
   "metadata": {
    "id": "Mai6ZRMeiFvA"
   },
   "outputs": [],
   "source": [
    "# Configurations\n",
    "signal_length = 21600  # Length of each Segment\n",
    "problem_type = 'Regression'\n",
    "lr = 5e-4"
   ]
  },
  {
   "cell_type": "markdown",
   "metadata": {
    "id": "TGoiZp6_JpIZ"
   },
   "source": [
    "## Helper Functions"
   ]
  },
  {
   "cell_type": "code",
   "execution_count": 25,
   "metadata": {},
   "outputs": [],
   "source": [
    "def Construction_Error(GRND, Pred):\n",
    "    mae_construction_err = []\n",
    "    mse_construction_err = []\n",
    "    rmse_construction_err = []\n",
    "    cc = []\n",
    "    r2c = []\n",
    "    bad_indices = []\n",
    "    count = 0\n",
    "\n",
    "    for i in range(len(GRND)):\n",
    "\n",
    "        MAE = np.mean(np.abs(Pred[i].ravel() - GRND[i].ravel()))\n",
    "        MSE = mean_squared_error(\n",
    "            Pred[i].ravel(), GRND[i].ravel(), squared=True)\n",
    "        RMSE = mean_squared_error(\n",
    "            Pred[i].ravel(), GRND[i].ravel(), squared=False)\n",
    "\n",
    "        if ~(np.std(Pred[i].ravel()) == 0 or np.std(GRND[i].ravel()) == 0):\n",
    "            corr, _ = pearsonr(Pred[i].ravel(), GRND[i].ravel())\n",
    "            r2_scr = r2_score(Pred[i].ravel(), GRND[i].ravel())\n",
    "        else:\n",
    "            continue\n",
    "\n",
    "        if MAE < 1:\n",
    "            mae_construction_err.append(MAE)\n",
    "            mse_construction_err.append(MSE)\n",
    "            rmse_construction_err.append(RMSE)\n",
    "            cc.append(corr)\n",
    "            r2c.append(r2_scr)\n",
    "        elif MAE >= 1:\n",
    "            count = count + 1\n",
    "            bad_indices.append(i)\n",
    "\n",
    "    print(f'MAE Construction Error: {round(np.mean(mae_construction_err), 3)} +/- {round(np.std(mae_construction_err), 3)}')\n",
    "    print(f'MSE Construction Error: {round(np.mean(mse_construction_err), 3)} +/- {round(np.std(mse_construction_err), 3)}')\n",
    "    print(f'RMSE Construction Error: {round(np.mean(rmse_construction_err), 3)} +/- {round(np.std(rmse_construction_err), 3)}')\n",
    "    print(f'Pearson Correlation: {round(np.mean(cc)*100, 3)}% +/- {round(np.std(cc)*100, 3)}')\n",
    "    print(f'R-squared (R²) Score: {round(np.mean(r2c)*100, 3)}% +/- {round(np.std(r2c)*100, 3)}')\n",
    "    print(f'Number of Bad Predictions = {count}')"
   ]
  },
  {
   "cell_type": "code",
   "execution_count": 26,
   "metadata": {},
   "outputs": [],
   "source": [
    "def Construction_Error_Denorm(GRND, Pred):\n",
    "    mae_construction_err = []\n",
    "    mse_construction_err = []\n",
    "    rmse_construction_err = []\n",
    "    cc = []\n",
    "    r2c = []\n",
    "    count = 0\n",
    "\n",
    "    for i in range(len(GRND)):\n",
    "\n",
    "        MAE = np.mean(np.abs(Pred[i].ravel() - GRND[i].ravel()))\n",
    "        MSE = mean_squared_error(\n",
    "            Pred[i].ravel(), GRND[i].ravel(), squared=True)\n",
    "        RMSE = mean_squared_error(\n",
    "            Pred[i].ravel(), GRND[i].ravel(), squared=False)\n",
    "\n",
    "        if ~(np.std(Pred[i].ravel()) == 0 or np.std(GRND[i].ravel()) == 0):\n",
    "            corr, _ = pearsonr(Pred[i].ravel(), GRND[i].ravel())\n",
    "            r2_scr = r2_score(Pred[i].ravel(), GRND[i].ravel())\n",
    "        else:\n",
    "            continue\n",
    "\n",
    "        mae_construction_err.append(MAE)\n",
    "        mse_construction_err.append(MSE)\n",
    "        rmse_construction_err.append(RMSE)\n",
    "        cc.append(corr)\n",
    "        r2c.append(r2_scr)\n",
    "\n",
    "    print(f'MAE Construction Error: {round(np.mean(mae_construction_err), 3)} +/- {round(np.std(mae_construction_err), 3)}')\n",
    "    print(f'MSE Construction Error: {round(np.mean(mse_construction_err), 3)} +/- {round(np.std(mse_construction_err), 3)}')\n",
    "    print(f'RMSE Construction Error: {round(np.mean(rmse_construction_err), 3)} +/- {round(np.std(rmse_construction_err), 3)}')\n",
    "    print(f'Pearson Correlation: {round(np.mean(cc)*100, 3)}% +/- {round(np.std(cc)*100, 3)}')\n",
    "    print(f'R-squared (R²) Score: {round(np.mean(r2c)*100, 3)}% +/- {round(np.std(r2c)*100, 3)}')"
   ]
  },
  {
   "cell_type": "markdown",
   "metadata": {
    "id": "nWQQ-U2bJ2Js"
   },
   "source": [
    "## Train and Test"
   ]
  },
  {
   "cell_type": "code",
   "execution_count": null,
   "metadata": {},
   "outputs": [],
   "source": [
    "# Load Data\n",
    "Train_Data = torch.load('Train_Set.pt')\n",
    "Test_Data = torch.load('Test_Set.pt')\n",
    "Val_Data = torch.load('Train_Set.pt')\n",
    "X_Train = Train_Data['X']\n",
    "Y_Train = Train_Data['Y']\n",
    "X_Test = Test_Data['X']\n",
    "Y_Test = Test_Data['Y']\n",
    "X_Val = Val_Data['X']\n",
    "Y_Val = Val_Data['Y']\n",
    "\n",
    "\n",
    "\n",
    "\n"
   ]
  },
  {
   "cell_type": "code",
   "execution_count": null,
   "metadata": {},
   "outputs": [],
   "source": [
    "# Load Resuts with Ground Truth and Inputs\n",
    "fl_Data = h5py.File(os.path.join('Outcomes/UNet_4_64_DS_Microwave_SM3_21600.h5'),'r')\n",
    "print(fl_Data.keys())\n",
    "X_Test = fl_Data['SM']\n",
    "Y_Test = fl_Data['App']\n",
    "Y_Pred = fl_Data['App_Pred']\n",
    "# Y_Test_Denorm = fl_Data['App_Denorm']\n",
    "# Y_Pred_Denorm = fl_Data['App_Pred_Denorm']"
   ]
  },
  {
   "cell_type": "code",
   "execution_count": 11,
   "metadata": {},
   "outputs": [
    {
     "name": "stdout",
     "output_type": "stream",
     "text": [
      "(38, 21600, 1)\n",
      "(38, 21600, 1)\n",
      "<KeysViewHDF5 ['App', 'App_Pred', 'SM']>\n"
     ]
    }
   ],
   "source": [
    "# Load Test Set and Print Shape\n",
    "Test_Data = torch.load('Test_Set.pt')\n",
    "X_Test = Test_Data['X']\n",
    "Y_Test = Test_Data['Y']\n",
    "print(X_Test.shape)\n",
    "print(Y_Test.shape)\n",
    "# Load Resuts\n",
    "fl_Data = h5py.File(os.path.join('Outcomes/UNet4P_Ch1_F1_P2_Air_Exhaust.h5'), 'r')\n",
    "print(fl_Data.keys())\n",
    "Y_Pred = np.array(fl_Data['App_Pred'])\n",
    "# Y_Pred[Y_Pred >= 0.5] = 1\n",
    "# Y_Pred[Y_Pred < 0.5] = 0"
   ]
  },
  {
   "cell_type": "code",
   "execution_count": null,
   "metadata": {},
   "outputs": [],
   "source": [
    "# Plot\n",
    "data_shape = X_Test.shape\n",
    "i = random.randint(0, data_shape[0])\n",
    "plt.figure(figsize=(12,8))\n",
    "plt.subplot(3,1,1)\n",
    "plt.plot(X_Test[i,:,0], label='GT')\n",
    "# plt.ylim(0,1)\n",
    "plt.title(f\"Appliance Load Consumption -- Sample Number {i}\", fontdict={'fontsize': 16})\n",
    "plt.legend()\n",
    "plt.subplot(3,1,2)\n",
    "plt.plot(Y_Test[i,:,0], label='Target')\n",
    "# plt.ylim(0,1)\n",
    "plt.title(f\"Occupancy GT\", fontdict={'fontsize': 16})\n",
    "plt.legend()\n",
    "plt.subplot(3,1,3)\n",
    "plt.plot(Y_Pred[i,:,0], label='Pred')\n",
    "# plt.ylim(0,1)\n",
    "plt.title(f\"Occupancy Estimated\", fontdict={'fontsize': 16})\n",
    "plt.legend()\n",
    "plt.tight_layout()"
   ]
  },
  {
   "cell_type": "code",
   "execution_count": null,
   "metadata": {},
   "outputs": [],
   "source": [
    "Construction_Error(Y_Test, Y_Pred)"
   ]
  },
  {
   "cell_type": "code",
   "execution_count": 18,
   "metadata": {},
   "outputs": [
    {
     "name": "stdout",
     "output_type": "stream",
     "text": [
      "Saving Results\n"
     ]
    }
   ],
   "source": [
    "# Save Outcomes\n",
    "print('Saving Results')\n",
    "File = h5py.File(f'Outcomes/UNet4P_5_32_DS_Microwave_SM3_21600_Overlapped.h5', 'w')\n",
    "File.create_dataset('SM', data=X_Test)\n",
    "File.create_dataset('App', data=Y_Test)\n",
    "File.create_dataset('App_Pred', data=Y_Pred)\n",
    "File.create_dataset('App_Denorm', data=Y_Test_Denorm)\n",
    "File.create_dataset('App_Pred_Denorm', data=Y_Pred_Denorm)\n",
    "File.close()"
   ]
  },
  {
   "cell_type": "code",
   "execution_count": null,
   "metadata": {},
   "outputs": [],
   "source": [
    "# Load Resuts\n",
    "fl_Data = h5py.File(os.path.join('Outcomes/UNet4P_5_32_DS_Microwave_SM3_21600_Overlapped.h5'), 'r')\n",
    "print(fl_Data.keys())\n",
    "X_Test = fl_Data['SM']\n",
    "Y_Test = fl_Data['App']\n",
    "Y_Pred = fl_Data['App_Pred']\n",
    "Y_Test_Denorm = fl_Data['App_Denorm']\n",
    "Y_Pred_Denorm = fl_Data['App_Pred_Denorm']"
   ]
  },
  {
   "cell_type": "markdown",
   "metadata": {
    "id": "WesN7p7AeYK4"
   },
   "source": [
    "# Infinite Loop to Keep the Tab Alive"
   ]
  },
  {
   "cell_type": "code",
   "execution_count": null,
   "metadata": {
    "id": "0HqQ3O6XeZ1f"
   },
   "outputs": [],
   "source": [
    "while True:\n",
    "    pass"
   ]
  }
 ],
 "metadata": {
  "accelerator": "GPU",
  "colab": {
   "collapsed_sections": [
    "tgW7r0C9TuZk",
    "Kir80l1FKPXB",
    "vMHdM26iekBm",
    "VUciLEJeyvyN",
    "WesN7p7AeYK4"
   ],
   "machine_shape": "hm",
   "name": "1D_CNN_Segmentation_End2End_Pipeline.ipynb",
   "provenance": []
  },
  "kernelspec": {
   "display_name": "Python 3 (ipykernel)",
   "language": "python",
   "name": "python3"
  },
  "language_info": {
   "codemirror_mode": {
    "name": "ipython",
    "version": 3
   },
   "file_extension": ".py",
   "mimetype": "text/x-python",
   "name": "python",
   "nbconvert_exporter": "python",
   "pygments_lexer": "ipython3",
   "version": "3.6.8"
  }
 },
 "nbformat": 4,
 "nbformat_minor": 1
}

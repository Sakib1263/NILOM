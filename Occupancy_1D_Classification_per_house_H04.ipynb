{
 "cells": [
  {
   "cell_type": "markdown",
   "metadata": {
    "id": "sFyb0y7PUJOo"
   },
   "source": [
    "# Iberdrola Project - Phase 2 [Occupancy Detection]"
   ]
  },
  {
   "cell_type": "markdown",
   "metadata": {
    "id": "W9vTr2NhcGAA"
   },
   "source": [
    "# Test GPU (Optional)\n",
    "Before Starting, kindly check the available GPU from the Google Server, GPU model and other related information. It might help!"
   ]
  },
  {
   "cell_type": "code",
   "execution_count": 10,
   "metadata": {},
   "outputs": [
    {
     "name": "stdout",
     "output_type": "stream",
     "text": [
      "Is CUDA enabled GPU Available? True\n",
      "GPU Number: 1\n",
      "Current GPU Index: 0\n",
      "GPU Type: NVIDIA GeForce RTX 3080 Ti Laptop GPU\n",
      "GPU Capability: (8, 6)\n",
      "Is GPU Initialized yet? True\n",
      "2.1.2+cu121\n"
     ]
    }
   ],
   "source": [
    "import torch\n",
    "print(\"Is CUDA enabled GPU Available?\", torch.cuda.is_available())\n",
    "print(\"GPU Number:\", torch.cuda.device_count())\n",
    "print(\"Current GPU Index:\", torch.cuda.current_device())\n",
    "print(\"GPU Type:\", torch.cuda.get_device_name(device=None))\n",
    "print(\"GPU Capability:\", torch.cuda.get_device_capability(device=None))\n",
    "print(\"Is GPU Initialized yet?\", torch.cuda.is_initialized())\n",
    "print(torch.__version__)"
   ]
  },
  {
   "cell_type": "markdown",
   "metadata": {
    "id": "tgW7r0C9TuZk"
   },
   "source": [
    "# Import Libraries"
   ]
  },
  {
   "cell_type": "code",
   "execution_count": 11,
   "metadata": {
    "id": "eMhBhz1CrMb3"
   },
   "outputs": [],
   "source": [
    "import os\n",
    "import h5py\n",
    "import scipy\n",
    "import random\n",
    "import pickle\n",
    "import json\n",
    "import configparser\n",
    "import numpy as np\n",
    "import pandas as pd\n",
    "import seaborn as sns\n",
    "import scipy.io as sio\n",
    "import tensorflow as tf\n",
    "import matplotlib.pyplot as plt\n",
    "from sklearn.metrics import mean_squared_error, mean_absolute_error, r2_score, classification_report, confusion_matrix\n",
    "from sklearn.model_selection import train_test_split\n",
    "from scipy.io import loadmat, savemat\n",
    "from pathlib import Path\n",
    "from tqdm import tqdm\n",
    "from scipy import stats"
   ]
  },
  {
   "cell_type": "code",
   "execution_count": 12,
   "metadata": {
    "id": "03JA1kRfzoit"
   },
   "outputs": [],
   "source": [
    "%matplotlib inline\n",
    "sns.set_style('white')"
   ]
  },
  {
   "cell_type": "markdown",
   "metadata": {},
   "source": [
    "# Import and Prepare Data"
   ]
  },
  {
   "cell_type": "markdown",
   "metadata": {},
   "source": [
    "## Prepare Dataset for Training"
   ]
  },
  {
   "cell_type": "markdown",
   "metadata": {},
   "source": [
    "Import and Extract Data"
   ]
  },
  {
   "cell_type": "code",
   "execution_count": 13,
   "metadata": {},
   "outputs": [
    {
     "name": "stdout",
     "output_type": "stream",
     "text": [
      "<KeysViewHDF5 ['data_occupancy', 'data_plugs', 'data_sm']>\n",
      "(86, 86400, 7)\n",
      "(86, 86400, 1)\n",
      "False\n",
      "False\n",
      "False\n",
      "False\n"
     ]
    }
   ],
   "source": [
    "# Import\n",
    "fl_Data = h5py.File(os.path.join('Raw_Data/Phase_2_Exp_2/H04_Data_Matched_Occupancy.mat'), 'r')\n",
    "print(fl_Data.keys())\n",
    "# Extract\n",
    "X_Data = np.swapaxes(np.swapaxes(np.array(fl_Data['data_plugs']),0,1),1,2)\n",
    "Y_Data = np.expand_dims(np.array(fl_Data['data_occupancy']), axis=2)\n",
    "X_Data_shape = X_Data.shape\n",
    "Y_Data_shape = Y_Data.shape\n",
    "print(X_Data_shape)\n",
    "print(Y_Data_shape)\n",
    "sample_num = X_Data_shape[0]\n",
    "segment_length = X_Data_shape[1]\n",
    "num_channels = X_Data_shape[2]\n",
    "# Check for NaNs and InFs\n",
    "data = pd.Series(X_Data.ravel())\n",
    "print(data.isna().any())\n",
    "print(data.isin([np.inf, -np.inf]).any())\n",
    "data = pd.Series(Y_Data.ravel())\n",
    "print(data.isna().any())\n",
    "print(data.isin([np.inf, -np.inf]).any())"
   ]
  },
  {
   "cell_type": "markdown",
   "metadata": {},
   "source": [
    "Plot Raw Segments"
   ]
  },
  {
   "cell_type": "code",
   "execution_count": null,
   "metadata": {},
   "outputs": [],
   "source": [
    "segment_length = 86400\n",
    "i = random.randint(0, X_Data_shape[0])\n",
    "plt.figure(figsize=(32,21))\n",
    "'''Fridge'''\n",
    "plt.subplot(8,1,1)\n",
    "plt.plot(X_Data[i,:,0], linewidth=3, label='Fridge GT', color='navy')\n",
    "plt.title(f\"House 04 - Fridge - Sample {i}\", fontdict={'fontsize': 22})\n",
    "plt.xlim((0,segment_length))\n",
    "plt.tick_params(labelsize=16, colors='k')\n",
    "plt.legend()\n",
    "plt.tight_layout()\n",
    "'''Kitchen Appliances'''\n",
    "plt.subplot(8,1,2)\n",
    "plt.plot(X_Data[i,:,1], linewidth=3, label='Kitchen Appliances GT', color='navy')\n",
    "plt.title(f\"Kitchen Appliances\", fontdict={'fontsize': 22})\n",
    "plt.xlim((0,segment_length))\n",
    "plt.tick_params(labelsize=16, colors='k')\n",
    "plt.legend()\n",
    "plt.tight_layout()\n",
    "'''Lamp'''\n",
    "plt.subplot(8,1,3)\n",
    "plt.plot(X_Data[i,:,2], linewidth=3, label='Lamp GT', color='navy')\n",
    "plt.title(f\"Lamp\", fontdict={'fontsize': 22})\n",
    "plt.xlim((0,segment_length))\n",
    "plt.tick_params(labelsize=16, colors='k')\n",
    "plt.legend()\n",
    "plt.tight_layout()\n",
    "'''Laptop'''\n",
    "plt.subplot(8,1,4)\n",
    "plt.plot(X_Data[i,:,3], linewidth=3, label='Laptop GT', color='navy')\n",
    "plt.title(f\"Laptop\", fontdict={'fontsize': 22})\n",
    "plt.xlim((0,segment_length))\n",
    "plt.tick_params(labelsize=16, colors='k')\n",
    "plt.legend()\n",
    "plt.tight_layout()\n",
    "'''Freezer'''\n",
    "plt.subplot(8,1,5)\n",
    "plt.plot(X_Data[i,:,4], linewidth=3, label='Freezer GT', color='navy')\n",
    "plt.title(f\"Freezer\", fontdict={'fontsize': 22})\n",
    "plt.xlim((0,segment_length))\n",
    "plt.tick_params(labelsize=16, colors='k')\n",
    "plt.legend()\n",
    "plt.tight_layout()\n",
    "'''Entertainment'''\n",
    "plt.subplot(8,1,6)\n",
    "plt.plot(X_Data[i,:,5], linewidth=3, label='Entertainment GT', color='navy')\n",
    "plt.title(f\"Entertainment\", fontdict={'fontsize': 22})\n",
    "plt.xlim((0,segment_length))\n",
    "plt.tick_params(labelsize=16, colors='k')\n",
    "plt.legend()\n",
    "plt.tight_layout()\n",
    "'''Microwave'''\n",
    "plt.subplot(8,1,7)\n",
    "plt.plot(X_Data[i,:,6], linewidth=3, label='Microwave GT', color='navy')\n",
    "plt.title(f\"Microwave\", fontdict={'fontsize': 22})\n",
    "plt.xlim((0,segment_length))\n",
    "plt.tick_params(labelsize=16, colors='k')\n",
    "plt.legend()\n",
    "plt.tight_layout()\n",
    "'''Occupancy Label'''\n",
    "plt.subplot(8,1,8)\n",
    "plt.plot(Y_Data[i,:,0], linewidth=3, label='Occupancy Label GT', color='navy')\n",
    "plt.title(f\"Occupancy Label\", fontdict={'fontsize': 22})\n",
    "plt.xlim((0,segment_length))\n",
    "plt.tick_params(labelsize=16, colors='k')\n",
    "plt.legend()\n",
    "plt.tight_layout()"
   ]
  },
  {
   "cell_type": "markdown",
   "metadata": {},
   "source": [
    "Data Pruning - Select channels with an acceptable number of datapoints (optional, for only multichannel)"
   ]
  },
  {
   "cell_type": "code",
   "execution_count": 14,
   "metadata": {},
   "outputs": [
    {
     "name": "stdout",
     "output_type": "stream",
     "text": [
      "Fridge\n",
      "-0.0006008372030482734\n",
      "Kitchen_Appliances\n",
      "0.02398692047379853\n",
      "Lamp\n",
      "0.005957090305768786\n",
      "Laptop\n",
      "0.008389735251117126\n",
      "Freezer\n",
      "-0.029938059934224038\n",
      "Microwave\n",
      "0.026233799818792633\n",
      "(86, 86400, 1)\n",
      "(86, 86400, 1)\n"
     ]
    }
   ],
   "source": [
    "thresh = 0.05\n",
    "X_Data_Pruned = np.zeros((sample_num,segment_length,num_channels))\n",
    "device_list = ['Fridge','Kitchen_Appliances','Lamp','Laptop','Freezer','Entertainment','Microwave']\n",
    "counter = 0\n",
    "for i in range(0,num_channels):\n",
    "    data_current_channel = X_Data[:,:,i]\n",
    "    data_current_channel_corr, _ = stats.pearsonr(data_current_channel.ravel(), Y_Data.ravel())\n",
    "    # data_current_channel_var = np.var(data_current_channel.ravel())\n",
    "    if (data_current_channel_corr < thresh) or (i == 0) or (i == 4):\n",
    "        print(device_list[i])\n",
    "        print(data_current_channel_corr)\n",
    "        continue\n",
    "    else:\n",
    "        X_Data_Pruned[:,:,counter] = data_current_channel\n",
    "        counter = counter + 1\n",
    "X_Data_Pruned = X_Data_Pruned[:,:,0:counter]\n",
    "X_Data_Shape = X_Data_Pruned.shape\n",
    "num_channels = X_Data_Shape[2]\n",
    "print(X_Data_Pruned.shape)\n",
    "print(Y_Data.shape)"
   ]
  },
  {
   "cell_type": "markdown",
   "metadata": {},
   "source": [
    "Transform Data"
   ]
  },
  {
   "cell_type": "code",
   "execution_count": 15,
   "metadata": {},
   "outputs": [
    {
     "name": "stdout",
     "output_type": "stream",
     "text": [
      "(86, 86400, 1)\n",
      "(86, 86400, 1)\n",
      "[0 1]\n"
     ]
    }
   ],
   "source": [
    "X_Data_Shape = X_Data_Pruned.shape\n",
    "sample_num = X_Data_Shape[0]\n",
    "segment_length = X_Data_Shape[1]\n",
    "num_channels = X_Data_Shape[2]\n",
    "X_Data_New = np.zeros((sample_num,segment_length,num_channels))\n",
    "# Step 1: Range Normalize Data based on [0 1] threshold\n",
    "counter = 0\n",
    "threshold1 = 0\n",
    "for i in range(0,sample_num):\n",
    "    X_Data_Temp = X_Data_Pruned[i,:,:]\n",
    "    for ii in range(0,num_channels):\n",
    "        X_Data_Temp_Ch = X_Data_Temp[:,ii]\n",
    "        for iii in range(0,segment_length):\n",
    "            X_Data_Temp_Ch_Point = X_Data_Temp_Ch[iii]\n",
    "            if X_Data_Temp_Ch_Point > threshold1:\n",
    "                X_Data_Temp_Ch_Point = 1\n",
    "            X_Data_New[counter,iii,ii] = X_Data_Temp_Ch_Point\n",
    "    counter = counter + 1\n",
    "X_Data_New = np.int_(X_Data_New[0:counter,:,:])\n",
    "print(X_Data_New.shape)\n",
    "print(Y_Data.shape)\n",
    "print(np.unique(X_Data_New))"
   ]
  },
  {
   "cell_type": "code",
   "execution_count": 16,
   "metadata": {},
   "outputs": [
    {
     "name": "stdout",
     "output_type": "stream",
     "text": [
      "(86, 86400, 1)\n",
      "(86, 86400, 1)\n"
     ]
    }
   ],
   "source": [
    "# Step 2: Merge short pulses into longer one based on threshold duration\n",
    "X_Data_Shape = X_Data_New.shape\n",
    "sample_num = X_Data_Shape[0]\n",
    "segment_length = X_Data_Shape[1]\n",
    "num_channels = X_Data_Shape[2]\n",
    "counter = 0\n",
    "threshold2 = 3600\n",
    "for i in range(0,sample_num):\n",
    "    X_Data_Temp = X_Data_New[i,:,:]\n",
    "    for ii in range(0,num_channels):\n",
    "        X_Data_Temp_Ch = X_Data_Temp[:,ii]\n",
    "        if np.var(X_Data_Temp_Ch) > 0:\n",
    "            transition_points = []\n",
    "            for iii in range(1,segment_length):\n",
    "                X_Data_Temp_Ch_Previous_Point = X_Data_Temp_Ch[iii-1]\n",
    "                X_Data_Temp_Ch_Current_Point = X_Data_Temp_Ch[iii]\n",
    "                if X_Data_Temp_Ch_Previous_Point != X_Data_Temp_Ch_Current_Point:\n",
    "                    transition_points.append(iii)\n",
    "            # print(transition_points)\n",
    "            for iii in range(1,len(transition_points)):\n",
    "                if ((transition_points[iii-1]-300) >= 0) and ((transition_points[iii-1]+300) < segment_length):\n",
    "                    X_Data_Temp_Ch[transition_points[iii-1]-300:transition_points[iii-1]+300] = 1\n",
    "                elif ((transition_points[iii-1]-300) < 0) and ((transition_points[iii-1]+300) < segment_length):\n",
    "                    X_Data_Temp_Ch[0:transition_points[iii-1]+300] = 1\n",
    "                elif ((transition_points[iii-1]-300) >= 0) and ((transition_points[iii-1]+300) >= segment_length):\n",
    "                    X_Data_Temp_Ch[transition_points[iii-1]-300:segment_length] = 1\n",
    "                transition_interval = transition_points[iii] - transition_points[iii-1]\n",
    "                if transition_interval <= threshold2:\n",
    "                    X_Data_Temp_Ch[transition_points[iii-1]:transition_points[iii]] = 1\n",
    "        X_Data_New[counter,:,ii] = X_Data_Temp_Ch\n",
    "    counter = counter + 1\n",
    "X_Data_New = X_Data_New[0:counter,:,:]\n",
    "print(X_Data_New.shape)\n",
    "print(Y_Data.shape)"
   ]
  },
  {
   "cell_type": "markdown",
   "metadata": {},
   "source": [
    "Plot again"
   ]
  },
  {
   "cell_type": "code",
   "execution_count": null,
   "metadata": {},
   "outputs": [],
   "source": [
    "segment_length = 86400\n",
    "i = random.randint(0, X_Data_shape[0])\n",
    "plt.figure(figsize=(32,15))\n",
    "'''Kitchen Appliances'''\n",
    "plt.subplot(6,1,1)\n",
    "plt.plot(X_Data_New[i,:,0], linewidth=3, label='Kitchen Appliances GT', color='navy')\n",
    "plt.plot(X_Data[i,:,1], linewidth=3, label='Kitchen Appliances GT', color='red')\n",
    "plt.title(f\"House 04 - Kitchen Appliances - Sample {i}\", fontdict={'fontsize': 22})\n",
    "plt.xlim((0,segment_length))\n",
    "plt.tick_params(labelsize=16, colors='k')\n",
    "plt.legend()\n",
    "plt.tight_layout()\n",
    "'''Lamp'''\n",
    "plt.subplot(6,1,2)\n",
    "plt.plot(X_Data_New[i,:,1], linewidth=3, label='Lamp GT', color='navy')\n",
    "plt.plot(X_Data[i,:,2], linewidth=3, label='Lamp GT', color='red')\n",
    "plt.title(f\"Lamp\", fontdict={'fontsize': 22})\n",
    "plt.xlim((0,segment_length))\n",
    "plt.tick_params(labelsize=16, colors='k')\n",
    "plt.legend()\n",
    "plt.tight_layout()\n",
    "'''Laptop'''\n",
    "plt.subplot(6,1,3)\n",
    "plt.plot(X_Data_New[i,:,2], linewidth=3, label='Laptop GT', color='navy')\n",
    "plt.plot(X_Data[i,:,3], linewidth=3, label='Laptop GT', color='red')\n",
    "plt.title(f\"Laptop\", fontdict={'fontsize': 22})\n",
    "plt.xlim((0,segment_length))\n",
    "plt.tick_params(labelsize=16, colors='k')\n",
    "plt.legend()\n",
    "plt.tight_layout()\n",
    "'''Entertainment'''\n",
    "plt.subplot(6,1,4)\n",
    "plt.plot(X_Data_New[i,:,3], linewidth=3, label='Entertainment GT', color='navy')\n",
    "plt.plot(X_Data[i,:,5], linewidth=3, label='Entertainment GT', color='red')\n",
    "plt.title(f\"Entertainment\", fontdict={'fontsize': 22})\n",
    "plt.xlim((0,segment_length))\n",
    "plt.tick_params(labelsize=16, colors='k')\n",
    "plt.legend()\n",
    "plt.tight_layout()\n",
    "'''Microwave'''\n",
    "plt.subplot(6,1,5)\n",
    "plt.plot(X_Data_New[i,:,4], linewidth=3, label='Microwave GT', color='navy')\n",
    "plt.plot(X_Data[i,:,6], linewidth=3, label='Microwave GT', color='red')\n",
    "plt.title(f\"Microwave\", fontdict={'fontsize': 22})\n",
    "plt.xlim((0,segment_length))\n",
    "plt.tick_params(labelsize=16, colors='k')\n",
    "plt.legend()\n",
    "plt.tight_layout()\n",
    "'''Occupancy Label'''\n",
    "plt.subplot(6,1,6)\n",
    "plt.plot(Y_Data[i,:,0], linewidth=3, label='Occupancy Label GT', color='navy')\n",
    "plt.title(f\"Occupancy Label\", fontdict={'fontsize': 22})\n",
    "plt.xlim((0,segment_length))\n",
    "plt.tick_params(labelsize=16, colors='k')\n",
    "plt.legend()\n",
    "plt.tight_layout()"
   ]
  },
  {
   "cell_type": "markdown",
   "metadata": {},
   "source": [
    "Combine Channels"
   ]
  },
  {
   "cell_type": "code",
   "execution_count": 17,
   "metadata": {},
   "outputs": [
    {
     "name": "stdout",
     "output_type": "stream",
     "text": [
      "(86, 86400, 1)\n",
      "(86, 86400, 1)\n",
      "[0 1]\n",
      "[0. 1.]\n"
     ]
    }
   ],
   "source": [
    "X_Data_Shape = X_Data_New.shape\n",
    "Y_Data_Shape = Y_Data.shape\n",
    "sample_num = X_Data_Shape[0]\n",
    "segment_length = X_Data_Shape[1]\n",
    "num_channels = X_Data_Shape[2]\n",
    "X_Data_AGG = np.zeros((sample_num,segment_length,1))\n",
    "counter = 0\n",
    "for i in range(0,sample_num):\n",
    "    X_Data_Temp = X_Data_New[i,:,:]\n",
    "    X_Data_Temp = np.sum(X_Data_Temp, axis=1)\n",
    "    X_Data_Temp[X_Data_Temp > 0] = 1\n",
    "    X_Data_AGG[counter,:,0] = X_Data_Temp\n",
    "    counter = counter + 1\n",
    "X_Data_AGG = np.int_(X_Data_AGG[0:counter,:,:])\n",
    "print(X_Data_AGG.shape)\n",
    "print(Y_Data.shape)\n",
    "print(np.unique(X_Data_AGG))\n",
    "print(np.unique(Y_Data))"
   ]
  },
  {
   "cell_type": "markdown",
   "metadata": {},
   "source": [
    "Plot Aggregated Ground Truth"
   ]
  },
  {
   "cell_type": "code",
   "execution_count": 18,
   "metadata": {},
   "outputs": [
    {
     "data": {
      "image/png": "[encoded data removed]",
      "text/plain": [
       "<Figure size 3200x600 with 2 Axes>"
      ]
     },
     "metadata": {},
     "output_type": "display_data"
    }
   ],
   "source": [
    "segment_length = 86400\n",
    "i = random.randint(0, X_Data_AGG.shape[0]-1)\n",
    "'''Dishwasher'''\n",
    "plt.figure(figsize=(32,6))\n",
    "plt.subplot(2,1,1)\n",
    "plt.plot(X_Data_AGG[i,:,0], linewidth=3, label='Aggregated Data GT', color='navy')\n",
    "plt.title(f\"House 04 - Aggregated Appliance Data - Sample {i}\", fontdict={'fontsize': 22})\n",
    "plt.xlim((0,segment_length))\n",
    "plt.tick_params(labelsize=16, colors='k')\n",
    "plt.legend()\n",
    "'''Occupancy Label'''\n",
    "plt.subplot(2,1,2)\n",
    "plt.plot(Y_Data[i,:,0], linewidth=3, label='Occupancy Label GT', color='navy')\n",
    "plt.title(f\"Occupancy Label\", fontdict={'fontsize': 22})\n",
    "plt.xlim((0,segment_length))\n",
    "# plt.ylim((0,1))\n",
    "plt.tick_params(labelsize=16, colors='k')\n",
    "plt.legend()\n",
    "plt.tight_layout()"
   ]
  },
  {
   "cell_type": "markdown",
   "metadata": {},
   "source": [
    "Cleanse and Save House 04 data for the combined approach"
   ]
  },
  {
   "cell_type": "code",
   "execution_count": 20,
   "metadata": {},
   "outputs": [
    {
     "name": "stdout",
     "output_type": "stream",
     "text": [
      "(43, 86400, 1)\n",
      "(43, 86400, 1)\n",
      "[0 1]\n",
      "[0 1]\n"
     ]
    }
   ],
   "source": [
    "# Curate\n",
    "X_Data_Shape = X_Data_AGG.shape\n",
    "Y_Data_Shape = Y_Data.shape\n",
    "sample_num = X_Data_Shape[0]\n",
    "segment_length = X_Data_Shape[1]\n",
    "num_channels = X_Data_Shape[2]\n",
    "X_Data_Curated = np.zeros((sample_num,segment_length,num_channels))\n",
    "Y_Data_Curated = np.zeros((sample_num,segment_length,1))\n",
    "counter = 0\n",
    "for i in range(0,sample_num):\n",
    "    X_Data_Temp = X_Data_AGG[i,:,:]\n",
    "    Y_Data_Temp = Y_Data[i,:,:]\n",
    "    Y_Data_Temp_SUM = np.sum(Y_Data_Temp)\n",
    "    if (Y_Data_Temp_SUM < np.round(0.01*segment_length)) or (Y_Data_Temp_SUM > np.round(0.99*segment_length)):\n",
    "        continue\n",
    "    if (np.var(X_Data_Temp) > 0.0001):\n",
    "        X_Data_Curated[counter,:,:] = X_Data_Temp\n",
    "        Y_Data_Curated[counter,:,:] = Y_Data_Temp\n",
    "        counter = counter + 1\n",
    "X_Data_Curated = np.int_(X_Data_Curated[0:counter,:,:])\n",
    "Y_Data_Curated = np.int_(Y_Data_Curated[0:counter,:,:])\n",
    "print(X_Data_Curated.shape)\n",
    "print(Y_Data_Curated.shape)\n",
    "print(np.unique(X_Data_Curated))\n",
    "print(np.unique(Y_Data_Curated))\n",
    "# Save\n",
    "data_dic = {\"X_Data\": X_Data_Curated,\n",
    "            \"Y_Data\": Y_Data_Curated,\n",
    "            }\n",
    "savemat(\"Occupancy_Data_Curated_House_04_V2.mat\", data_dic, format='5')"
   ]
  },
  {
   "cell_type": "markdown",
   "metadata": {},
   "source": [
    "Create Folds - Train and Test Sets - 20% for Test - 10% for Validation"
   ]
  },
  {
   "cell_type": "code",
   "execution_count": null,
   "metadata": {},
   "outputs": [
    {
     "name": "stdout",
     "output_type": "stream",
     "text": [
      "(68, 86400, 1)\n",
      "(68, 86400, 1)\n",
      "(18, 86400, 1)\n",
      "(18, 86400, 1)\n",
      "(18, 86400, 1)\n",
      "(18, 86400, 1)\n"
     ]
    }
   ],
   "source": [
    "X_Train, X_Test, Y_Train, Y_Test = train_test_split(X_Data_AGG, Y_Data, test_size=0.2, random_state=0)\n",
    "X_Val = X_Test\n",
    "Y_Val = Y_Test\n",
    "print(X_Train.shape)\n",
    "print(Y_Train.shape)\n",
    "print(X_Test.shape)\n",
    "print(Y_Test.shape)\n",
    "print(X_Val.shape)\n",
    "print(Y_Val.shape)"
   ]
  },
  {
   "cell_type": "markdown",
   "metadata": {},
   "source": [
    "Overlap Train Set"
   ]
  },
  {
   "cell_type": "code",
   "execution_count": null,
   "metadata": {},
   "outputs": [
    {
     "name": "stdout",
     "output_type": "stream",
     "text": [
      "(68, 86400, 1)\n",
      "(68, 86400, 1)\n",
      "(5875200, 1)\n",
      "(5875200, 1)\n",
      "(671, 86400, 1)\n",
      "(671, 86400, 1)\n"
     ]
    }
   ],
   "source": [
    "# Overlap\n",
    "X_Data_Shape = X_Train.shape\n",
    "Y_Data_Shape = Y_Train.shape\n",
    "segment_length = X_Data_Shape[1]\n",
    "num_channels = X_Data_Shape[2]\n",
    "print(X_Data_Shape)\n",
    "print(Y_Data_Shape)\n",
    "# Reshape Array\n",
    "X_Data_Reshaped = np.reshape(X_Train, (X_Data_Shape[0]*X_Data_Shape[1], num_channels))\n",
    "Y_Data_Reshaped = np.reshape(Y_Train, (Y_Data_Shape[0]*Y_Data_Shape[1], 1))\n",
    "X_Data_Reshaped_Shape = X_Data_Reshaped.shape\n",
    "Y_Data_Reshaped_Shape = Y_Data_Reshaped.shape\n",
    "print(X_Data_Reshaped_Shape)\n",
    "print(Y_Data_Reshaped_Shape)\n",
    "# Overlap\n",
    "overlap_ratio = 0.9\n",
    "offset_amount = np.int_(segment_length*(1 - overlap_ratio))\n",
    "X_Data_New = np.zeros((2000,segment_length,num_channels))\n",
    "Y_Data_New = np.zeros((2000,segment_length,1))\n",
    "num_segments_approx = np.int_(np.ceil(X_Data_Reshaped_Shape[0]/offset_amount))\n",
    "counter = 0\n",
    "for i in range(0,num_segments_approx):\n",
    "    if (i*offset_amount+segment_length) > X_Data_Reshaped_Shape[0]:\n",
    "        continue\n",
    "    X_Data_Temp = X_Data_Reshaped[i*offset_amount:i*offset_amount+segment_length,:]\n",
    "    X_Data_New[counter,:,:] = X_Data_Temp\n",
    "    Y_Data_Temp = Y_Data_Reshaped[i*offset_amount:i*offset_amount+segment_length,:]\n",
    "    Y_Data_New[counter,:,:] = Y_Data_Temp\n",
    "    counter = counter + 1\n",
    "X_Train_OVRL = X_Data_New[0:counter,:,:]\n",
    "Y_Train_OVRL = Y_Data_New[0:counter,:,:]\n",
    "print(X_Train_OVRL.shape)\n",
    "print(Y_Train_OVRL.shape)"
   ]
  },
  {
   "cell_type": "markdown",
   "metadata": {},
   "source": [
    "Transform Labels for Classification"
   ]
  },
  {
   "cell_type": "code",
   "execution_count": null,
   "metadata": {},
   "outputs": [],
   "source": [
    "def transform_labels(X_Data_OVRL, Y_Data_OVRL, segment_length, num_channels):\n",
    "    X_Data_New = np.zeros((20000,num_channels,segment_length))\n",
    "    Y_Data_New = np.zeros((20000,1), dtype=int)\n",
    "    ## Raw Dataset\n",
    "    X_Data_Shape = X_Data_OVRL.shape\n",
    "    Y_Data_Shape = Y_Data_OVRL.shape\n",
    "    # Reshape Array\n",
    "    X_Data_Reshaped = np.reshape(X_Data_OVRL, (X_Data_Shape[0]*X_Data_Shape[1], num_channels))\n",
    "    Y_Data_Reshaped = np.reshape(Y_Data_OVRL, (Y_Data_Shape[0]*Y_Data_Shape[1], 1))\n",
    "    X_Data_Reshaped_Shape = X_Data_Reshaped.shape\n",
    "    Y_Data_Reshaped_Shape = Y_Data_Reshaped.shape\n",
    "    num_segments_approx = np.int_(np.ceil(X_Data_Reshaped_Shape[0]/segment_length))\n",
    "    counter = 0\n",
    "    for i in range(0,num_segments_approx):\n",
    "        if ((i+1)*segment_length) > X_Data_Reshaped_Shape[0]:\n",
    "            continue\n",
    "        X_Data_Temp = np.transpose(X_Data_Reshaped[i*segment_length:(i+1)*segment_length,:])\n",
    "        X_Data_Temp_Mean = np.mean(X_Data_Temp)\n",
    "        X_Data_Temp_VAR = np.var(X_Data_Temp)\n",
    "        X_Data_New[counter,:,:] = X_Data_Temp\n",
    "        Y_Data_Temp = Y_Data_Reshaped[i*segment_length:(i+1)*segment_length,:]\n",
    "        Y_Data_Temp_Mean = np.mean(Y_Data_Temp)\n",
    "        Y_Data_Temp_VAR = np.var(Y_Data_Temp)\n",
    "        Y_Data_Temp_SUM = np.sum(Y_Data_Temp)\n",
    "        if X_Data_Temp_VAR <= 0.001:\n",
    "            continue\n",
    "        # if Y_Data_Temp_VAR <= 0.001:\n",
    "            # continue\n",
    "        if (Y_Data_Temp_SUM < np.round(0.1*segment_length)) or (Y_Data_Temp_SUM > np.round(0.90*segment_length)):\n",
    "            continue\n",
    "        # if Y_Data_Temp_SUM == segment_length:\n",
    "            # continue\n",
    "        if Y_Data_Temp_Mean > 0.5:\n",
    "            Y_Label = 1\n",
    "        else:\n",
    "            Y_Label = 0\n",
    "        Y_Data_New[counter,:] = Y_Label\n",
    "        counter = counter + 1\n",
    "    X_Data_New = X_Data_New[0:counter,:,:]\n",
    "    Y_Data_New = Y_Data_New[0:counter,:]\n",
    "    return X_Data_New, Y_Data_New"
   ]
  },
  {
   "cell_type": "code",
   "execution_count": null,
   "metadata": {},
   "outputs": [
    {
     "name": "stdout",
     "output_type": "stream",
     "text": [
      "(168, 1, 1200)\n",
      "(168, 1)\n",
      "(3, 1, 1200)\n",
      "(3, 1)\n",
      "(3, 1, 1200)\n",
      "(3, 1)\n",
      "[0 1] [ 64 104]\n",
      "[0 1] [2 1]\n",
      "[0 1] [2 1]\n"
     ]
    }
   ],
   "source": [
    "segment_length = 1200  # 20 Minutes = 1200 Data Points (1 Hz sampling rate)\n",
    "X_Train_C, Y_Train_C = transform_labels(X_Train_OVRL, Y_Train_OVRL, segment_length, num_channels)\n",
    "X_Test_C, Y_Test_C = transform_labels(X_Test, Y_Test, segment_length, num_channels)\n",
    "X_Val_C, Y_Val_C = transform_labels(X_Test, Y_Test, segment_length, num_channels)\n",
    "print(X_Train_C.shape)\n",
    "print(Y_Train_C.shape)\n",
    "print(X_Test_C.shape)\n",
    "print(Y_Test_C.shape)\n",
    "print(X_Val_C.shape)\n",
    "print(Y_Val_C.shape)\n",
    "labels, counts = np.unique(Y_Train_C, return_counts=True)\n",
    "print(labels, counts)\n",
    "labels, counts = np.unique(Y_Test_C, return_counts=True)\n",
    "print(labels, counts)\n",
    "labels, counts = np.unique(Y_Val_C, return_counts=True)\n",
    "print(labels, counts)\n"
   ]
  },
  {
   "cell_type": "markdown",
   "metadata": {},
   "source": [
    "Balance train set (if required)"
   ]
  },
  {
   "cell_type": "code",
   "execution_count": null,
   "metadata": {},
   "outputs": [
    {
     "name": "stdout",
     "output_type": "stream",
     "text": [
      "(974, 8, 1200)\n",
      "(974, 1)\n"
     ]
    }
   ],
   "source": [
    "Y_Train_0_indices = np.where(Y_Train_C == 0)[0]\n",
    "X_Train_C_0 = np.take(X_Train_C, Y_Train_0_indices, axis=0)\n",
    "Y_Train_C_0 = np.take(Y_Train_C, Y_Train_0_indices, axis=0)\n",
    "Y_Train_1_indices = np.where(Y_Train_C == 1)[0]\n",
    "X_Train_C_1 = np.take(X_Train_C, Y_Train_1_indices, axis=0)\n",
    "Y_Train_C_1 = np.take(Y_Train_C, Y_Train_1_indices, axis=0)\n",
    "#\n",
    "Y_Train_C_0_shape = Y_Train_C_0.shape\n",
    "Y_Train_C_1_shape = Y_Train_C_1.shape\n",
    "Y_Train_C_shape = Y_Train_C.shape\n",
    "if Y_Train_C_1_shape[0] > Y_Train_C_0_shape[0]:\n",
    "    index = np.random.choice(Y_Train_C_1_shape[0], Y_Train_C_0_shape[0], replace=False)\n",
    "    X_Train_1 = X_Train_C_1[index]\n",
    "    Y_Train_1 = Y_Train_C_1[index]\n",
    "    X_Train = np.concatenate([X_Train_C_0, X_Train_1], axis=0)\n",
    "    Y_Train = np.concatenate([Y_Train_C_0, Y_Train_1], axis=0)\n",
    "elif Y_Train_C_0_shape[0] > Y_Train_C_1_shape[0]:\n",
    "    index = np.random.choice(Y_Train_C_0_shape[0], Y_Train_C_1_shape[0], replace=False)\n",
    "    X_Train_0 = X_Train_C_0[index]\n",
    "    Y_Train_0 = Y_Train_C_0[index]\n",
    "    X_Train = np.concatenate([X_Train_C_1, X_Train_0], axis=0)\n",
    "    Y_Train = np.concatenate([Y_Train_C_1, Y_Train_0], axis=0)\n",
    "#\n",
    "X_Train_C = X_Train\n",
    "Y_Train_C = Y_Train\n",
    "print(X_Train_C.shape)\n",
    "print(Y_Train_C.shape)"
   ]
  },
  {
   "cell_type": "code",
   "execution_count": null,
   "metadata": {},
   "outputs": [],
   "source": [
    "train_data_dic = {\"X_Train\": X_Train_C,\n",
    "                  \"Y_Train\": Y_Train_C,\n",
    "                  \"X_Test\": X_Test_C,\n",
    "                  \"Y_Test\": Y_Test_C,\n",
    "                  \"X_Val\": X_Test_C,\n",
    "                  \"Y_Val\": Y_Test_C,\n",
    "                  }\n",
    "savemat(\"Data/Data_Fold_1.mat\", train_data_dic, format='5')"
   ]
  },
  {
   "cell_type": "markdown",
   "metadata": {
    "id": "_qTwozk_BS94"
   },
   "source": [
    "Garbage Collector"
   ]
  },
  {
   "cell_type": "code",
   "execution_count": null,
   "metadata": {
    "colab": {
     "base_uri": "https://localhost:8080/"
    },
    "executionInfo": {
     "elapsed": 16,
     "status": "ok",
     "timestamp": 1633010341331,
     "user": {
      "displayName": "Sakib Mahmud",
      "photoUrl": "https://lh3.googleusercontent.com/a-/AOh14Gg8lG2uTygQr7y6fmQUo67XXUtrCVGaEakj_P33Ft8=s64",
      "userId": "03961007737707022852"
     },
     "user_tz": -180
    },
    "id": "ch2jmn3jKKiH",
    "outputId": "c9807e23-ff6c-428d-f6e3-4f5e6382e71d"
   },
   "outputs": [
    {
     "data": {
      "text/plain": [
       "0"
      ]
     },
     "execution_count": 65,
     "metadata": {},
     "output_type": "execute_result"
    }
   ],
   "source": [
    "import gc #Garbage Collector\n",
    "fl_Data = None\n",
    "X_Test = None\n",
    "X_Train = None\n",
    "X_Val = None\n",
    "Y_Test = None\n",
    "Y_Train = None\n",
    "Y_Val = None\n",
    "gc.collect()"
   ]
  },
  {
   "cell_type": "markdown",
   "metadata": {
    "id": "RHq0FrX9iAsq"
   },
   "source": [
    "# MAIN"
   ]
  },
  {
   "cell_type": "markdown",
   "metadata": {
    "id": "yozhkF-OJWu2"
   },
   "source": [
    "## Configurations"
   ]
  },
  {
   "cell_type": "code",
   "execution_count": null,
   "metadata": {
    "id": "Mai6ZRMeiFvA"
   },
   "outputs": [
    {
     "name": "stdout",
     "output_type": "stream",
     "text": [
      "Config file 'Config_Train.ini' created\n"
     ]
    }
   ],
   "source": [
    "# CREATE OBJECT\n",
    "config_file = configparser.ConfigParser()\n",
    "# ADD NEW SECTION AND SETTINGS\n",
    "config_file[\"TRAIN\"] = {\n",
    "    'parentdir': '',  # Root or Parent Directory\n",
    "    'datafile': 'Data',  # Folder containing the dataset\n",
    "    'val_size': 0.0,  # Validation percentage for splitting\n",
    "    'q_order': 3,  # q-order for the Self-ONN or Super-ONN Models\n",
    "    'batch_size': 2,  # Batch Size, Change to fit hardware\n",
    "    'lossType': 'SoftM_MSE',  # loss function: 'SoftM_CELoss' or 'SoftM_MSE' or 'MSE'\n",
    "    'optim_fc': 'Adam',  # 'Adam' or 'SGD'\n",
    "    'lr': 0.0005,  # learning rate\n",
    "    'stop_criteria': 'accuracy',  # Stopping criteria: 'loss' or 'accuracy'\n",
    "    'n_epochs': 500,  # number of training epochs\n",
    "    'epochs_patience': 6,\n",
    "    'lr_factor': 0.1,  # lr_factor, if val loss did not decrease for a number of epochs (epochs_patience) then decrease learning rate by a factor of lr_factor\n",
    "    'max_epochs_stop': 30,  # maximum number of epochs with no improvement in validation loss for early stopping\n",
    "    'num_folds': 1,  # number of cross validation folds\n",
    "    'load_model': False,  # load model: True or False\n",
    "    'load_model_path': 'Results_Classification\\RODNet_Occp_Classification\\Fold_1\\RODNet_Occp_Classification_fold_1.pt',  # specify path of pretrained model wieghts or set to False to train from scratch\n",
    "    'model_to_load': 'RODNet',  # choose one of the following models: 'CNN_1' 'CNN_2' 'CNN_2' 'CNN_3' 'SelfResNet18' 'ResNet'\n",
    "    'model_name': 'RODNet_Occp_Classification',  # choose a unique name for result folder\n",
    "    'aux_logits': False,  # Required for models with auxilliary outputs (e.g., InceptionV3)  \n",
    "    'fold_start': 1,  # The starting fold for training\n",
    "    'fold_last': 1,  # The last fold for training\n",
    "    'results_path': 'Results_Classification',  # main results folder\n",
    "}\n",
    "\n",
    "# SAVE CONFIG FILE\n",
    "with open(r\"Config_Train.ini\", 'w') as configfileObj:\n",
    "    config_file.write(configfileObj)\n",
    "    configfileObj.flush()\n",
    "    configfileObj.close()\n",
    "\n",
    "print(\"Config file 'Config_Train.ini' created\")"
   ]
  },
  {
   "cell_type": "markdown",
   "metadata": {
    "id": "nWQQ-U2bJ2Js"
   },
   "source": [
    "## Train"
   ]
  },
  {
   "cell_type": "code",
   "execution_count": null,
   "metadata": {
    "id": "YSLqe-8gJ2R8"
   },
   "outputs": [
    {
     "name": "stdout",
     "output_type": "stream",
     "text": [
      "Train on gpu: True\n",
      "1 GPUs detected.\n",
      "Training using RODNet network\n",
      "Starting training with Fold 1\n",
      "Shape of Train Data: (168, 1, 1200)\n",
      "Shape of Train Label: (168, 1)\n",
      "Shape of Validation Data: (3, 1, 1200)\n",
      "Shape of Validation Label: (3, 1)\n",
      "Shape of Test Data: (3, 1, 1200)\n",
      "Shape of Test Label: (3, 1)\n",
      "Classes: [0 1]\n",
      "No. of Classes: 2\n",
      "model device: cuda\n",
      "Starting Training from Scratch.\n",
      "\n"
     ]
    },
    {
     "name": "stderr",
     "output_type": "stream",
     "text": [
      "Epoch 0: 100%|██████████| 84/84 [00:01<00:00, 59.77it/s]\n",
      "c:\\Users\\Sakib Mahmud\\AppData\\Local\\Programs\\Python\\Python311\\Lib\\site-packages\\torch\\nn\\modules\\loss.py:535: UserWarning: Using a target size (torch.Size([2])) that is different to the input size (torch.Size([1, 2])). This will likely lead to incorrect results due to broadcasting. Please ensure they have the same size.\n",
      "  return F.mse_loss(input, target, reduction=self.reduction)\n"
     ]
    },
    {
     "name": "stdout",
     "output_type": "stream",
     "text": [
      "\n",
      "Epoch: 0 \tTraining Loss: 0.2439 \tValidation Loss: 0.3255 \tTest Loss: 0.3255\n",
      "\t\tTraining Accuracy: 61.31%\t Validation Accuracy: 33.33%\t Test Accuracy: 33.33%\n"
     ]
    },
    {
     "name": "stderr",
     "output_type": "stream",
     "text": [
      "Epoch 1: 100%|██████████| 84/84 [00:01<00:00, 79.85it/s]\n"
     ]
    },
    {
     "name": "stdout",
     "output_type": "stream",
     "text": [
      "\n",
      "Epoch: 1 \tTraining Loss: 0.2420 \tValidation Loss: 0.3076 \tTest Loss: 0.3076\n",
      "\t\tTraining Accuracy: 63.10%\t Validation Accuracy: 33.33%\t Test Accuracy: 33.33%\n"
     ]
    },
    {
     "name": "stderr",
     "output_type": "stream",
     "text": [
      "Epoch 2: 100%|██████████| 84/84 [00:01<00:00, 80.04it/s]\n"
     ]
    },
    {
     "name": "stdout",
     "output_type": "stream",
     "text": [
      "\n",
      "Epoch: 2 \tTraining Loss: 0.2399 \tValidation Loss: 0.4386 \tTest Loss: 0.4386\n",
      "\t\tTraining Accuracy: 61.90%\t Validation Accuracy: 33.33%\t Test Accuracy: 33.33%\n"
     ]
    },
    {
     "name": "stderr",
     "output_type": "stream",
     "text": [
      "Epoch 3: 100%|██████████| 84/84 [00:01<00:00, 81.24it/s]\n"
     ]
    },
    {
     "name": "stdout",
     "output_type": "stream",
     "text": [
      "\n",
      "Epoch: 3 \tTraining Loss: 0.2378 \tValidation Loss: 0.3259 \tTest Loss: 0.3259\n",
      "\t\tTraining Accuracy: 61.90%\t Validation Accuracy: 33.33%\t Test Accuracy: 33.33%\n"
     ]
    },
    {
     "name": "stderr",
     "output_type": "stream",
     "text": [
      "Epoch 4: 100%|██████████| 84/84 [00:01<00:00, 75.66it/s]\n"
     ]
    },
    {
     "name": "stdout",
     "output_type": "stream",
     "text": [
      "\n",
      "Epoch: 4 \tTraining Loss: 0.2408 \tValidation Loss: 0.2973 \tTest Loss: 0.2973\n",
      "\t\tTraining Accuracy: 61.31%\t Validation Accuracy: 33.33%\t Test Accuracy: 33.33%\n"
     ]
    },
    {
     "name": "stderr",
     "output_type": "stream",
     "text": [
      "Epoch 5: 100%|██████████| 84/84 [00:01<00:00, 82.27it/s]\n"
     ]
    },
    {
     "name": "stdout",
     "output_type": "stream",
     "text": [
      "\n",
      "Epoch: 5 \tTraining Loss: 0.2431 \tValidation Loss: 0.2689 \tTest Loss: 0.2689\n",
      "\t\tTraining Accuracy: 59.52%\t Validation Accuracy: 33.33%\t Test Accuracy: 33.33%\n"
     ]
    },
    {
     "name": "stderr",
     "output_type": "stream",
     "text": [
      "Epoch 6: 100%|██████████| 84/84 [00:00<00:00, 87.02it/s]\n"
     ]
    },
    {
     "name": "stdout",
     "output_type": "stream",
     "text": [
      "\n",
      "Epoch: 6 \tTraining Loss: 0.2366 \tValidation Loss: 0.3854 \tTest Loss: 0.3854\n",
      "\t\tTraining Accuracy: 61.90%\t Validation Accuracy: 33.33%\t Test Accuracy: 33.33%\n"
     ]
    },
    {
     "name": "stderr",
     "output_type": "stream",
     "text": [
      "Epoch 7: 100%|██████████| 84/84 [00:00<00:00, 88.35it/s]\n"
     ]
    },
    {
     "name": "stdout",
     "output_type": "stream",
     "text": [
      "\n",
      "Epoch: 7 \tTraining Loss: 0.2383 \tValidation Loss: 0.4026 \tTest Loss: 0.4026\n",
      "\t\tTraining Accuracy: 61.90%\t Validation Accuracy: 33.33%\t Test Accuracy: 33.33%\n"
     ]
    },
    {
     "name": "stderr",
     "output_type": "stream",
     "text": [
      "Epoch 8: 100%|██████████| 84/84 [00:01<00:00, 83.64it/s]\n"
     ]
    },
    {
     "name": "stdout",
     "output_type": "stream",
     "text": [
      "\n",
      "Epoch: 8 \tTraining Loss: 0.2387 \tValidation Loss: 0.3259 \tTest Loss: 0.3259\n",
      "\t\tTraining Accuracy: 60.71%\t Validation Accuracy: 33.33%\t Test Accuracy: 33.33%\n"
     ]
    },
    {
     "name": "stderr",
     "output_type": "stream",
     "text": [
      "Epoch 9: 100%|██████████| 84/84 [00:01<00:00, 83.32it/s]\n"
     ]
    },
    {
     "name": "stdout",
     "output_type": "stream",
     "text": [
      "\n",
      "Epoch: 9 \tTraining Loss: 0.2339 \tValidation Loss: 0.5166 \tTest Loss: 0.5166\n",
      "\t\tTraining Accuracy: 61.90%\t Validation Accuracy: 33.33%\t Test Accuracy: 33.33%\n"
     ]
    },
    {
     "name": "stderr",
     "output_type": "stream",
     "text": [
      "Epoch 10: 100%|██████████| 84/84 [00:01<00:00, 83.46it/s]\n"
     ]
    },
    {
     "name": "stdout",
     "output_type": "stream",
     "text": [
      "\n",
      "Epoch: 10 \tTraining Loss: 0.2354 \tValidation Loss: 0.4441 \tTest Loss: 0.4441\n",
      "\t\tTraining Accuracy: 61.90%\t Validation Accuracy: 33.33%\t Test Accuracy: 33.33%\n"
     ]
    },
    {
     "name": "stderr",
     "output_type": "stream",
     "text": [
      "Epoch 11: 100%|██████████| 84/84 [00:01<00:00, 83.57it/s]\n"
     ]
    },
    {
     "name": "stdout",
     "output_type": "stream",
     "text": [
      "\n",
      "Epoch: 11 \tTraining Loss: 0.2393 \tValidation Loss: 0.2957 \tTest Loss: 0.2957\n",
      "\t\tTraining Accuracy: 60.71%\t Validation Accuracy: 33.33%\t Test Accuracy: 33.33%\n"
     ]
    },
    {
     "name": "stderr",
     "output_type": "stream",
     "text": [
      "Epoch 12: 100%|██████████| 84/84 [00:00<00:00, 85.08it/s]\n"
     ]
    },
    {
     "name": "stdout",
     "output_type": "stream",
     "text": [
      "\n",
      "Epoch: 12 \tTraining Loss: 0.2313 \tValidation Loss: 0.2888 \tTest Loss: 0.2888\n",
      "\t\tTraining Accuracy: 61.31%\t Validation Accuracy: 33.33%\t Test Accuracy: 33.33%\n"
     ]
    },
    {
     "name": "stderr",
     "output_type": "stream",
     "text": [
      "Epoch 13: 100%|██████████| 84/84 [00:00<00:00, 87.02it/s]\n"
     ]
    },
    {
     "name": "stdout",
     "output_type": "stream",
     "text": [
      "\n",
      "Epoch: 13 \tTraining Loss: 0.2442 \tValidation Loss: 0.4226 \tTest Loss: 0.4226\n",
      "\t\tTraining Accuracy: 61.90%\t Validation Accuracy: 33.33%\t Test Accuracy: 33.33%\n"
     ]
    },
    {
     "name": "stderr",
     "output_type": "stream",
     "text": [
      "Epoch 14: 100%|██████████| 84/84 [00:00<00:00, 89.48it/s]\n"
     ]
    },
    {
     "name": "stdout",
     "output_type": "stream",
     "text": [
      "\n",
      "Epoch: 14 \tTraining Loss: 0.2376 \tValidation Loss: 0.2819 \tTest Loss: 0.2819\n",
      "\t\tTraining Accuracy: 61.90%\t Validation Accuracy: 33.33%\t Test Accuracy: 33.33%\n"
     ]
    },
    {
     "name": "stderr",
     "output_type": "stream",
     "text": [
      "Epoch 15: 100%|██████████| 84/84 [00:00<00:00, 89.58it/s]\n"
     ]
    },
    {
     "name": "stdout",
     "output_type": "stream",
     "text": [
      "\n",
      "Epoch: 15 \tTraining Loss: 0.2362 \tValidation Loss: 0.2741 \tTest Loss: 0.2741\n",
      "\t\tTraining Accuracy: 61.31%\t Validation Accuracy: 33.33%\t Test Accuracy: 33.33%\n"
     ]
    },
    {
     "name": "stderr",
     "output_type": "stream",
     "text": [
      "Epoch 16: 100%|██████████| 84/84 [00:00<00:00, 89.76it/s]\n"
     ]
    },
    {
     "name": "stdout",
     "output_type": "stream",
     "text": [
      "\n",
      "Epoch: 16 \tTraining Loss: 0.2333 \tValidation Loss: 0.3084 \tTest Loss: 0.3084\n",
      "\t\tTraining Accuracy: 61.31%\t Validation Accuracy: 33.33%\t Test Accuracy: 33.33%\n"
     ]
    },
    {
     "name": "stderr",
     "output_type": "stream",
     "text": [
      "Epoch 17: 100%|██████████| 84/84 [00:00<00:00, 89.57it/s]\n"
     ]
    },
    {
     "name": "stdout",
     "output_type": "stream",
     "text": [
      "\n",
      "Epoch: 17 \tTraining Loss: 0.2304 \tValidation Loss: 0.2946 \tTest Loss: 0.2946\n",
      "\t\tTraining Accuracy: 60.71%\t Validation Accuracy: 33.33%\t Test Accuracy: 33.33%\n"
     ]
    },
    {
     "name": "stderr",
     "output_type": "stream",
     "text": [
      "Epoch 18: 100%|██████████| 84/84 [00:00<00:00, 87.51it/s]\n"
     ]
    },
    {
     "name": "stdout",
     "output_type": "stream",
     "text": [
      "\n",
      "Epoch: 18 \tTraining Loss: 0.2376 \tValidation Loss: 0.2688 \tTest Loss: 0.2688\n",
      "\t\tTraining Accuracy: 61.90%\t Validation Accuracy: 33.33%\t Test Accuracy: 33.33%\n"
     ]
    },
    {
     "name": "stderr",
     "output_type": "stream",
     "text": [
      "Epoch 19: 100%|██████████| 84/84 [00:01<00:00, 77.57it/s]\n"
     ]
    },
    {
     "name": "stdout",
     "output_type": "stream",
     "text": [
      "\n",
      "Epoch: 19 \tTraining Loss: 0.2252 \tValidation Loss: 0.3155 \tTest Loss: 0.3155\n",
      "\t\tTraining Accuracy: 61.90%\t Validation Accuracy: 33.33%\t Test Accuracy: 33.33%\n"
     ]
    },
    {
     "name": "stderr",
     "output_type": "stream",
     "text": [
      "Epoch 20: 100%|██████████| 84/84 [00:01<00:00, 83.56it/s]\n"
     ]
    },
    {
     "name": "stdout",
     "output_type": "stream",
     "text": [
      "\n",
      "Epoch: 20 \tTraining Loss: 0.2312 \tValidation Loss: 0.3007 \tTest Loss: 0.3007\n",
      "\t\tTraining Accuracy: 61.31%\t Validation Accuracy: 33.33%\t Test Accuracy: 33.33%\n"
     ]
    },
    {
     "name": "stderr",
     "output_type": "stream",
     "text": [
      "Epoch 21: 100%|██████████| 84/84 [00:01<00:00, 76.14it/s]\n"
     ]
    },
    {
     "name": "stdout",
     "output_type": "stream",
     "text": [
      "\n",
      "Epoch: 21 \tTraining Loss: 0.2270 \tValidation Loss: 0.2836 \tTest Loss: 0.2836\n",
      "\t\tTraining Accuracy: 61.90%\t Validation Accuracy: 33.33%\t Test Accuracy: 33.33%\n"
     ]
    },
    {
     "name": "stderr",
     "output_type": "stream",
     "text": [
      "Epoch 22: 100%|██████████| 84/84 [00:01<00:00, 62.14it/s]\n"
     ]
    },
    {
     "name": "stdout",
     "output_type": "stream",
     "text": [
      "\n",
      "Epoch: 22 \tTraining Loss: 0.2314 \tValidation Loss: 0.2607 \tTest Loss: 0.2607\n",
      "\t\tTraining Accuracy: 61.90%\t Validation Accuracy: 33.33%\t Test Accuracy: 33.33%\n"
     ]
    },
    {
     "name": "stderr",
     "output_type": "stream",
     "text": [
      "Epoch 23: 100%|██████████| 84/84 [00:01<00:00, 58.90it/s]\n"
     ]
    },
    {
     "name": "stdout",
     "output_type": "stream",
     "text": [
      "\n",
      "Epoch: 23 \tTraining Loss: 0.2292 \tValidation Loss: 0.3344 \tTest Loss: 0.3344\n",
      "\t\tTraining Accuracy: 63.10%\t Validation Accuracy: 33.33%\t Test Accuracy: 33.33%\n"
     ]
    },
    {
     "name": "stderr",
     "output_type": "stream",
     "text": [
      "Epoch 24: 100%|██████████| 84/84 [00:01<00:00, 70.20it/s]\n"
     ]
    },
    {
     "name": "stdout",
     "output_type": "stream",
     "text": [
      "\n",
      "Epoch: 24 \tTraining Loss: 0.2305 \tValidation Loss: 0.2899 \tTest Loss: 0.2899\n",
      "\t\tTraining Accuracy: 60.71%\t Validation Accuracy: 33.33%\t Test Accuracy: 33.33%\n"
     ]
    },
    {
     "name": "stderr",
     "output_type": "stream",
     "text": [
      "Epoch 25: 100%|██████████| 84/84 [00:01<00:00, 64.65it/s]\n"
     ]
    },
    {
     "name": "stdout",
     "output_type": "stream",
     "text": [
      "\n",
      "Epoch: 25 \tTraining Loss: 0.2282 \tValidation Loss: 0.2449 \tTest Loss: 0.2449\n",
      "\t\tTraining Accuracy: 60.12%\t Validation Accuracy: 33.33%\t Test Accuracy: 33.33%\n"
     ]
    },
    {
     "name": "stderr",
     "output_type": "stream",
     "text": [
      "Epoch 26: 100%|██████████| 84/84 [00:01<00:00, 59.42it/s]\n"
     ]
    },
    {
     "name": "stdout",
     "output_type": "stream",
     "text": [
      "\n",
      "Epoch: 26 \tTraining Loss: 0.2264 \tValidation Loss: 0.2946 \tTest Loss: 0.2946\n",
      "\t\tTraining Accuracy: 61.90%\t Validation Accuracy: 33.33%\t Test Accuracy: 33.33%\n"
     ]
    },
    {
     "name": "stderr",
     "output_type": "stream",
     "text": [
      "Epoch 27: 100%|██████████| 84/84 [00:01<00:00, 57.36it/s]\n"
     ]
    },
    {
     "name": "stdout",
     "output_type": "stream",
     "text": [
      "\n",
      "Epoch: 27 \tTraining Loss: 0.2268 \tValidation Loss: 0.3442 \tTest Loss: 0.3442\n",
      "\t\tTraining Accuracy: 61.31%\t Validation Accuracy: 33.33%\t Test Accuracy: 33.33%\n"
     ]
    },
    {
     "name": "stderr",
     "output_type": "stream",
     "text": [
      "Epoch 28: 100%|██████████| 84/84 [00:01<00:00, 59.62it/s]\n"
     ]
    },
    {
     "name": "stdout",
     "output_type": "stream",
     "text": [
      "\n",
      "Epoch: 28 \tTraining Loss: 0.2288 \tValidation Loss: 0.2871 \tTest Loss: 0.2871\n",
      "\t\tTraining Accuracy: 63.10%\t Validation Accuracy: 33.33%\t Test Accuracy: 33.33%\n"
     ]
    },
    {
     "name": "stderr",
     "output_type": "stream",
     "text": [
      "Epoch 29: 100%|██████████| 84/84 [00:01<00:00, 60.01it/s]\n"
     ]
    },
    {
     "name": "stdout",
     "output_type": "stream",
     "text": [
      "\n",
      "Epoch: 29 \tTraining Loss: 0.2225 \tValidation Loss: 0.3134 \tTest Loss: 0.3134\n",
      "\t\tTraining Accuracy: 64.29%\t Validation Accuracy: 33.33%\t Test Accuracy: 33.33%\n"
     ]
    },
    {
     "name": "stderr",
     "output_type": "stream",
     "text": [
      "Epoch 30: 100%|██████████| 84/84 [00:01<00:00, 55.97it/s]\n"
     ]
    },
    {
     "name": "stdout",
     "output_type": "stream",
     "text": [
      "\n",
      "Epoch: 30 \tTraining Loss: 0.2223 \tValidation Loss: 0.2987 \tTest Loss: 0.2987\n",
      "\t\tTraining Accuracy: 66.07%\t Validation Accuracy: 33.33%\t Test Accuracy: 33.33%\n",
      "\n",
      "Early Stopping! Total epochs: 30. Best epoch: 0 with loss: 0.33 and acc: 33.33%\n",
      "35.63 total seconds elapsed. 1.15 seconds per epoch.\n",
      "Test Loss: 0.3255,  Test Accuracy: 33.33%\n",
      "completed fold 1\n",
      "#############################################################\n",
      "Cummulative Confusion Matrix\n",
      "[[0 2]\n",
      " [0 1]]\n",
      "Overall Test Accuracy: 33.33\n",
      "#############################################################\n"
     ]
    }
   ],
   "source": [
    "%run -i Train.py"
   ]
  },
  {
   "cell_type": "markdown",
   "metadata": {},
   "source": [
    "## Test"
   ]
  },
  {
   "cell_type": "code",
   "execution_count": null,
   "metadata": {},
   "outputs": [
    {
     "name": "stdout",
     "output_type": "stream",
     "text": [
      "Config file 'Config_Test.ini' created\n"
     ]
    }
   ],
   "source": [
    "# CREATE OBJECT\n",
    "config_file = configparser.ConfigParser()\n",
    "# ADD NEW SECTION AND SETTINGS\n",
    "config_file[\"TEST\"] = {\n",
    "    'parentdir': '',  # Root or Parent Directory\n",
    "    'datafile': 'Data',  # Folder containing the dataset\n",
    "    'batch_size': 1,  # Batch Size, Change to fit hardware\n",
    "    'lossType': 'SoftM_MSE',  # loss function: 'SoftM_CELoss' or 'SoftM_MSE' or 'MSE'\n",
    "    'num_folds': 1,  # number of cross validation folds\n",
    "    'CI': 0.9,  # Confidence interval (missied cases with probability>=CI will be reported in excel file)\n",
    "    'load_model': False,  # specify path of pretrained model wieghts or set to False to train from scratch\n",
    "    'load_model_path': 'Results_Classification\\RODNet_Occp_Classification\\Fold_1\\RODNet_Occp_Classification_fold_1.pt',  # specify path of pretrained model wieghts or set to False to train from scratch\n",
    "    'labeled_data': True,  # set to true if you have the labeled test set\n",
    "    'model_name': 'RODNet_Occp_Classification',  # name of the saved model\n",
    "    'aux_logits': False,  # Required for models with auxilliary outputs (e.g., InceptionV3)  \n",
    "    'fold_start': 1,  # The starting fold for training\n",
    "    'fold_last': 1,  # The last fold for training\n",
    "    'N_steps': 1000,  # The last fold for training\n",
    "    'results_path': 'Results_Classification',  # main results folder\n",
    "}\n",
    "# SAVE CONFIG FILE\n",
    "with open(r\"Config_Test.ini\", 'w') as configfileObj:\n",
    "    config_file.write(configfileObj)\n",
    "    configfileObj.flush()\n",
    "    configfileObj.close()\n",
    "print(\"Config file 'Config_Test.ini' created\")"
   ]
  },
  {
   "cell_type": "code",
   "execution_count": null,
   "metadata": {},
   "outputs": [],
   "source": [
    "%run -i Test.py"
   ]
  },
  {
   "cell_type": "markdown",
   "metadata": {},
   "source": []
  },
  {
   "cell_type": "code",
   "execution_count": null,
   "metadata": {},
   "outputs": [],
   "source": []
  }
 ],
 "metadata": {
  "accelerator": "GPU",
  "colab": {
   "collapsed_sections": [
    "tgW7r0C9TuZk",
    "Kir80l1FKPXB",
    "vMHdM26iekBm",
    "VUciLEJeyvyN",
    "WesN7p7AeYK4"
   ],
   "machine_shape": "hm",
   "name": "1D_CNN_Segmentation_End2End_Pipeline.ipynb",
   "provenance": []
  },
  "kernelspec": {
   "display_name": "Python 3 (ipykernel)",
   "language": "python",
   "name": "python3"
  },
  "language_info": {
   "codemirror_mode": {
    "name": "ipython",
    "version": 3
   },
   "file_extension": ".py",
   "mimetype": "text/x-python",
   "name": "python",
   "nbconvert_exporter": "python",
   "pygments_lexer": "ipython3",
   "version": "3.11.6"
  }
 },
 "nbformat": 4,
 "nbformat_minor": 1
}
